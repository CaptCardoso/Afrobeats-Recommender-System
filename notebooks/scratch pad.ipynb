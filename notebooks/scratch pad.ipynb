{
 "cells": [
  {
   "cell_type": "code",
   "execution_count": null,
   "id": "df67eda2-5cbe-4f3b-be5e-5f1125410724",
   "metadata": {},
   "outputs": [],
   "source": [
    "def get_track_info(playlist):\n",
    "    \n",
    "    #split the playlist_uri is at the end of the playlists url. I'll use the .split method to extract it\n",
    "    uri = playlist.split(\"/\")[-1].split(\"?\")[0]\n",
    "    \n",
    "    #from the spotipy library, use the playlist_tracks() method to extract each track from the playlist uri\n",
    "    #It comes in a nested dictionary format\n",
    "    \n",
    "    results = sp.playlist_tracks(uri)\n",
    "    tracks = results['items']\n",
    "    \n",
    "    while results['next']:\n",
    "        results = sp.next(results)\n",
    "        tracks.extend(results['items'])\n",
    "    \n",
    "    \n",
    "    #create an empty dictionary with the info we want to extract as columns\n",
    "    info = {\n",
    "    'track_uri':[],\n",
    "    'track_name':[],\n",
    "    'artist_name':[],\n",
    "    #'artist_info':[],\n",
    "    'artist_uri':[],\n",
    "    #'artist_popularity':[],\n",
    "    #'artist_genre':[],\n",
    "    'album':[],\n",
    "    'track_pop':[],\n",
    "    }\n",
    "    \n",
    "    features = {'danceability': [],\n",
    "     'energy': [],\n",
    "     'key': [],\n",
    "     'loudness': [],\n",
    "     'mode': [],\n",
    "     'speechiness': [],\n",
    "     'acousticness': [],\n",
    "     'instrumentalness': [],\n",
    "     'liveness': [],\n",
    "     'valence': [],\n",
    "     'tempo': [],\n",
    "     'type': [],\n",
    "     'id': [],\n",
    "     'uri': [],\n",
    "     'track_href': [],\n",
    "     'analysis_url': [],\n",
    "     'duration_ms': [],\n",
    "     'time_signature': []\n",
    "               }\n",
    "    \n",
    "    #using a for loop, get the the info for each song and put it into the empty dictionary\n",
    "    for track in tracks:\n",
    "        #URI\n",
    "        info['track_uri'].append((track[\"track\"][\"uri\"]).split(':')[2])\n",
    "\n",
    "        #Track name\n",
    "        info['track_name'].append(track[\"track\"][\"name\"])\n",
    "\n",
    "        #Main Artist\n",
    "        info['artist_uri'].append((track[\"track\"][\"artists\"][0][\"uri\"]).split(':')[2])\n",
    "        #info['artist_info'].append(sp.artist(track[\"track\"][\"artists\"][0][\"uri\"]))\n",
    "\n",
    "        #Name, popularity, genre\n",
    "        info['artist_name'].append(track[\"track\"][\"artists\"][0][\"name\"])\n",
    "        #info['artist_popularity'].append(sp.artist(track[\"track\"][\"artists\"][0][\"uri\"])[\"popularity\"])\n",
    "        #info['artist_genre'].append(sp.artist(track[\"track\"][\"artists\"][0][\"uri\"])[\"genres\"])\n",
    "\n",
    "        #Album\n",
    "        info['album'].append(track[\"track\"][\"album\"][\"name\"])\n",
    "\n",
    "        #Popularity of the track\n",
    "        info['track_pop'].append(track[\"track\"][\"popularity\"])\n",
    "        \n",
    "        #Transform the info dictionary into a dataframe\n",
    "        info_df = pd.DataFrame(info)\n",
    "        \n",
    "        #loop through the tracks to their features and assign it to the empty dictionary\n",
    "        track_uri = track[\"track\"][\"uri\"].split(':')[2] \n",
    "        \n",
    "        for key,value in (sp.audio_features(track_uri)[0]).items():\n",
    "            features[key].append(value)\n",
    "            \n",
    "        #time.sleep(1)\n",
    "        \n",
    "    #Transform the features dictionary into a dataframe\n",
    "    features_df = pd.DataFrame(features)\n",
    "    \n",
    "    #drop features we do not need\n",
    "    #features_df.drop(columns=['type','id','uri','track_href','analysis_url','duration_ms','time_signature'], inplace=True)   \n",
    "    \n",
    "    \n",
    "    \n",
    "     \n",
    "    \n",
    "    return info_df.join(features_df)\n",
    "        "
   ]
  },
  {
   "cell_type": "code",
   "execution_count": 1,
   "id": "3666a53e-d151-430b-b1b9-8e5b663f6afd",
   "metadata": {},
   "outputs": [],
   "source": [
    "def recommend_afrobeats(track_names):\n",
    "    top_ten_df = pd.DataFrame(columns=df.columns)\n",
    "    top_ten_list = []\n",
    "    \n",
    "    for track in track_names:\n",
    "        \n",
    "        for count in range(len(df)): \n",
    "            most_similar = recommender_df[track].sort_values(ascending=False).index[0]\n",
    "            \n",
    "            if most_similar in top_ten_list:\n",
    "                continue\n",
    "            \n",
    "            else:\n",
    "                top_ten_list.append(most_similar)\n",
    "                break\n",
    "                \n",
    "        \n",
    "        top_ten_df = pd.concat([top_ten_df, df[df['track_name']==most_similar]])\n",
    "        \n",
    "    return top_ten_df"
   ]
  },
  {
   "cell_type": "code",
   "execution_count": null,
   "id": "5c971243-51cc-42ff-a5b2-6b1509952694",
   "metadata": {},
   "outputs": [],
   "source": []
  },
  {
   "cell_type": "markdown",
   "id": "70796790-31c3-44ed-ac78-b71e27cefca7",
   "metadata": {},
   "source": [
    "#### Get the sub-genre"
   ]
  },
  {
   "cell_type": "markdown",
   "id": "48e01c59-4f1b-48e7-9b1d-182cef59c253",
   "metadata": {},
   "source": [
    "Spotify places the genre of each song as the first item in the artist_genre list.\n",
    "\n",
    "This function gets the first item in the artist_genre list and sets it as the sub-genre."
   ]
  },
  {
   "cell_type": "code",
   "execution_count": null,
   "id": "bc6686b4-e0b5-40a4-a1c6-b1822504e9b5",
   "metadata": {},
   "outputs": [],
   "source": []
  },
  {
   "cell_type": "markdown",
   "id": "599aa2fa-bbe8-4602-95e1-00c778f2026c",
   "metadata": {},
   "source": [
    "### Get top Afrobeats songs from 2011 to 2022"
   ]
  },
  {
   "cell_type": "code",
   "execution_count": null,
   "id": "4b91e79e-0f22-44c7-bcdb-45c6e0c72037",
   "metadata": {},
   "outputs": [],
   "source": [
    "afrobeats_url_2011 = 'https://open.spotify.com/playlist/7IFO0RwgGq1GTZYH52FtJK'"
   ]
  },
  {
   "cell_type": "code",
   "execution_count": null,
   "id": "e183dda4-7bcd-40d2-9700-500e49c4a295",
   "metadata": {},
   "outputs": [],
   "source": [
    "afrobeats_url_2012 = 'https://open.spotify.com/playlist/0IsKxqhBrseS4cjSvCZI7I'"
   ]
  },
  {
   "cell_type": "code",
   "execution_count": null,
   "id": "a05f67c8-4196-4032-a019-8b973ead6705",
   "metadata": {},
   "outputs": [],
   "source": [
    "afrobeats_url_2013 = 'https://open.spotify.com/playlist/2NXEKf7dKn0NNQCuj4Rniz'"
   ]
  },
  {
   "cell_type": "code",
   "execution_count": null,
   "id": "12b4d14b-59c7-4917-ab8f-3ecb00ee938f",
   "metadata": {},
   "outputs": [],
   "source": [
    "afrobeats_url_2014 = 'https://open.spotify.com/playlist/6Vy0hXleg1ojR4mq57w4Fg'"
   ]
  },
  {
   "cell_type": "code",
   "execution_count": null,
   "id": "54327ac8-99bb-4a35-a862-67a53d3e60f7",
   "metadata": {},
   "outputs": [],
   "source": [
    "afrobeats_url_2015 = 'https://open.spotify.com/playlist/2fJOQI1m08OKVvjqZyJjCJ'"
   ]
  },
  {
   "cell_type": "code",
   "execution_count": null,
   "id": "efecbebe-8945-40b5-ab5f-e9d7f51123af",
   "metadata": {},
   "outputs": [],
   "source": [
    "afrobeats_url_2016 = 'https://open.spotify.com/playlist/5D8Ri2l5XSAsuzZrRVvFqR'"
   ]
  },
  {
   "cell_type": "code",
   "execution_count": null,
   "id": "8cc984e1-daa8-42e0-81b1-d92ed94f5d8d",
   "metadata": {},
   "outputs": [],
   "source": [
    "afrobeats_url_2017 = 'https://open.spotify.com/playlist/1yEJSlGQtlpJKTKYEtIed9'"
   ]
  },
  {
   "cell_type": "code",
   "execution_count": null,
   "id": "3216dadc-4cb5-4327-8153-f194e3bb1ad5",
   "metadata": {},
   "outputs": [],
   "source": [
    "afrobeats_url_2018 = 'https://open.spotify.com/playlist/4KOcyBABIVdTsTGQCK83CP'"
   ]
  },
  {
   "cell_type": "code",
   "execution_count": null,
   "id": "3f66e2ad-5709-4af4-b26f-03f4cd6484aa",
   "metadata": {},
   "outputs": [],
   "source": [
    "afrobeats_url_2019 = 'https://open.spotify.com/playlist/0n79FLMnGldYuQ4yHymtlg'"
   ]
  },
  {
   "cell_type": "code",
   "execution_count": null,
   "id": "90cde6f1-269c-433a-986d-592c33ec8aa6",
   "metadata": {},
   "outputs": [],
   "source": [
    "afrobeats_url_2020 = 'https://open.spotify.com/playlist/7FEPeJeFl364hbm94hUWbo'"
   ]
  },
  {
   "cell_type": "code",
   "execution_count": null,
   "id": "dc6e3eea-2ca2-4c4f-934a-b84e0e557328",
   "metadata": {},
   "outputs": [],
   "source": [
    "afrobeats_url_2021 = 'https://open.spotify.com/playlist/2WiB3m5N21XCO4CP3eKrLP'"
   ]
  },
  {
   "cell_type": "code",
   "execution_count": null,
   "id": "64a2dffa-b1ab-4fc6-aed7-6baa9863ead6",
   "metadata": {},
   "outputs": [],
   "source": [
    "afrobeats_url_2022 = 'https://open.spotify.com/playlist/0aUt6gxNcV6B2La64Bm4D5'"
   ]
  },
  {
   "cell_type": "markdown",
   "id": "4ad30152-e4a4-4880-9239-0b1c2fd291e7",
   "metadata": {},
   "source": [
    "#### Function to get create a dataframe of all the songs from 2011 to 2012"
   ]
  },
  {
   "cell_type": "code",
   "execution_count": null,
   "id": "aa818f12-6e06-45b1-832a-1f47e6673190",
   "metadata": {},
   "outputs": [],
   "source": [
    "afrobeats_2011 = get_track_info(afrobeats_url_2011)"
   ]
  },
  {
   "cell_type": "code",
   "execution_count": null,
   "id": "d0fb2629-005f-4ba8-b651-f5fe3c1a578e",
   "metadata": {},
   "outputs": [],
   "source": [
    "year_list = [afrobeats_url_2011, afrobeats_url_2012, afrobeats_url_2013, afrobeats_url_2014, afrobeats_url_2015, afrobeats_url_2016,\n",
    "            afrobeats_url_2017,afrobeats_url_2018]"
   ]
  },
  {
   "cell_type": "code",
   "execution_count": 2,
   "id": "cc8a615e-b6bf-4b5e-b947-734da79565dc",
   "metadata": {},
   "outputs": [
    {
     "ename": "IndentationError",
     "evalue": "expected an indented block after 'for' statement on line 1 (80920503.py, line 2)",
     "output_type": "error",
     "traceback": [
      "\u001b[0;36m  Input \u001b[0;32mIn [2]\u001b[0;36m\u001b[0m\n\u001b[0;31m    \u001b[0m\n\u001b[0m    ^\u001b[0m\n\u001b[0;31mIndentationError\u001b[0m\u001b[0;31m:\u001b[0m expected an indented block after 'for' statement on line 1\n"
     ]
    }
   ],
   "source": [
    "for playlist in year_list:\n",
    "    "
   ]
  },
  {
   "cell_type": "code",
   "execution_count": null,
   "id": "86b78777-1740-43a9-9df4-011670e75444",
   "metadata": {},
   "outputs": [],
   "source": []
  },
  {
   "cell_type": "code",
   "execution_count": null,
   "id": "92b29c04-6c28-409a-b3c9-f0d12d0594ac",
   "metadata": {},
   "outputs": [],
   "source": [
    "results = sp.playlist_tracks('6qzbkhrmxdFj5TtaXR0sfI')\n",
    "tracks = results['items']\n",
    "    \n",
    "while results['next']:\n",
    "    results = sp.next(results)\n",
    "    tracks.extend(results['items'])\n"
   ]
  }
 ],
 "metadata": {
  "kernelspec": {
   "display_name": "Python 3 (ipykernel)",
   "language": "python",
   "name": "python3"
  },
  "language_info": {
   "codemirror_mode": {
    "name": "ipython",
    "version": 3
   },
   "file_extension": ".py",
   "mimetype": "text/x-python",
   "name": "python",
   "nbconvert_exporter": "python",
   "pygments_lexer": "ipython3",
   "version": "3.10.2"
  },
  "widgets": {
   "application/vnd.jupyter.widget-state+json": {
    "state": {},
    "version_major": 2,
    "version_minor": 0
   }
  }
 },
 "nbformat": 4,
 "nbformat_minor": 5
}
