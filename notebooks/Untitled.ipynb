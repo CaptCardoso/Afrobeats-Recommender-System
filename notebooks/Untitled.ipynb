{
 "cells": [
  {
   "cell_type": "code",
   "execution_count": null,
   "id": "3666a53e-d151-430b-b1b9-8e5b663f6afd",
   "metadata": {},
   "outputs": [],
   "source": [
    "def recommend_afrobeats(track_names):\n",
    "    top_ten_df = pd.DataFrame(columns=df.columns)\n",
    "    top_ten_list = []\n",
    "    \n",
    "    for track in track_names:\n",
    "        \n",
    "        for count in range(len(df)): \n",
    "            most_similar = recommender_df[track].sort_values(ascending=False).index[0]\n",
    "            \n",
    "            if most_similar in top_ten_list:\n",
    "                continue\n",
    "            \n",
    "            else:\n",
    "                top_ten_list.append(most_similar)\n",
    "                break\n",
    "                \n",
    "        \n",
    "        top_ten_df = pd.concat([top_ten_df, df[df['track_name']==most_similar]])\n",
    "        \n",
    "    return top_ten_df"
   ]
  }
 ],
 "metadata": {
  "kernelspec": {
   "display_name": "Python 3 (ipykernel)",
   "language": "python",
   "name": "python3"
  },
  "language_info": {
   "codemirror_mode": {
    "name": "ipython",
    "version": 3
   },
   "file_extension": ".py",
   "mimetype": "text/x-python",
   "name": "python",
   "nbconvert_exporter": "python",
   "pygments_lexer": "ipython3",
   "version": "3.10.2"
  },
  "widgets": {
   "application/vnd.jupyter.widget-state+json": {
    "state": {},
    "version_major": 2,
    "version_minor": 0
   }
  }
 },
 "nbformat": 4,
 "nbformat_minor": 5
}
