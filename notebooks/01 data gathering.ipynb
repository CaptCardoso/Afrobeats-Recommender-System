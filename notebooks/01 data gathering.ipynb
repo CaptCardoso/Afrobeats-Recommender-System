{
 "cells": [
  {
   "cell_type": "markdown",
   "id": "cccd6e15-85d3-4d5b-8ab2-c84ed6e4392d",
   "metadata": {},
   "source": [
    "<img src=\"../images/felipepelaquim-9c7CK4BemmA-unsplash.jpg\"  style=\"float: center; margin: 0px; height: 350px; width: 1000px\"> "
   ]
  },
  {
   "cell_type": "markdown",
   "id": "fc50c665-3042-44ed-83ab-ccc65c6589e2",
   "metadata": {},
   "source": [
    "# Afrobeats influence in Hip Hop"
   ]
  },
  {
   "cell_type": "code",
   "execution_count": 2,
   "id": "89b69dd1-7ea9-4346-918a-f15e8d357a5f",
   "metadata": {},
   "outputs": [],
   "source": [
    "import pandas as pd\n",
    "import numpy as np\n",
    "import matplotlib.pyplot as plt\n",
    "import seaborn as sns\n",
    "import spotipy\n",
    "from spotipy.oauth2 import SpotifyClientCredentials\n",
    "\n",
    "from sklearn.datasets import make_blobs\n",
    "from sklearn.cluster import KMeans\n",
    "from sklearn.metrics import silhouette_score\n",
    "from sklearn.preprocessing import StandardScaler\n",
    "from sklearn.pipeline import Pipeline\n",
    "\n",
    "import time"
   ]
  },
  {
   "cell_type": "code",
   "execution_count": 3,
   "id": "e978974b-d535-4ee2-9753-f7a761e82124",
   "metadata": {},
   "outputs": [],
   "source": [
    "#Authentication\n",
    "client_credentials_manager = SpotifyClientCredentials(client_id = '2101cd224f5948e19c4c782d76744ed3',\n",
    "                                                      client_secret = '879abdfca432449facc9d8566fb40ab6')"
   ]
  },
  {
   "cell_type": "markdown",
   "id": "87369f49-de3a-49f6-b966-02bae099e353",
   "metadata": {},
   "source": [
    "Create spotipy object using SpotifyClientCredentials"
   ]
  },
  {
   "cell_type": "code",
   "execution_count": 4,
   "id": "4c480c62-3593-4ffb-bf5f-6b052e084cd7",
   "metadata": {},
   "outputs": [],
   "source": [
    "sp = spotipy.Spotify(client_credentials_manager = client_credentials_manager)"
   ]
  },
  {
   "cell_type": "code",
   "execution_count": 5,
   "id": "40113fde-7a20-42aa-8ad1-c00096b745fd",
   "metadata": {},
   "outputs": [],
   "source": [
    "# results = sp.playlist_tracks('5ZCzd0nCLqiIX1jwQWfazW')\n",
    "# tracks = results['items']\n",
    "    \n",
    "# while results['next']:\n",
    "#     results = sp.next(results)\n",
    "#     tracks.extend(results['items'])\n",
    "\n",
    "# tracks[4]['track'].keys()\n",
    "\n",
    "# tracks[4]['track']['uri']"
   ]
  },
  {
   "cell_type": "markdown",
   "id": "71efebfe-c0a7-4491-b658-d94326acb731",
   "metadata": {},
   "source": [
    "## Get song info"
   ]
  },
  {
   "cell_type": "markdown",
   "id": "2712e24c-0a59-44f3-965d-88041a0bdefc",
   "metadata": {},
   "source": [
    "Create a function that takes in a playlist of songs and extracts the songs information and features such as artist name, genre, album name, track_uri, danceability, energy, loudness, instrumentalness etc"
   ]
  },
  {
   "cell_type": "code",
   "execution_count": 6,
   "id": "e7905506-086a-40c3-aa47-033d687fee69",
   "metadata": {},
   "outputs": [],
   "source": [
    "def get_track_info(playlist):\n",
    "    \n",
    "    #split the playlist_uri is at the end of the playlists url. I'll use the .split method to extract it\n",
    "    uri = playlist.split(\"/\")[-1].split(\"?\")[0]\n",
    "    \n",
    "    #from the spotipy library, use the playlist_tracks() method to extract each track from the playlist uri\n",
    "    #It comes in a nested dictionary format\n",
    "    \n",
    "    results = sp.playlist_tracks(uri)\n",
    "    tracks = results['items']\n",
    "    \n",
    "    while results['next']:\n",
    "        results = sp.next(results)\n",
    "        tracks.extend(results['items'])\n",
    "    \n",
    "    \n",
    "    #create an empty dictionary with the info we want to extract as columns\n",
    "    info = {\n",
    "    'track_uri':[],\n",
    "    'track_name':[],\n",
    "    'artist_name':[],\n",
    "    'artist_info':[],\n",
    "    'artist_uri':[],\n",
    "    'artist_popularity':[],\n",
    "    'artist_genre':[],\n",
    "    'album':[],\n",
    "    'track_pop':[],\n",
    "    }\n",
    "    \n",
    "    features = {'danceability': [],\n",
    "     'energy': [],\n",
    "     'key': [],\n",
    "     'loudness': [],\n",
    "     'mode': [],\n",
    "     'speechiness': [],\n",
    "     'acousticness': [],\n",
    "     'instrumentalness': [],\n",
    "     'liveness': [],\n",
    "     'valence': [],\n",
    "     'tempo': [],\n",
    "     'type': [],\n",
    "     'id': [],\n",
    "     'uri': [],\n",
    "     'track_href': [],\n",
    "     'analysis_url': [],\n",
    "     'duration_ms': [],\n",
    "     'time_signature': []\n",
    "               }\n",
    "    \n",
    "    #using a for loop, get the the info for each song and put it into the empty dictionary\n",
    "    for track in tracks:\n",
    "        #URI\n",
    "        info['track_uri'].append((track[\"track\"][\"uri\"]).split(':')[2])\n",
    "\n",
    "        #Track name\n",
    "        info['track_name'].append(track[\"track\"][\"name\"])\n",
    "\n",
    "        #Main Artist\n",
    "        info['artist_uri'].append((track[\"track\"][\"artists\"][0][\"uri\"]).split(':')[2])\n",
    "        info['artist_info'].append(sp.artist(track[\"track\"][\"artists\"][0][\"uri\"]))\n",
    "\n",
    "        #Name, popularity, genre\n",
    "        info['artist_name'].append(track[\"track\"][\"artists\"][0][\"name\"])\n",
    "        info['artist_popularity'].append(sp.artist(track[\"track\"][\"artists\"][0][\"uri\"])[\"popularity\"])\n",
    "        info['artist_genre'].append(sp.artist(track[\"track\"][\"artists\"][0][\"uri\"])[\"genres\"])\n",
    "\n",
    "        #Album\n",
    "        info['album'].append(track[\"track\"][\"album\"][\"name\"])\n",
    "\n",
    "        #Popularity of the track\n",
    "        info['track_pop'].append(track[\"track\"][\"popularity\"])\n",
    "        \n",
    "        #Transform the info dictionary into a dataframe\n",
    "        info_df = pd.DataFrame(info)\n",
    "        \n",
    "        #loop through the tracks to their features and assign it to the empty dictionary\n",
    "        track_uri = track[\"track\"][\"uri\"].split(':')[2] \n",
    "        \n",
    "        try:\n",
    "            for key,value in (sp.audio_features(track_uri)[0]).items():\n",
    "                features[key].append(value)\n",
    "            \n",
    "        except:\n",
    "            print(f'failed on track {track[\"track\"][\"name\"]}')\n",
    "            continue\n",
    "        #time.sleep(1)\n",
    "        \n",
    "    #Transform the features dictionary into a dataframe\n",
    "    features_df = pd.DataFrame(features)\n",
    "    \n",
    "    #drop features we do not need\n",
    "    #features_df.drop(columns=['type','id','uri','track_href','analysis_url','duration_ms','time_signature'], inplace=True)   \n",
    "    \n",
    "    \n",
    "    \n",
    "     \n",
    "    \n",
    "    return info_df.join(features_df)\n",
    "        "
   ]
  },
  {
   "cell_type": "markdown",
   "id": "a1643f1c-c703-4073-a781-ec176f8f8159",
   "metadata": {},
   "source": [
    "#### Create dataframe of users playlist"
   ]
  },
  {
   "cell_type": "markdown",
   "id": "2187ce6e-fa3a-4e2d-8a12-15124d9c84d8",
   "metadata": {},
   "source": [
    "#### Afrobeats playlist"
   ]
  },
  {
   "cell_type": "code",
   "execution_count": 7,
   "id": "e9b0dd85-4dc8-437c-9eeb-a9fcba330859",
   "metadata": {},
   "outputs": [],
   "source": [
    "def raw_data(user_playlist_url, genre):\n",
    "    user_playlist_info = get_track_info(user_playlist_url)\n",
    "    #add user genre\n",
    "    user_playlist_info.loc[:,'genre'] = genre\n",
    "    return user_playlist_info"
   ]
  },
  {
   "cell_type": "code",
   "execution_count": 18,
   "id": "f59c9db3-4457-4fec-bd54-861fb53e4924",
   "metadata": {},
   "outputs": [],
   "source": [
    "afrobeats_playlist_url= \"https://open.spotify.com/playlist/5ZCzd0nCLqiIX1jwQWfazW\""
   ]
  },
  {
   "cell_type": "code",
   "execution_count": 19,
   "id": "0a7f1119-c30e-434d-9ba5-01505cf76246",
   "metadata": {},
   "outputs": [
    {
     "name": "stdout",
     "output_type": "stream",
     "text": [
      "failed on track Lonely\n"
     ]
    }
   ],
   "source": [
    "afrobeats_df = raw_data(afrobeats_playlist_url, 'afrobeats')"
   ]
  },
  {
   "cell_type": "code",
   "execution_count": 20,
   "id": "8c10dc33-d8d2-439f-a62b-f63dc6edfd7a",
   "metadata": {},
   "outputs": [
    {
     "data": {
      "text/html": [
       "<div>\n",
       "<style scoped>\n",
       "    .dataframe tbody tr th:only-of-type {\n",
       "        vertical-align: middle;\n",
       "    }\n",
       "\n",
       "    .dataframe tbody tr th {\n",
       "        vertical-align: top;\n",
       "    }\n",
       "\n",
       "    .dataframe thead th {\n",
       "        text-align: right;\n",
       "    }\n",
       "</style>\n",
       "<table border=\"1\" class=\"dataframe\">\n",
       "  <thead>\n",
       "    <tr style=\"text-align: right;\">\n",
       "      <th></th>\n",
       "      <th>track_uri</th>\n",
       "      <th>track_name</th>\n",
       "      <th>artist_name</th>\n",
       "      <th>artist_info</th>\n",
       "      <th>artist_uri</th>\n",
       "      <th>artist_popularity</th>\n",
       "      <th>artist_genre</th>\n",
       "      <th>album</th>\n",
       "      <th>track_pop</th>\n",
       "      <th>danceability</th>\n",
       "      <th>...</th>\n",
       "      <th>valence</th>\n",
       "      <th>tempo</th>\n",
       "      <th>type</th>\n",
       "      <th>id</th>\n",
       "      <th>uri</th>\n",
       "      <th>track_href</th>\n",
       "      <th>analysis_url</th>\n",
       "      <th>duration_ms</th>\n",
       "      <th>time_signature</th>\n",
       "      <th>genre</th>\n",
       "    </tr>\n",
       "  </thead>\n",
       "  <tbody>\n",
       "    <tr>\n",
       "      <th>0</th>\n",
       "      <td>0mDRuZmReEm6DquPLJlcEm</td>\n",
       "      <td>Oleku (feat. Brymo)</td>\n",
       "      <td>Ice Prince</td>\n",
       "      <td>{'external_urls': {'spotify': 'https://open.sp...</td>\n",
       "      <td>1sSt1DqqqFLkPwfrqafVyn</td>\n",
       "      <td>54</td>\n",
       "      <td>[afro dancehall, afropop, azontobeats, nigeria...</td>\n",
       "      <td>Oleku (feat. Brymo)</td>\n",
       "      <td>51</td>\n",
       "      <td>0.544</td>\n",
       "      <td>...</td>\n",
       "      <td>0.751</td>\n",
       "      <td>162.112</td>\n",
       "      <td>audio_features</td>\n",
       "      <td>0mDRuZmReEm6DquPLJlcEm</td>\n",
       "      <td>spotify:track:0mDRuZmReEm6DquPLJlcEm</td>\n",
       "      <td>https://api.spotify.com/v1/tracks/0mDRuZmReEm6...</td>\n",
       "      <td>https://api.spotify.com/v1/audio-analysis/0mDR...</td>\n",
       "      <td>291364.0</td>\n",
       "      <td>5.0</td>\n",
       "      <td>afrobeats</td>\n",
       "    </tr>\n",
       "    <tr>\n",
       "      <th>1</th>\n",
       "      <td>1tvi8tv0eykhNcV1WtaIqO</td>\n",
       "      <td>Move Back</td>\n",
       "      <td>5five</td>\n",
       "      <td>{'external_urls': {'spotify': 'https://open.sp...</td>\n",
       "      <td>37zb1JQnDV9dRLatrASEj1</td>\n",
       "      <td>29</td>\n",
       "      <td>[afro dancehall, azonto, hiplife]</td>\n",
       "      <td>Move Back</td>\n",
       "      <td>45</td>\n",
       "      <td>0.793</td>\n",
       "      <td>...</td>\n",
       "      <td>0.793</td>\n",
       "      <td>125.032</td>\n",
       "      <td>audio_features</td>\n",
       "      <td>1tvi8tv0eykhNcV1WtaIqO</td>\n",
       "      <td>spotify:track:1tvi8tv0eykhNcV1WtaIqO</td>\n",
       "      <td>https://api.spotify.com/v1/tracks/1tvi8tv0eykh...</td>\n",
       "      <td>https://api.spotify.com/v1/audio-analysis/1tvi...</td>\n",
       "      <td>237107.0</td>\n",
       "      <td>4.0</td>\n",
       "      <td>afrobeats</td>\n",
       "    </tr>\n",
       "  </tbody>\n",
       "</table>\n",
       "<p>2 rows × 28 columns</p>\n",
       "</div>"
      ],
      "text/plain": [
       "                track_uri           track_name artist_name  \\\n",
       "0  0mDRuZmReEm6DquPLJlcEm  Oleku (feat. Brymo)  Ice Prince   \n",
       "1  1tvi8tv0eykhNcV1WtaIqO            Move Back       5five   \n",
       "\n",
       "                                         artist_info              artist_uri  \\\n",
       "0  {'external_urls': {'spotify': 'https://open.sp...  1sSt1DqqqFLkPwfrqafVyn   \n",
       "1  {'external_urls': {'spotify': 'https://open.sp...  37zb1JQnDV9dRLatrASEj1   \n",
       "\n",
       "   artist_popularity                                       artist_genre  \\\n",
       "0                 54  [afro dancehall, afropop, azontobeats, nigeria...   \n",
       "1                 29                  [afro dancehall, azonto, hiplife]   \n",
       "\n",
       "                 album  track_pop  danceability  ...  valence    tempo  \\\n",
       "0  Oleku (feat. Brymo)         51         0.544  ...    0.751  162.112   \n",
       "1            Move Back         45         0.793  ...    0.793  125.032   \n",
       "\n",
       "             type                      id  \\\n",
       "0  audio_features  0mDRuZmReEm6DquPLJlcEm   \n",
       "1  audio_features  1tvi8tv0eykhNcV1WtaIqO   \n",
       "\n",
       "                                    uri  \\\n",
       "0  spotify:track:0mDRuZmReEm6DquPLJlcEm   \n",
       "1  spotify:track:1tvi8tv0eykhNcV1WtaIqO   \n",
       "\n",
       "                                          track_href  \\\n",
       "0  https://api.spotify.com/v1/tracks/0mDRuZmReEm6...   \n",
       "1  https://api.spotify.com/v1/tracks/1tvi8tv0eykh...   \n",
       "\n",
       "                                        analysis_url  duration_ms  \\\n",
       "0  https://api.spotify.com/v1/audio-analysis/0mDR...     291364.0   \n",
       "1  https://api.spotify.com/v1/audio-analysis/1tvi...     237107.0   \n",
       "\n",
       "   time_signature      genre  \n",
       "0             5.0  afrobeats  \n",
       "1             4.0  afrobeats  \n",
       "\n",
       "[2 rows x 28 columns]"
      ]
     },
     "execution_count": 20,
     "metadata": {},
     "output_type": "execute_result"
    }
   ],
   "source": [
    "afrobeats_df.head(2)"
   ]
  },
  {
   "cell_type": "code",
   "execution_count": 21,
   "id": "24c216f8-b6b3-43cb-b133-3326ac94dcef",
   "metadata": {},
   "outputs": [
    {
     "data": {
      "text/plain": [
       "1875"
      ]
     },
     "execution_count": 21,
     "metadata": {},
     "output_type": "execute_result"
    }
   ],
   "source": [
    "len(afrobeats_df)"
   ]
  },
  {
   "cell_type": "code",
   "execution_count": 22,
   "id": "de7b5868-9f4a-40b9-ae4f-fe8d4c5f1a40",
   "metadata": {},
   "outputs": [
    {
     "data": {
      "text/plain": [
       "18"
      ]
     },
     "execution_count": 22,
     "metadata": {},
     "output_type": "execute_result"
    }
   ],
   "source": [
    "afrobeats_df.isna().sum().sum()"
   ]
  },
  {
   "cell_type": "code",
   "execution_count": 23,
   "id": "85764720-2a8f-4b27-9517-3bf8cc592cb2",
   "metadata": {},
   "outputs": [
    {
     "data": {
      "text/html": [
       "<div>\n",
       "<style scoped>\n",
       "    .dataframe tbody tr th:only-of-type {\n",
       "        vertical-align: middle;\n",
       "    }\n",
       "\n",
       "    .dataframe tbody tr th {\n",
       "        vertical-align: top;\n",
       "    }\n",
       "\n",
       "    .dataframe thead th {\n",
       "        text-align: right;\n",
       "    }\n",
       "</style>\n",
       "<table border=\"1\" class=\"dataframe\">\n",
       "  <thead>\n",
       "    <tr style=\"text-align: right;\">\n",
       "      <th></th>\n",
       "      <th>track_uri</th>\n",
       "      <th>track_name</th>\n",
       "      <th>artist_name</th>\n",
       "      <th>artist_info</th>\n",
       "      <th>artist_uri</th>\n",
       "      <th>artist_popularity</th>\n",
       "      <th>artist_genre</th>\n",
       "      <th>album</th>\n",
       "      <th>track_pop</th>\n",
       "      <th>danceability</th>\n",
       "      <th>...</th>\n",
       "      <th>valence</th>\n",
       "      <th>tempo</th>\n",
       "      <th>type</th>\n",
       "      <th>id</th>\n",
       "      <th>uri</th>\n",
       "      <th>track_href</th>\n",
       "      <th>analysis_url</th>\n",
       "      <th>duration_ms</th>\n",
       "      <th>time_signature</th>\n",
       "      <th>genre</th>\n",
       "    </tr>\n",
       "  </thead>\n",
       "  <tbody>\n",
       "    <tr>\n",
       "      <th>1874</th>\n",
       "      <td>4bQga8PJWPDIQmecRrqxj9</td>\n",
       "      <td>N'y pense plus</td>\n",
       "      <td>Tayc</td>\n",
       "      <td>{'external_urls': {'spotify': 'https://open.sp...</td>\n",
       "      <td>7gU9VyFRN3JWPJ5oHOil60</td>\n",
       "      <td>75</td>\n",
       "      <td>[pop urbaine]</td>\n",
       "      <td>Fleur froide - Second état : la cristallisation</td>\n",
       "      <td>48</td>\n",
       "      <td>NaN</td>\n",
       "      <td>...</td>\n",
       "      <td>NaN</td>\n",
       "      <td>NaN</td>\n",
       "      <td>NaN</td>\n",
       "      <td>NaN</td>\n",
       "      <td>NaN</td>\n",
       "      <td>NaN</td>\n",
       "      <td>NaN</td>\n",
       "      <td>NaN</td>\n",
       "      <td>NaN</td>\n",
       "      <td>afrobeats</td>\n",
       "    </tr>\n",
       "  </tbody>\n",
       "</table>\n",
       "<p>1 rows × 28 columns</p>\n",
       "</div>"
      ],
      "text/plain": [
       "                   track_uri      track_name artist_name  \\\n",
       "1874  4bQga8PJWPDIQmecRrqxj9  N'y pense plus        Tayc   \n",
       "\n",
       "                                            artist_info  \\\n",
       "1874  {'external_urls': {'spotify': 'https://open.sp...   \n",
       "\n",
       "                  artist_uri  artist_popularity   artist_genre  \\\n",
       "1874  7gU9VyFRN3JWPJ5oHOil60                 75  [pop urbaine]   \n",
       "\n",
       "                                                album  track_pop  \\\n",
       "1874  Fleur froide - Second état : la cristallisation         48   \n",
       "\n",
       "      danceability  ...  valence  tempo  type   id  uri  track_href  \\\n",
       "1874           NaN  ...      NaN    NaN   NaN  NaN  NaN         NaN   \n",
       "\n",
       "      analysis_url  duration_ms  time_signature      genre  \n",
       "1874           NaN          NaN             NaN  afrobeats  \n",
       "\n",
       "[1 rows x 28 columns]"
      ]
     },
     "execution_count": 23,
     "metadata": {},
     "output_type": "execute_result"
    }
   ],
   "source": [
    "afrobeats_df[afrobeats_df['energy'].isnull()]"
   ]
  },
  {
   "cell_type": "code",
   "execution_count": 24,
   "id": "c5668270-cbbd-4954-b04c-6dcb0aea3dbf",
   "metadata": {},
   "outputs": [],
   "source": [
    "afrobeats_df.dropna(inplace=True)"
   ]
  },
  {
   "cell_type": "code",
   "execution_count": 25,
   "id": "3c0b5da6-4dff-46c9-b94b-f4c55c31172f",
   "metadata": {},
   "outputs": [
    {
     "data": {
      "text/plain": [
       "0"
      ]
     },
     "execution_count": 25,
     "metadata": {},
     "output_type": "execute_result"
    }
   ],
   "source": [
    "afrobeats_df.isnull().sum().sum()"
   ]
  },
  {
   "cell_type": "markdown",
   "id": "fc85b053-2b01-44c9-ae7a-bd46dc22995e",
   "metadata": {
    "tags": []
   },
   "source": [
    "#### Exporta afrobeats as a csv"
   ]
  },
  {
   "cell_type": "code",
   "execution_count": 26,
   "id": "35b91f61-dffd-4c38-997d-a3721f4d532d",
   "metadata": {},
   "outputs": [],
   "source": [
    "afrobeats_df.to_csv('../data/afrobeats.csv', index = False)"
   ]
  },
  {
   "cell_type": "markdown",
   "id": "c8b93649-97b2-4da8-bd50-62f522467599",
   "metadata": {},
   "source": [
    "#### Jacks playlist"
   ]
  },
  {
   "cell_type": "code",
   "execution_count": 8,
   "id": "64976505-f389-42fd-8727-fa0dbe9e5aa8",
   "metadata": {},
   "outputs": [],
   "source": [
    "jacks_playlist_url = 'https://open.spotify.com/playlist/6UlskZAcTPzcGMnQaMnIVm?si=5cbb031d1fdd4064'"
   ]
  },
  {
   "cell_type": "code",
   "execution_count": 9,
   "id": "c1cf8c56-e024-4d2f-92bf-8855d210654c",
   "metadata": {},
   "outputs": [],
   "source": [
    "jacks_playlist_df = raw_data(jacks_playlist_url, 'jack')"
   ]
  },
  {
   "cell_type": "code",
   "execution_count": 10,
   "id": "33f5afaa-8187-41c6-a854-230d88015a3b",
   "metadata": {},
   "outputs": [
    {
     "data": {
      "text/html": [
       "<div>\n",
       "<style scoped>\n",
       "    .dataframe tbody tr th:only-of-type {\n",
       "        vertical-align: middle;\n",
       "    }\n",
       "\n",
       "    .dataframe tbody tr th {\n",
       "        vertical-align: top;\n",
       "    }\n",
       "\n",
       "    .dataframe thead th {\n",
       "        text-align: right;\n",
       "    }\n",
       "</style>\n",
       "<table border=\"1\" class=\"dataframe\">\n",
       "  <thead>\n",
       "    <tr style=\"text-align: right;\">\n",
       "      <th></th>\n",
       "      <th>track_uri</th>\n",
       "      <th>track_name</th>\n",
       "      <th>artist_name</th>\n",
       "      <th>artist_info</th>\n",
       "      <th>artist_uri</th>\n",
       "      <th>artist_popularity</th>\n",
       "      <th>artist_genre</th>\n",
       "      <th>album</th>\n",
       "      <th>track_pop</th>\n",
       "      <th>danceability</th>\n",
       "      <th>...</th>\n",
       "      <th>valence</th>\n",
       "      <th>tempo</th>\n",
       "      <th>type</th>\n",
       "      <th>id</th>\n",
       "      <th>uri</th>\n",
       "      <th>track_href</th>\n",
       "      <th>analysis_url</th>\n",
       "      <th>duration_ms</th>\n",
       "      <th>time_signature</th>\n",
       "      <th>genre</th>\n",
       "    </tr>\n",
       "  </thead>\n",
       "  <tbody>\n",
       "    <tr>\n",
       "      <th>0</th>\n",
       "      <td>1YzcrcgR3T2RwAZg5tSvYP</td>\n",
       "      <td>Die Walküre / Erster Aufzug: Orchestervorspiel</td>\n",
       "      <td>Richard Wagner</td>\n",
       "      <td>{'external_urls': {'spotify': 'https://open.sp...</td>\n",
       "      <td>1C1x4MVkql8AiABuTw6DgE</td>\n",
       "      <td>58</td>\n",
       "      <td>[classical, german opera, german romanticism, ...</td>\n",
       "      <td>Solti - Wagner - The Operas</td>\n",
       "      <td>18</td>\n",
       "      <td>0.2650</td>\n",
       "      <td>...</td>\n",
       "      <td>0.1640</td>\n",
       "      <td>113.033</td>\n",
       "      <td>audio_features</td>\n",
       "      <td>1YzcrcgR3T2RwAZg5tSvYP</td>\n",
       "      <td>spotify:track:1YzcrcgR3T2RwAZg5tSvYP</td>\n",
       "      <td>https://api.spotify.com/v1/tracks/1YzcrcgR3T2R...</td>\n",
       "      <td>https://api.spotify.com/v1/audio-analysis/1Yzc...</td>\n",
       "      <td>196000</td>\n",
       "      <td>3</td>\n",
       "      <td>jack</td>\n",
       "    </tr>\n",
       "    <tr>\n",
       "      <th>1</th>\n",
       "      <td>6JmduA0I9QYtD1RiHQgWjj</td>\n",
       "      <td>Götterdämmerung, WWV 86D, Act III: Siegfrieds ...</td>\n",
       "      <td>Richard Wagner</td>\n",
       "      <td>{'external_urls': {'spotify': 'https://open.sp...</td>\n",
       "      <td>1C1x4MVkql8AiABuTw6DgE</td>\n",
       "      <td>58</td>\n",
       "      <td>[classical, german opera, german romanticism, ...</td>\n",
       "      <td>Wagner: Götterdämmerung, WWV 86D</td>\n",
       "      <td>5</td>\n",
       "      <td>0.1170</td>\n",
       "      <td>...</td>\n",
       "      <td>0.0396</td>\n",
       "      <td>66.858</td>\n",
       "      <td>audio_features</td>\n",
       "      <td>6JmduA0I9QYtD1RiHQgWjj</td>\n",
       "      <td>spotify:track:6JmduA0I9QYtD1RiHQgWjj</td>\n",
       "      <td>https://api.spotify.com/v1/tracks/6JmduA0I9QYt...</td>\n",
       "      <td>https://api.spotify.com/v1/audio-analysis/6Jmd...</td>\n",
       "      <td>409787</td>\n",
       "      <td>3</td>\n",
       "      <td>jack</td>\n",
       "    </tr>\n",
       "    <tr>\n",
       "      <th>2</th>\n",
       "      <td>1U1i1HBJ5H8DY5J4fO8ySg</td>\n",
       "      <td>Tannhäuser: Overture</td>\n",
       "      <td>Richard Wagner</td>\n",
       "      <td>{'external_urls': {'spotify': 'https://open.sp...</td>\n",
       "      <td>1C1x4MVkql8AiABuTw6DgE</td>\n",
       "      <td>58</td>\n",
       "      <td>[classical, german opera, german romanticism, ...</td>\n",
       "      <td>Wagner: Orchestral Favourites</td>\n",
       "      <td>47</td>\n",
       "      <td>0.0897</td>\n",
       "      <td>...</td>\n",
       "      <td>0.0579</td>\n",
       "      <td>81.802</td>\n",
       "      <td>audio_features</td>\n",
       "      <td>1U1i1HBJ5H8DY5J4fO8ySg</td>\n",
       "      <td>spotify:track:1U1i1HBJ5H8DY5J4fO8ySg</td>\n",
       "      <td>https://api.spotify.com/v1/tracks/1U1i1HBJ5H8D...</td>\n",
       "      <td>https://api.spotify.com/v1/audio-analysis/1U1i...</td>\n",
       "      <td>853827</td>\n",
       "      <td>4</td>\n",
       "      <td>jack</td>\n",
       "    </tr>\n",
       "    <tr>\n",
       "      <th>3</th>\n",
       "      <td>5loYnrcJ1XTIbs0MXKntlr</td>\n",
       "      <td>Götterdämmerung, WWV 86D, Prologue: Siegfrieds...</td>\n",
       "      <td>Richard Wagner</td>\n",
       "      <td>{'external_urls': {'spotify': 'https://open.sp...</td>\n",
       "      <td>1C1x4MVkql8AiABuTw6DgE</td>\n",
       "      <td>58</td>\n",
       "      <td>[classical, german opera, german romanticism, ...</td>\n",
       "      <td>Wagner: Götterdämmerung, WWV 86D</td>\n",
       "      <td>1</td>\n",
       "      <td>0.2270</td>\n",
       "      <td>...</td>\n",
       "      <td>0.0622</td>\n",
       "      <td>128.729</td>\n",
       "      <td>audio_features</td>\n",
       "      <td>5loYnrcJ1XTIbs0MXKntlr</td>\n",
       "      <td>spotify:track:5loYnrcJ1XTIbs0MXKntlr</td>\n",
       "      <td>https://api.spotify.com/v1/tracks/5loYnrcJ1XTI...</td>\n",
       "      <td>https://api.spotify.com/v1/audio-analysis/5loY...</td>\n",
       "      <td>309053</td>\n",
       "      <td>3</td>\n",
       "      <td>jack</td>\n",
       "    </tr>\n",
       "    <tr>\n",
       "      <th>4</th>\n",
       "      <td>3ci6KfIfr3UiIRgJ3WVYhd</td>\n",
       "      <td>Piano Concerto No. 1 in D Minor, Op. 15: I. Ma...</td>\n",
       "      <td>Johannes Brahms</td>\n",
       "      <td>{'external_urls': {'spotify': 'https://open.sp...</td>\n",
       "      <td>5wTAi7QkpP6kp8a54lmTOq</td>\n",
       "      <td>68</td>\n",
       "      <td>[classical, german romanticism, late romantic ...</td>\n",
       "      <td>Brahms: Piano Concerto No.1</td>\n",
       "      <td>34</td>\n",
       "      <td>0.1870</td>\n",
       "      <td>...</td>\n",
       "      <td>0.0395</td>\n",
       "      <td>87.459</td>\n",
       "      <td>audio_features</td>\n",
       "      <td>3ci6KfIfr3UiIRgJ3WVYhd</td>\n",
       "      <td>spotify:track:3ci6KfIfr3UiIRgJ3WVYhd</td>\n",
       "      <td>https://api.spotify.com/v1/tracks/3ci6KfIfr3Ui...</td>\n",
       "      <td>https://api.spotify.com/v1/audio-analysis/3ci6...</td>\n",
       "      <td>1407000</td>\n",
       "      <td>4</td>\n",
       "      <td>jack</td>\n",
       "    </tr>\n",
       "  </tbody>\n",
       "</table>\n",
       "<p>5 rows × 28 columns</p>\n",
       "</div>"
      ],
      "text/plain": [
       "                track_uri                                         track_name  \\\n",
       "0  1YzcrcgR3T2RwAZg5tSvYP     Die Walküre / Erster Aufzug: Orchestervorspiel   \n",
       "1  6JmduA0I9QYtD1RiHQgWjj  Götterdämmerung, WWV 86D, Act III: Siegfrieds ...   \n",
       "2  1U1i1HBJ5H8DY5J4fO8ySg                               Tannhäuser: Overture   \n",
       "3  5loYnrcJ1XTIbs0MXKntlr  Götterdämmerung, WWV 86D, Prologue: Siegfrieds...   \n",
       "4  3ci6KfIfr3UiIRgJ3WVYhd  Piano Concerto No. 1 in D Minor, Op. 15: I. Ma...   \n",
       "\n",
       "       artist_name                                        artist_info  \\\n",
       "0   Richard Wagner  {'external_urls': {'spotify': 'https://open.sp...   \n",
       "1   Richard Wagner  {'external_urls': {'spotify': 'https://open.sp...   \n",
       "2   Richard Wagner  {'external_urls': {'spotify': 'https://open.sp...   \n",
       "3   Richard Wagner  {'external_urls': {'spotify': 'https://open.sp...   \n",
       "4  Johannes Brahms  {'external_urls': {'spotify': 'https://open.sp...   \n",
       "\n",
       "               artist_uri  artist_popularity  \\\n",
       "0  1C1x4MVkql8AiABuTw6DgE                 58   \n",
       "1  1C1x4MVkql8AiABuTw6DgE                 58   \n",
       "2  1C1x4MVkql8AiABuTw6DgE                 58   \n",
       "3  1C1x4MVkql8AiABuTw6DgE                 58   \n",
       "4  5wTAi7QkpP6kp8a54lmTOq                 68   \n",
       "\n",
       "                                        artist_genre  \\\n",
       "0  [classical, german opera, german romanticism, ...   \n",
       "1  [classical, german opera, german romanticism, ...   \n",
       "2  [classical, german opera, german romanticism, ...   \n",
       "3  [classical, german opera, german romanticism, ...   \n",
       "4  [classical, german romanticism, late romantic ...   \n",
       "\n",
       "                              album  track_pop  danceability  ...  valence  \\\n",
       "0       Solti - Wagner - The Operas         18        0.2650  ...   0.1640   \n",
       "1  Wagner: Götterdämmerung, WWV 86D          5        0.1170  ...   0.0396   \n",
       "2     Wagner: Orchestral Favourites         47        0.0897  ...   0.0579   \n",
       "3  Wagner: Götterdämmerung, WWV 86D          1        0.2270  ...   0.0622   \n",
       "4       Brahms: Piano Concerto No.1         34        0.1870  ...   0.0395   \n",
       "\n",
       "     tempo            type                      id  \\\n",
       "0  113.033  audio_features  1YzcrcgR3T2RwAZg5tSvYP   \n",
       "1   66.858  audio_features  6JmduA0I9QYtD1RiHQgWjj   \n",
       "2   81.802  audio_features  1U1i1HBJ5H8DY5J4fO8ySg   \n",
       "3  128.729  audio_features  5loYnrcJ1XTIbs0MXKntlr   \n",
       "4   87.459  audio_features  3ci6KfIfr3UiIRgJ3WVYhd   \n",
       "\n",
       "                                    uri  \\\n",
       "0  spotify:track:1YzcrcgR3T2RwAZg5tSvYP   \n",
       "1  spotify:track:6JmduA0I9QYtD1RiHQgWjj   \n",
       "2  spotify:track:1U1i1HBJ5H8DY5J4fO8ySg   \n",
       "3  spotify:track:5loYnrcJ1XTIbs0MXKntlr   \n",
       "4  spotify:track:3ci6KfIfr3UiIRgJ3WVYhd   \n",
       "\n",
       "                                          track_href  \\\n",
       "0  https://api.spotify.com/v1/tracks/1YzcrcgR3T2R...   \n",
       "1  https://api.spotify.com/v1/tracks/6JmduA0I9QYt...   \n",
       "2  https://api.spotify.com/v1/tracks/1U1i1HBJ5H8D...   \n",
       "3  https://api.spotify.com/v1/tracks/5loYnrcJ1XTI...   \n",
       "4  https://api.spotify.com/v1/tracks/3ci6KfIfr3Ui...   \n",
       "\n",
       "                                        analysis_url  duration_ms  \\\n",
       "0  https://api.spotify.com/v1/audio-analysis/1Yzc...       196000   \n",
       "1  https://api.spotify.com/v1/audio-analysis/6Jmd...       409787   \n",
       "2  https://api.spotify.com/v1/audio-analysis/1U1i...       853827   \n",
       "3  https://api.spotify.com/v1/audio-analysis/5loY...       309053   \n",
       "4  https://api.spotify.com/v1/audio-analysis/3ci6...      1407000   \n",
       "\n",
       "   time_signature  genre  \n",
       "0               3   jack  \n",
       "1               3   jack  \n",
       "2               4   jack  \n",
       "3               3   jack  \n",
       "4               4   jack  \n",
       "\n",
       "[5 rows x 28 columns]"
      ]
     },
     "execution_count": 10,
     "metadata": {},
     "output_type": "execute_result"
    }
   ],
   "source": [
    "jacks_playlist_df.head()"
   ]
  },
  {
   "cell_type": "code",
   "execution_count": null,
   "id": "543783aa-2311-4e6a-b37b-7b1b061c535c",
   "metadata": {},
   "outputs": [],
   "source": []
  },
  {
   "cell_type": "markdown",
   "id": "1297b011-45e5-4feb-97ce-30ef443bc2d8",
   "metadata": {
    "tags": []
   },
   "source": [
    "#### Exporta Jack's playlist as a csv"
   ]
  },
  {
   "cell_type": "code",
   "execution_count": 12,
   "id": "959afc39-befd-4e0f-a4a0-6e03620c12d0",
   "metadata": {},
   "outputs": [],
   "source": [
    "jacks_playlist_df.to_csv('../data/jack.csv', index = False)"
   ]
  },
  {
   "cell_type": "markdown",
   "id": "eeac0522-11a5-4b12-ae58-d7f9858d30b7",
   "metadata": {},
   "source": [
    "#### Ankita playlist"
   ]
  },
  {
   "cell_type": "code",
   "execution_count": 13,
   "id": "dd7cf03f-8969-4412-8d27-f897279990a2",
   "metadata": {},
   "outputs": [],
   "source": [
    "ankita_playlist_url = 'https://open.spotify.com/playlist/6qzbkhrmxdFj5TtaXR0sfI?si=ElY40mMjQ7apOsHTGlQI7A'"
   ]
  },
  {
   "cell_type": "code",
   "execution_count": 14,
   "id": "93b7ac8f-74c7-4741-aa62-020cfd897ea1",
   "metadata": {
    "tags": []
   },
   "outputs": [],
   "source": [
    "ankita_playlist_df = raw_data(ankita_playlist_url, 'ankita')"
   ]
  },
  {
   "cell_type": "code",
   "execution_count": 15,
   "id": "9dbde090-fbe2-4f94-bf4a-dfd4f6824c7b",
   "metadata": {},
   "outputs": [
    {
     "data": {
      "text/html": [
       "<div>\n",
       "<style scoped>\n",
       "    .dataframe tbody tr th:only-of-type {\n",
       "        vertical-align: middle;\n",
       "    }\n",
       "\n",
       "    .dataframe tbody tr th {\n",
       "        vertical-align: top;\n",
       "    }\n",
       "\n",
       "    .dataframe thead th {\n",
       "        text-align: right;\n",
       "    }\n",
       "</style>\n",
       "<table border=\"1\" class=\"dataframe\">\n",
       "  <thead>\n",
       "    <tr style=\"text-align: right;\">\n",
       "      <th></th>\n",
       "      <th>track_uri</th>\n",
       "      <th>track_name</th>\n",
       "      <th>artist_name</th>\n",
       "      <th>artist_info</th>\n",
       "      <th>artist_uri</th>\n",
       "      <th>artist_popularity</th>\n",
       "      <th>artist_genre</th>\n",
       "      <th>album</th>\n",
       "      <th>track_pop</th>\n",
       "      <th>danceability</th>\n",
       "      <th>...</th>\n",
       "      <th>valence</th>\n",
       "      <th>tempo</th>\n",
       "      <th>type</th>\n",
       "      <th>id</th>\n",
       "      <th>uri</th>\n",
       "      <th>track_href</th>\n",
       "      <th>analysis_url</th>\n",
       "      <th>duration_ms</th>\n",
       "      <th>time_signature</th>\n",
       "      <th>genre</th>\n",
       "    </tr>\n",
       "  </thead>\n",
       "  <tbody>\n",
       "    <tr>\n",
       "      <th>0</th>\n",
       "      <td>068HSvCf5MbQfhV4qqaelg</td>\n",
       "      <td>Haan Main Galat (From \"Love Aaj Kal\")</td>\n",
       "      <td>Pritam</td>\n",
       "      <td>{'external_urls': {'spotify': 'https://open.sp...</td>\n",
       "      <td>1wRPtKGflJrBx9BmLsSwlU</td>\n",
       "      <td>84</td>\n",
       "      <td>[desi pop, filmi, indian instrumental, modern ...</td>\n",
       "      <td>Haan Main Galat (From \"Love Aaj Kal\")</td>\n",
       "      <td>64</td>\n",
       "      <td>0.685</td>\n",
       "      <td>...</td>\n",
       "      <td>0.893</td>\n",
       "      <td>117.979</td>\n",
       "      <td>audio_features</td>\n",
       "      <td>068HSvCf5MbQfhV4qqaelg</td>\n",
       "      <td>spotify:track:068HSvCf5MbQfhV4qqaelg</td>\n",
       "      <td>https://api.spotify.com/v1/tracks/068HSvCf5MbQ...</td>\n",
       "      <td>https://api.spotify.com/v1/audio-analysis/068H...</td>\n",
       "      <td>218644</td>\n",
       "      <td>4</td>\n",
       "      <td>ankita</td>\n",
       "    </tr>\n",
       "    <tr>\n",
       "      <th>1</th>\n",
       "      <td>2aHz87L2Z4a0ZEQ7vMlH8z</td>\n",
       "      <td>Badal Pe Paon Hai</td>\n",
       "      <td>Salim–Sulaiman</td>\n",
       "      <td>{'external_urls': {'spotify': 'https://open.sp...</td>\n",
       "      <td>6ohaQzKaXrobAL8paLSaxq</td>\n",
       "      <td>64</td>\n",
       "      <td>[desi pop, filmi, indian folk, modern bollywood]</td>\n",
       "      <td>Chak De India</td>\n",
       "      <td>57</td>\n",
       "      <td>0.649</td>\n",
       "      <td>...</td>\n",
       "      <td>0.869</td>\n",
       "      <td>104.999</td>\n",
       "      <td>audio_features</td>\n",
       "      <td>2aHz87L2Z4a0ZEQ7vMlH8z</td>\n",
       "      <td>spotify:track:2aHz87L2Z4a0ZEQ7vMlH8z</td>\n",
       "      <td>https://api.spotify.com/v1/tracks/2aHz87L2Z4a0...</td>\n",
       "      <td>https://api.spotify.com/v1/audio-analysis/2aHz...</td>\n",
       "      <td>243931</td>\n",
       "      <td>4</td>\n",
       "      <td>ankita</td>\n",
       "    </tr>\n",
       "    <tr>\n",
       "      <th>2</th>\n",
       "      <td>0mACGvgvCcwjfJCPFLeabh</td>\n",
       "      <td>Ziddi Dil</td>\n",
       "      <td>Vishal Dadlani</td>\n",
       "      <td>{'external_urls': {'spotify': 'https://open.sp...</td>\n",
       "      <td>6CXEwIaXYfVJ84biCxqc9k</td>\n",
       "      <td>72</td>\n",
       "      <td>[desi hip hop, desi pop, filmi, modern bollywood]</td>\n",
       "      <td>Mary Kom</td>\n",
       "      <td>57</td>\n",
       "      <td>0.666</td>\n",
       "      <td>...</td>\n",
       "      <td>0.541</td>\n",
       "      <td>99.007</td>\n",
       "      <td>audio_features</td>\n",
       "      <td>0mACGvgvCcwjfJCPFLeabh</td>\n",
       "      <td>spotify:track:0mACGvgvCcwjfJCPFLeabh</td>\n",
       "      <td>https://api.spotify.com/v1/tracks/0mACGvgvCcwj...</td>\n",
       "      <td>https://api.spotify.com/v1/audio-analysis/0mAC...</td>\n",
       "      <td>286093</td>\n",
       "      <td>4</td>\n",
       "      <td>ankita</td>\n",
       "    </tr>\n",
       "    <tr>\n",
       "      <th>3</th>\n",
       "      <td>0dT6g7oqjEqphjXMk8MKHz</td>\n",
       "      <td>Dangal</td>\n",
       "      <td>Pritam</td>\n",
       "      <td>{'external_urls': {'spotify': 'https://open.sp...</td>\n",
       "      <td>1wRPtKGflJrBx9BmLsSwlU</td>\n",
       "      <td>84</td>\n",
       "      <td>[desi pop, filmi, indian instrumental, modern ...</td>\n",
       "      <td>Dangal (Original Motion Picture Soundtrack)</td>\n",
       "      <td>59</td>\n",
       "      <td>0.618</td>\n",
       "      <td>...</td>\n",
       "      <td>0.665</td>\n",
       "      <td>178.017</td>\n",
       "      <td>audio_features</td>\n",
       "      <td>0dT6g7oqjEqphjXMk8MKHz</td>\n",
       "      <td>spotify:track:0dT6g7oqjEqphjXMk8MKHz</td>\n",
       "      <td>https://api.spotify.com/v1/tracks/0dT6g7oqjEqp...</td>\n",
       "      <td>https://api.spotify.com/v1/audio-analysis/0dT6...</td>\n",
       "      <td>299326</td>\n",
       "      <td>4</td>\n",
       "      <td>ankita</td>\n",
       "    </tr>\n",
       "    <tr>\n",
       "      <th>4</th>\n",
       "      <td>77UjLW8j5UAGAGVGhR5oUK</td>\n",
       "      <td>Pray For Me (with Kendrick Lamar)</td>\n",
       "      <td>The Weeknd</td>\n",
       "      <td>{'external_urls': {'spotify': 'https://open.sp...</td>\n",
       "      <td>1Xyo4u8uXC1ZmMpatF05PJ</td>\n",
       "      <td>97</td>\n",
       "      <td>[canadian contemporary r&amp;b, canadian pop, pop]</td>\n",
       "      <td>Black Panther The Album Music From And Inspire...</td>\n",
       "      <td>75</td>\n",
       "      <td>0.735</td>\n",
       "      <td>...</td>\n",
       "      <td>0.188</td>\n",
       "      <td>100.584</td>\n",
       "      <td>audio_features</td>\n",
       "      <td>77UjLW8j5UAGAGVGhR5oUK</td>\n",
       "      <td>spotify:track:77UjLW8j5UAGAGVGhR5oUK</td>\n",
       "      <td>https://api.spotify.com/v1/tracks/77UjLW8j5UAG...</td>\n",
       "      <td>https://api.spotify.com/v1/audio-analysis/77Uj...</td>\n",
       "      <td>211440</td>\n",
       "      <td>4</td>\n",
       "      <td>ankita</td>\n",
       "    </tr>\n",
       "  </tbody>\n",
       "</table>\n",
       "<p>5 rows × 28 columns</p>\n",
       "</div>"
      ],
      "text/plain": [
       "                track_uri                             track_name  \\\n",
       "0  068HSvCf5MbQfhV4qqaelg  Haan Main Galat (From \"Love Aaj Kal\")   \n",
       "1  2aHz87L2Z4a0ZEQ7vMlH8z                      Badal Pe Paon Hai   \n",
       "2  0mACGvgvCcwjfJCPFLeabh                              Ziddi Dil   \n",
       "3  0dT6g7oqjEqphjXMk8MKHz                                 Dangal   \n",
       "4  77UjLW8j5UAGAGVGhR5oUK      Pray For Me (with Kendrick Lamar)   \n",
       "\n",
       "      artist_name                                        artist_info  \\\n",
       "0          Pritam  {'external_urls': {'spotify': 'https://open.sp...   \n",
       "1  Salim–Sulaiman  {'external_urls': {'spotify': 'https://open.sp...   \n",
       "2  Vishal Dadlani  {'external_urls': {'spotify': 'https://open.sp...   \n",
       "3          Pritam  {'external_urls': {'spotify': 'https://open.sp...   \n",
       "4      The Weeknd  {'external_urls': {'spotify': 'https://open.sp...   \n",
       "\n",
       "               artist_uri  artist_popularity  \\\n",
       "0  1wRPtKGflJrBx9BmLsSwlU                 84   \n",
       "1  6ohaQzKaXrobAL8paLSaxq                 64   \n",
       "2  6CXEwIaXYfVJ84biCxqc9k                 72   \n",
       "3  1wRPtKGflJrBx9BmLsSwlU                 84   \n",
       "4  1Xyo4u8uXC1ZmMpatF05PJ                 97   \n",
       "\n",
       "                                        artist_genre  \\\n",
       "0  [desi pop, filmi, indian instrumental, modern ...   \n",
       "1   [desi pop, filmi, indian folk, modern bollywood]   \n",
       "2  [desi hip hop, desi pop, filmi, modern bollywood]   \n",
       "3  [desi pop, filmi, indian instrumental, modern ...   \n",
       "4     [canadian contemporary r&b, canadian pop, pop]   \n",
       "\n",
       "                                               album  track_pop  danceability  \\\n",
       "0              Haan Main Galat (From \"Love Aaj Kal\")         64         0.685   \n",
       "1                                      Chak De India         57         0.649   \n",
       "2                                           Mary Kom         57         0.666   \n",
       "3        Dangal (Original Motion Picture Soundtrack)         59         0.618   \n",
       "4  Black Panther The Album Music From And Inspire...         75         0.735   \n",
       "\n",
       "   ...  valence    tempo            type                      id  \\\n",
       "0  ...    0.893  117.979  audio_features  068HSvCf5MbQfhV4qqaelg   \n",
       "1  ...    0.869  104.999  audio_features  2aHz87L2Z4a0ZEQ7vMlH8z   \n",
       "2  ...    0.541   99.007  audio_features  0mACGvgvCcwjfJCPFLeabh   \n",
       "3  ...    0.665  178.017  audio_features  0dT6g7oqjEqphjXMk8MKHz   \n",
       "4  ...    0.188  100.584  audio_features  77UjLW8j5UAGAGVGhR5oUK   \n",
       "\n",
       "                                    uri  \\\n",
       "0  spotify:track:068HSvCf5MbQfhV4qqaelg   \n",
       "1  spotify:track:2aHz87L2Z4a0ZEQ7vMlH8z   \n",
       "2  spotify:track:0mACGvgvCcwjfJCPFLeabh   \n",
       "3  spotify:track:0dT6g7oqjEqphjXMk8MKHz   \n",
       "4  spotify:track:77UjLW8j5UAGAGVGhR5oUK   \n",
       "\n",
       "                                          track_href  \\\n",
       "0  https://api.spotify.com/v1/tracks/068HSvCf5MbQ...   \n",
       "1  https://api.spotify.com/v1/tracks/2aHz87L2Z4a0...   \n",
       "2  https://api.spotify.com/v1/tracks/0mACGvgvCcwj...   \n",
       "3  https://api.spotify.com/v1/tracks/0dT6g7oqjEqp...   \n",
       "4  https://api.spotify.com/v1/tracks/77UjLW8j5UAG...   \n",
       "\n",
       "                                        analysis_url  duration_ms  \\\n",
       "0  https://api.spotify.com/v1/audio-analysis/068H...       218644   \n",
       "1  https://api.spotify.com/v1/audio-analysis/2aHz...       243931   \n",
       "2  https://api.spotify.com/v1/audio-analysis/0mAC...       286093   \n",
       "3  https://api.spotify.com/v1/audio-analysis/0dT6...       299326   \n",
       "4  https://api.spotify.com/v1/audio-analysis/77Uj...       211440   \n",
       "\n",
       "   time_signature   genre  \n",
       "0               4  ankita  \n",
       "1               4  ankita  \n",
       "2               4  ankita  \n",
       "3               4  ankita  \n",
       "4               4  ankita  \n",
       "\n",
       "[5 rows x 28 columns]"
      ]
     },
     "execution_count": 15,
     "metadata": {},
     "output_type": "execute_result"
    }
   ],
   "source": [
    "ankita_playlist_df.head()"
   ]
  },
  {
   "cell_type": "markdown",
   "id": "1cd69214-ca09-4d67-81f8-4d30c30e5f13",
   "metadata": {
    "tags": []
   },
   "source": [
    "#### Export Ankita's playlist as a csv"
   ]
  },
  {
   "cell_type": "code",
   "execution_count": 16,
   "id": "e3dc3566-ef5f-40ee-b42b-6f3b02952ed4",
   "metadata": {},
   "outputs": [],
   "source": [
    "ankita_playlist_df.to_csv('../data/ankita.csv', index = False)"
   ]
  },
  {
   "cell_type": "markdown",
   "id": "13635c34-9700-4f2b-bfb0-551ad424b6c7",
   "metadata": {},
   "source": [
    "### Get top Afrobeats songs from 2011 to 2022"
   ]
  },
  {
   "cell_type": "code",
   "execution_count": 28,
   "id": "75bd7e13-9603-4115-b915-298daae90279",
   "metadata": {},
   "outputs": [],
   "source": [
    "afrobeats_url_2011 = 'https://open.spotify.com/playlist/7IFO0RwgGq1GTZYH52FtJK'"
   ]
  },
  {
   "cell_type": "code",
   "execution_count": 29,
   "id": "6e1ad9d1-f431-471c-b4f9-223c1525182b",
   "metadata": {},
   "outputs": [],
   "source": [
    "afrobeats_url_2012 = 'https://open.spotify.com/playlist/0IsKxqhBrseS4cjSvCZI7I'"
   ]
  },
  {
   "cell_type": "code",
   "execution_count": 30,
   "id": "910c3d65-98f2-459e-b7fe-51faf9353b6c",
   "metadata": {},
   "outputs": [],
   "source": [
    "afrobeats_url_2013 = 'https://open.spotify.com/playlist/2NXEKf7dKn0NNQCuj4Rniz'"
   ]
  },
  {
   "cell_type": "code",
   "execution_count": 31,
   "id": "8bc1c89e-2053-423d-9867-fd08605c0fdb",
   "metadata": {},
   "outputs": [],
   "source": [
    "afrobeats_url_2014 = 'https://open.spotify.com/playlist/6Vy0hXleg1ojR4mq57w4Fg'"
   ]
  },
  {
   "cell_type": "code",
   "execution_count": 32,
   "id": "202b1b9d-d43d-4e1c-8dcc-23abe547791a",
   "metadata": {},
   "outputs": [],
   "source": [
    "afrobeats_url_2015 = 'https://open.spotify.com/playlist/2fJOQI1m08OKVvjqZyJjCJ'"
   ]
  },
  {
   "cell_type": "code",
   "execution_count": 33,
   "id": "4324bd8a-cb8c-4ab0-ada2-f93787a400ec",
   "metadata": {},
   "outputs": [],
   "source": [
    "afrobeats_url_2016 = 'https://open.spotify.com/playlist/5D8Ri2l5XSAsuzZrRVvFqR'"
   ]
  },
  {
   "cell_type": "code",
   "execution_count": 34,
   "id": "e6445e03-74e2-4fc0-bc4d-f585ae5efc51",
   "metadata": {},
   "outputs": [],
   "source": [
    "afrobeats_url_2017 = 'https://open.spotify.com/playlist/1yEJSlGQtlpJKTKYEtIed9'"
   ]
  },
  {
   "cell_type": "code",
   "execution_count": 35,
   "id": "0cd20eec-fe95-4e54-8a6b-b5c530d57658",
   "metadata": {},
   "outputs": [],
   "source": [
    "afrobeats_url_2018 = 'https://open.spotify.com/playlist/4KOcyBABIVdTsTGQCK83CP'"
   ]
  },
  {
   "cell_type": "code",
   "execution_count": 36,
   "id": "5aeb40eb-972c-4e86-8395-73de64e8a63f",
   "metadata": {},
   "outputs": [],
   "source": [
    "afrobeats_url_2019 = 'https://open.spotify.com/playlist/0n79FLMnGldYuQ4yHymtlg'"
   ]
  },
  {
   "cell_type": "code",
   "execution_count": 37,
   "id": "205fdca9-1e9f-41f5-b8eb-a037a0c1f81a",
   "metadata": {},
   "outputs": [],
   "source": [
    "afrobeats_url_2020 = 'https://open.spotify.com/playlist/7FEPeJeFl364hbm94hUWbo'"
   ]
  },
  {
   "cell_type": "code",
   "execution_count": 38,
   "id": "abd311a3-f29f-427e-816b-adebc602a887",
   "metadata": {},
   "outputs": [],
   "source": [
    "afrobeats_url_2021 = 'https://open.spotify.com/playlist/2WiB3m5N21XCO4CP3eKrLP'"
   ]
  },
  {
   "cell_type": "code",
   "execution_count": 39,
   "id": "e6e4b499-1b2b-4f75-bb05-5ac19c94797f",
   "metadata": {},
   "outputs": [],
   "source": [
    "afrobeats_url_2022 = 'https://open.spotify.com/playlist/0aUt6gxNcV6B2La64Bm4D5'"
   ]
  },
  {
   "cell_type": "markdown",
   "id": "94105650-1f47-40f6-8de9-58e639dcadb2",
   "metadata": {},
   "source": [
    "#### Function to get create a dataframe of all the songs from 2011 to 2012"
   ]
  },
  {
   "cell_type": "code",
   "execution_count": 40,
   "id": "2d2194d8-eb04-4d31-8a3e-91b8d7d3fcb3",
   "metadata": {},
   "outputs": [],
   "source": [
    "afrobeats_2011 = get_track_info(afrobeats_url_2011)"
   ]
  },
  {
   "cell_type": "code",
   "execution_count": 41,
   "id": "fa3bfa6d-bb1e-425f-82bb-dfa0e274501b",
   "metadata": {},
   "outputs": [],
   "source": [
    "year_list = [afrobeats_url_2011, afrobeats_url_2012, afrobeats_url_2013, afrobeats_url_2014, afrobeats_url_2015, afrobeats_url_2016,\n",
    "            afrobeats_url_2017,afrobeats_url_2018]"
   ]
  },
  {
   "cell_type": "code",
   "execution_count": null,
   "id": "18199619-84ec-439f-a7a8-19e6622c9eed",
   "metadata": {},
   "outputs": [],
   "source": [
    "for playlist in year_list:\n",
    "    "
   ]
  }
 ],
 "metadata": {
  "kernelspec": {
   "display_name": "Python 3 (ipykernel)",
   "language": "python",
   "name": "python3"
  },
  "language_info": {
   "codemirror_mode": {
    "name": "ipython",
    "version": 3
   },
   "file_extension": ".py",
   "mimetype": "text/x-python",
   "name": "python",
   "nbconvert_exporter": "python",
   "pygments_lexer": "ipython3",
   "version": "3.10.2"
  },
  "widgets": {
   "application/vnd.jupyter.widget-state+json": {
    "state": {},
    "version_major": 2,
    "version_minor": 0
   }
  }
 },
 "nbformat": 4,
 "nbformat_minor": 5
}
