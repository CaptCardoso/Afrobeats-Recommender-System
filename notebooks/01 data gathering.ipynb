{
 "cells": [
  {
   "cell_type": "markdown",
   "id": "fc50c665-3042-44ed-83ab-ccc65c6589e2",
   "metadata": {},
   "source": [
    "# Spotify Afrobeats Recommendation System\n",
    "By Afolabi Cardoso"
   ]
  },
  {
   "cell_type": "markdown",
   "id": "cccd6e15-85d3-4d5b-8ab2-c84ed6e4392d",
   "metadata": {},
   "source": [
    "## Data Gathering"
   ]
  },
  {
   "cell_type": "markdown",
   "id": "b4cb7d83-0497-474c-a425-032a08063c1f",
   "metadata": {},
   "source": [
    "This notebook features the data gathering process. Using the Spotify API and Spotipy library, I was able to create functions to collect the useful metadata and audio features from the tracks in the playlist. After collecting the features as a dataframe, I exported them as a csv"
   ]
  },
  {
   "cell_type": "markdown",
   "id": "9afebed3-0edd-4514-b71a-1636cb53731d",
   "metadata": {},
   "source": [
    "#### Import Libraries"
   ]
  },
  {
   "cell_type": "code",
   "execution_count": null,
   "id": "89b69dd1-7ea9-4346-918a-f15e8d357a5f",
   "metadata": {},
   "outputs": [],
   "source": [
    "import pandas as pd\n",
    "import numpy as np\n",
    "import matplotlib.pyplot as plt\n",
    "import seaborn as sns\n",
    "import spotipy\n",
    "from spotipy.oauth2 import SpotifyClientCredentials\n",
    "\n",
    "from sklearn.datasets import make_blobs\n",
    "from sklearn.cluster import KMeans\n",
    "from sklearn.metrics import silhouette_score\n",
    "from sklearn.preprocessing import StandardScaler\n",
    "from sklearn.pipeline import Pipeline\n",
    "\n",
    "import time"
   ]
  },
  {
   "cell_type": "markdown",
   "id": "2fcb7d7b-6e11-444a-a794-96ee7d45d51e",
   "metadata": {},
   "source": [
    "#### Authentication"
   ]
  },
  {
   "cell_type": "markdown",
   "id": "21792e83-5294-4a65-8d29-a7322038c687",
   "metadata": {},
   "source": [
    "To gain access to the Spotify API, I need to create a client id and client secret."
   ]
  },
  {
   "cell_type": "code",
   "execution_count": null,
   "id": "e978974b-d535-4ee2-9753-f7a761e82124",
   "metadata": {
    "tags": []
   },
   "outputs": [],
   "source": [
    "\n",
    "client_credentials_manager = SpotifyClientCredentials(client_id = '2101cd224f5948e19c4c782d76744ed3',\n",
    "                                                      client_secret = '879abdfca432449facc9d8566fb40ab6')"
   ]
  },
  {
   "cell_type": "markdown",
   "id": "c17d4c52-3422-4222-9531-5606001ffb92",
   "metadata": {},
   "source": [
    "#### Spotipy Object"
   ]
  },
  {
   "cell_type": "markdown",
   "id": "87369f49-de3a-49f6-b966-02bae099e353",
   "metadata": {},
   "source": [
    "Using the client id and client secret created above, I create a spotipy Object using SpotifyClientCredentials"
   ]
  },
  {
   "cell_type": "code",
   "execution_count": null,
   "id": "4c480c62-3593-4ffb-bf5f-6b052e084cd7",
   "metadata": {},
   "outputs": [],
   "source": [
    "sp = spotipy.Spotify(client_credentials_manager = client_credentials_manager)"
   ]
  },
  {
   "cell_type": "markdown",
   "id": "71efebfe-c0a7-4491-b658-d94326acb731",
   "metadata": {},
   "source": [
    "#### Get track metadata and features"
   ]
  },
  {
   "cell_type": "markdown",
   "id": "2712e24c-0a59-44f3-965d-88041a0bdefc",
   "metadata": {},
   "source": [
    "This function takes in a playlist URI and returns a dataframe containing metadata such as artist name, genre, album name, track_uri, danceability, energy, loudness, instrumentalness etc"
   ]
  },
  {
   "cell_type": "code",
   "execution_count": null,
   "id": "e7905506-086a-40c3-aa47-033d687fee69",
   "metadata": {},
   "outputs": [],
   "source": [
    "def get_track_info(playlist):\n",
    "    \n",
    "    #split the playlist_uri is at the end of the playlists url. I'll use the .split method to extract it\n",
    "    uri = playlist.split(\"/\")[-1].split(\"?\")[0]\n",
    "    \n",
    "    #from the spotipy library, use the playlist_tracks() method to extract each track from the playlist uri\n",
    "    #It comes in a nested dictionary format\n",
    "    \n",
    "    results = sp.playlist_tracks(uri)\n",
    "    tracks = results['items']\n",
    "    \n",
    "    while results['next']:\n",
    "        results = sp.next(results)\n",
    "        tracks.extend(results['items'])\n",
    "    \n",
    "    \n",
    "    #create an empty dictionary with the info we want to extract as columns\n",
    "    info = {\n",
    "    'track_uri':[],\n",
    "    'track_name':[],\n",
    "    'artist_name':[],\n",
    "    'artist_info':[],\n",
    "    'artist_uri':[],\n",
    "    'artist_popularity':[],\n",
    "    'artist_genre':[],\n",
    "    'album':[],\n",
    "    'track_pop':[],\n",
    "    'year_released':[]\n",
    "    }\n",
    "    \n",
    "    features = {'danceability': [],\n",
    "     'energy': [],\n",
    "     'key': [],\n",
    "     'loudness': [],\n",
    "     'mode': [],\n",
    "     'speechiness': [],\n",
    "     'acousticness': [],\n",
    "     'instrumentalness': [],\n",
    "     'liveness': [],\n",
    "     'valence': [],\n",
    "     'tempo': [],\n",
    "     'type': [],\n",
    "     'id': [],\n",
    "     'uri': [],\n",
    "     'track_href': [],\n",
    "     'analysis_url': [],\n",
    "     'duration_ms': [],\n",
    "     'time_signature': []\n",
    "               }\n",
    "    \n",
    "    #using a for loop, get the the info for each song and put it into the empty dictionary\n",
    "    for track in tracks:\n",
    "        #URI\n",
    "        info['track_uri'].append((track[\"track\"][\"uri\"]).split(':')[2])\n",
    "\n",
    "        #Track name\n",
    "        info['track_name'].append(track[\"track\"][\"name\"])\n",
    "\n",
    "        #Main Artist\n",
    "        info['artist_uri'].append((track[\"track\"][\"artists\"][0][\"uri\"]).split(':')[2])\n",
    "        info['artist_info'].append(sp.artist(track[\"track\"][\"artists\"][0][\"uri\"]))\n",
    "\n",
    "        #Name, popularity, genre\n",
    "        info['artist_name'].append(track[\"track\"][\"artists\"][0][\"name\"])\n",
    "        info['artist_popularity'].append(sp.artist(track[\"track\"][\"artists\"][0][\"uri\"])[\"popularity\"])\n",
    "        info['artist_genre'].append(sp.artist(track[\"track\"][\"artists\"][0][\"uri\"])[\"genres\"])\n",
    "\n",
    "        #Album\n",
    "        info['album'].append(track[\"track\"][\"album\"][\"name\"])\n",
    "\n",
    "        #Popularity of the track, year released\n",
    "        info['track_pop'].append(track[\"track\"][\"popularity\"])\n",
    "        info['year_released'].append(track[\"track\"]['album']['release_date'])\n",
    "        \n",
    "        #Transform the info dictionary into a dataframe\n",
    "        info_df = pd.DataFrame(info)\n",
    "        \n",
    "        #loop through the tracks to their features and assign it to the empty dictionary\n",
    "        track_uri = track[\"track\"][\"uri\"].split(':')[2] \n",
    "        \n",
    "        try:\n",
    "            for key,value in (sp.audio_features(track_uri)[0]).items():\n",
    "                features[key].append(value)\n",
    "            \n",
    "        except:\n",
    "            print(f'failed on track {track[\"track\"][\"name\"]}')\n",
    "            continue\n",
    "        time.sleep(3)\n",
    "        \n",
    "    #Transform the features dictionary into a dataframe\n",
    "    features_df = pd.DataFrame(features)\n",
    "    \n",
    "        \n",
    "    \n",
    "    return info_df.join(features_df)\n",
    "        "
   ]
  },
  {
   "cell_type": "markdown",
   "id": "a1643f1c-c703-4073-a781-ec176f8f8159",
   "metadata": {},
   "source": [
    "#### Add label to the playlist dataframe\n"
   ]
  },
  {
   "cell_type": "markdown",
   "id": "2d7d46db-9295-459b-8a76-5cab581fdf3e",
   "metadata": {},
   "source": [
    "This function calls the get_track_info function above and creates a column with the playlist genre or given username"
   ]
  },
  {
   "cell_type": "code",
   "execution_count": null,
   "id": "e9b0dd85-4dc8-437c-9eeb-a9fcba330859",
   "metadata": {},
   "outputs": [],
   "source": [
    "def raw_data(user_playlist_url, genre):\n",
    "    user_playlist_info = get_track_info(user_playlist_url)\n",
    "    #add user genre\n",
    "    user_playlist_info.loc[:,'genre'] = genre\n",
    "    return user_playlist_info"
   ]
  },
  {
   "cell_type": "markdown",
   "id": "2187ce6e-fa3a-4e2d-8a12-15124d9c84d8",
   "metadata": {},
   "source": [
    "#### Afrobeats playlist"
   ]
  },
  {
   "cell_type": "markdown",
   "id": "a02b6dad-5e84-43eb-9bb3-0383ddcde8eb",
   "metadata": {},
   "source": [
    "I created an afrobeats playlist with spotify that contains 1500+ tracks. Using the functions above, I will fetch the tracks metadata and features"
   ]
  },
  {
   "cell_type": "code",
   "execution_count": null,
   "id": "f59c9db3-4457-4fec-bd54-861fb53e4924",
   "metadata": {},
   "outputs": [],
   "source": [
    "afrobeats_playlist_url= \"https://open.spotify.com/playlist/5ZCzd0nCLqiIX1jwQWfazW\""
   ]
  },
  {
   "cell_type": "code",
   "execution_count": null,
   "id": "0a7f1119-c30e-434d-9ba5-01505cf76246",
   "metadata": {},
   "outputs": [],
   "source": [
    "afrobeats_df = raw_data(afrobeats_playlist_url, 'afrobeats')"
   ]
  },
  {
   "cell_type": "code",
   "execution_count": null,
   "id": "8c10dc33-d8d2-439f-a62b-f63dc6edfd7a",
   "metadata": {},
   "outputs": [],
   "source": [
    "afrobeats_df.head(2)"
   ]
  },
  {
   "cell_type": "code",
   "execution_count": null,
   "id": "24c216f8-b6b3-43cb-b133-3326ac94dcef",
   "metadata": {},
   "outputs": [],
   "source": [
    "len(afrobeats_df)"
   ]
  },
  {
   "cell_type": "code",
   "execution_count": null,
   "id": "de7b5868-9f4a-40b9-ae4f-fe8d4c5f1a40",
   "metadata": {},
   "outputs": [],
   "source": [
    "afrobeats_df.isna().sum().sum()"
   ]
  },
  {
   "cell_type": "code",
   "execution_count": null,
   "id": "85764720-2a8f-4b27-9517-3bf8cc592cb2",
   "metadata": {},
   "outputs": [],
   "source": [
    "afrobeats_df[afrobeats_df['energy'].isnull()]"
   ]
  },
  {
   "cell_type": "code",
   "execution_count": null,
   "id": "c5668270-cbbd-4954-b04c-6dcb0aea3dbf",
   "metadata": {},
   "outputs": [],
   "source": [
    "afrobeats_df.dropna(inplace=True)"
   ]
  },
  {
   "cell_type": "code",
   "execution_count": null,
   "id": "3c0b5da6-4dff-46c9-b94b-f4c55c31172f",
   "metadata": {},
   "outputs": [],
   "source": [
    "afrobeats_df.isnull().sum().sum()"
   ]
  },
  {
   "cell_type": "markdown",
   "id": "fc85b053-2b01-44c9-ae7a-bd46dc22995e",
   "metadata": {
    "tags": []
   },
   "source": [
    "#### Exporta afrobeats as a csv"
   ]
  },
  {
   "cell_type": "code",
   "execution_count": null,
   "id": "35b91f61-dffd-4c38-997d-a3721f4d532d",
   "metadata": {},
   "outputs": [],
   "source": [
    "afrobeats_df.to_csv('../data/afrobeats.csv', index = False)"
   ]
  },
  {
   "cell_type": "markdown",
   "id": "c8b93649-97b2-4da8-bd50-62f522467599",
   "metadata": {},
   "source": [
    "#### Jacks playlist"
   ]
  },
  {
   "cell_type": "markdown",
   "id": "3a349f5b-6f53-40bb-8840-629c6724c808",
   "metadata": {},
   "source": [
    "My classmate Jack volunteered his spotify playlist which contains mostly classical music. "
   ]
  },
  {
   "cell_type": "code",
   "execution_count": null,
   "id": "64976505-f389-42fd-8727-fa0dbe9e5aa8",
   "metadata": {},
   "outputs": [],
   "source": [
    "jacks_playlist_url = 'https://open.spotify.com/playlist/6UlskZAcTPzcGMnQaMnIVm?si=5cbb031d1fdd4064'"
   ]
  },
  {
   "cell_type": "code",
   "execution_count": null,
   "id": "c1cf8c56-e024-4d2f-92bf-8855d210654c",
   "metadata": {},
   "outputs": [],
   "source": [
    "jacks_playlist_df = raw_data(jacks_playlist_url, 'jack')"
   ]
  },
  {
   "cell_type": "code",
   "execution_count": null,
   "id": "33f5afaa-8187-41c6-a854-230d88015a3b",
   "metadata": {},
   "outputs": [],
   "source": [
    "jacks_playlist_df.head()"
   ]
  },
  {
   "cell_type": "markdown",
   "id": "1297b011-45e5-4feb-97ce-30ef443bc2d8",
   "metadata": {
    "tags": []
   },
   "source": [
    "#### Exporta Jack's playlist as a csv"
   ]
  },
  {
   "cell_type": "code",
   "execution_count": null,
   "id": "959afc39-befd-4e0f-a4a0-6e03620c12d0",
   "metadata": {},
   "outputs": [],
   "source": [
    "jacks_playlist_df.to_csv('../data/jack.csv', index = False)"
   ]
  },
  {
   "cell_type": "markdown",
   "id": "eeac0522-11a5-4b12-ae58-d7f9858d30b7",
   "metadata": {},
   "source": [
    "#### Ankita playlist"
   ]
  },
  {
   "cell_type": "markdown",
   "id": "6ede8ce2-9bd6-4ad2-91ab-dc1354140d35",
   "metadata": {},
   "source": [
    "Ankita, also a classmate, gave me her spotify url. Her playlist is a mixture of pop and Indian music"
   ]
  },
  {
   "cell_type": "code",
   "execution_count": null,
   "id": "dd7cf03f-8969-4412-8d27-f897279990a2",
   "metadata": {},
   "outputs": [],
   "source": [
    "ankita_playlist_url = 'https://open.spotify.com/playlist/6qzbkhrmxdFj5TtaXR0sfI?si=ElY40mMjQ7apOsHTGlQI7A'"
   ]
  },
  {
   "cell_type": "code",
   "execution_count": null,
   "id": "93b7ac8f-74c7-4741-aa62-020cfd897ea1",
   "metadata": {
    "tags": []
   },
   "outputs": [],
   "source": [
    "ankita_playlist_df = raw_data(ankita_playlist_url, 'ankita')"
   ]
  },
  {
   "cell_type": "code",
   "execution_count": null,
   "id": "9dbde090-fbe2-4f94-bf4a-dfd4f6824c7b",
   "metadata": {},
   "outputs": [],
   "source": [
    "ankita_playlist_df.head()"
   ]
  },
  {
   "cell_type": "markdown",
   "id": "1cd69214-ca09-4d67-81f8-4d30c30e5f13",
   "metadata": {
    "tags": []
   },
   "source": [
    "#### Export Ankita's playlist as a csv"
   ]
  },
  {
   "cell_type": "code",
   "execution_count": null,
   "id": "e3dc3566-ef5f-40ee-b42b-6f3b02952ed4",
   "metadata": {},
   "outputs": [],
   "source": [
    "ankita_playlist_df.to_csv('../data/ankita.csv', index = False)"
   ]
  },
  {
   "cell_type": "markdown",
   "id": "a7b18924-660d-4ca5-8f6e-dc5dfb4c44f9",
   "metadata": {},
   "source": [
    "#### Playlist featuring top songs from Fela"
   ]
  },
  {
   "cell_type": "markdown",
   "id": "12c0e15d-bc08-439f-ae42-a059773fa161",
   "metadata": {},
   "source": [
    "Fela pioneered the Afrobeats sound. He called his sound Afrobeat (without the s). I will compare the difference in sounds in the EDA section"
   ]
  },
  {
   "cell_type": "code",
   "execution_count": null,
   "id": "ef299721-0498-410b-a23b-d76f92bd7693",
   "metadata": {},
   "outputs": [],
   "source": [
    "fela_playlist_url = 'https://open.spotify.com/playlist/1bSsiqaBobgbnZTTVEo4Qh?si=3093a84902434561'"
   ]
  },
  {
   "cell_type": "code",
   "execution_count": null,
   "id": "42278e09-11bf-4c1a-8ed4-93a22db2c2c5",
   "metadata": {},
   "outputs": [],
   "source": [
    "fela_playlist_df = raw_data(fela_playlist_url, 'fela')"
   ]
  },
  {
   "cell_type": "code",
   "execution_count": null,
   "id": "46015183-3739-4a32-bcb2-80b267f234e5",
   "metadata": {},
   "outputs": [],
   "source": [
    "fela_playlist_df.head(2)"
   ]
  },
  {
   "cell_type": "markdown",
   "id": "56cfc713-2eea-4f72-8809-a3f3fe825b3b",
   "metadata": {
    "tags": []
   },
   "source": [
    "#### Exporta fela playlist as a csv"
   ]
  },
  {
   "cell_type": "code",
   "execution_count": null,
   "id": "743a51bf-3905-4913-befc-69428a23954f",
   "metadata": {},
   "outputs": [],
   "source": [
    "fela_playlist_df.to_csv('../data/fela.csv', index = False)"
   ]
  },
  {
   "cell_type": "markdown",
   "id": "d444e7de-3e66-41dc-bb89-aaa20be8ee91",
   "metadata": {},
   "source": [
    "#### Heavy metal playlist"
   ]
  },
  {
   "cell_type": "code",
   "execution_count": null,
   "id": "06043d13-daf0-4050-b38c-8fe1da6c0d3d",
   "metadata": {},
   "outputs": [],
   "source": [
    "heavy_metal_playlist_url = 'https://open.spotify.com/playlist/37i9dQZF1DX9qNs32fujYe?si=8686a89d3fb7415b'"
   ]
  },
  {
   "cell_type": "code",
   "execution_count": null,
   "id": "41cd9b9c-f882-4e5c-92fd-ee4f53fb79e5",
   "metadata": {
    "tags": []
   },
   "outputs": [],
   "source": [
    "heavy_metal_playlist_df = raw_data(heavy_metal_playlist_url, 'heavy_metal')"
   ]
  },
  {
   "cell_type": "code",
   "execution_count": null,
   "id": "65cb16ad-d19b-4e50-a487-3cda2e87a646",
   "metadata": {},
   "outputs": [],
   "source": [
    "heavy_metal_playlist_df.head(2)"
   ]
  },
  {
   "cell_type": "markdown",
   "id": "47d46eff-b712-495d-ab24-55caef3c31e0",
   "metadata": {
    "tags": []
   },
   "source": [
    "#### Export heavy metal playlist as a csv"
   ]
  },
  {
   "cell_type": "code",
   "execution_count": null,
   "id": "c0e3152c-aa54-4fb1-b588-c60867ce058b",
   "metadata": {},
   "outputs": [],
   "source": [
    "heavy_metal_playlist_df.to_csv('../data/heavymetal.csv', index = False)"
   ]
  },
  {
   "cell_type": "markdown",
   "id": "281910b5-bbe7-4aab-8fc5-306b3ea390f3",
   "metadata": {},
   "source": [
    "#### Rock playlist"
   ]
  },
  {
   "cell_type": "code",
   "execution_count": null,
   "id": "3f12ca18-44cb-4a24-825b-5a5cbcad1d91",
   "metadata": {},
   "outputs": [],
   "source": [
    "rock_playlist_url = 'https://open.spotify.com/playlist/37i9dQZF1DXcF6B6QPhFDv?si=53be43146b8f4585'"
   ]
  },
  {
   "cell_type": "code",
   "execution_count": null,
   "id": "6dad68a8-337c-4fd7-bf0b-d17bd9f16d48",
   "metadata": {
    "tags": []
   },
   "outputs": [],
   "source": [
    "rock_playlist_df = raw_data(rock_playlist_url, 'rock')"
   ]
  },
  {
   "cell_type": "code",
   "execution_count": null,
   "id": "b5f63c4f-4363-4d2e-8845-1d3d0a11d66c",
   "metadata": {},
   "outputs": [],
   "source": [
    "rock_playlist_df.head(2)"
   ]
  },
  {
   "cell_type": "markdown",
   "id": "833692fd-2b72-4c24-8674-22c3dc37ad71",
   "metadata": {
    "tags": []
   },
   "source": [
    "#### Export rock playlist as a csv"
   ]
  },
  {
   "cell_type": "code",
   "execution_count": null,
   "id": "e13e16f8-44a0-4e1d-9505-eab1be426e6c",
   "metadata": {},
   "outputs": [],
   "source": [
    "rock_playlist_df.to_csv('../data/rock.csv', index = False)"
   ]
  },
  {
   "cell_type": "markdown",
   "id": "d08024b9-6dca-425f-a43c-ff2bf5fe245c",
   "metadata": {},
   "source": [
    "#### Jazz playlist"
   ]
  },
  {
   "cell_type": "code",
   "execution_count": null,
   "id": "cf8617ae-a5ab-4719-b101-3521c3e4ca3a",
   "metadata": {},
   "outputs": [],
   "source": [
    "jazz_playlist_url = 'https://open.spotify.com/playlist/37i9dQZF1DXdwTUxmGKrdN?si=a054d3423fca4687'"
   ]
  },
  {
   "cell_type": "code",
   "execution_count": null,
   "id": "2347ee49-56ac-48f6-a574-d5c67d65633e",
   "metadata": {
    "tags": []
   },
   "outputs": [],
   "source": [
    "jazz_playlist_df = raw_data(jazz_playlist_url, 'jazz')"
   ]
  },
  {
   "cell_type": "code",
   "execution_count": null,
   "id": "438535bc-23c1-41af-82d1-5ac1b05d08e1",
   "metadata": {},
   "outputs": [],
   "source": [
    "jazz_playlist_df.head(2)"
   ]
  },
  {
   "cell_type": "markdown",
   "id": "625c8e09-175b-4657-b0a1-306c0baaaa78",
   "metadata": {
    "tags": []
   },
   "source": [
    "#### Export jazz playlist as a csv"
   ]
  },
  {
   "cell_type": "code",
   "execution_count": null,
   "id": "98a6a7f6-949b-4e88-a51d-a9ccaa18d8f5",
   "metadata": {},
   "outputs": [],
   "source": [
    "jazz_playlist_df.to_csv('../data/jazz.csv', index = False)"
   ]
  },
  {
   "cell_type": "markdown",
   "id": "97e07239-32f3-4bed-8047-b143c27eaf8a",
   "metadata": {},
   "source": [
    "#### Country playlist"
   ]
  },
  {
   "cell_type": "code",
   "execution_count": null,
   "id": "058631d1-d210-48b9-a90f-3308ca292878",
   "metadata": {},
   "outputs": [],
   "source": [
    "country_playlist_url = 'https://open.spotify.com/playlist/37i9dQZF1DWXdiK4WAVRUW?si=56683bfa3aca4788'"
   ]
  },
  {
   "cell_type": "code",
   "execution_count": null,
   "id": "d801f990-d4bd-4293-a89f-956fc140e435",
   "metadata": {
    "tags": []
   },
   "outputs": [],
   "source": [
    "country_playlist_df = raw_data(country_playlist_url, 'country')"
   ]
  },
  {
   "cell_type": "code",
   "execution_count": null,
   "id": "0bb0c24c-6130-4c0d-8016-f7f4b495912c",
   "metadata": {},
   "outputs": [],
   "source": [
    "country_playlist_df.head(2)"
   ]
  },
  {
   "cell_type": "markdown",
   "id": "f8d0d5d4-ddb5-4264-a8e4-491379242509",
   "metadata": {
    "tags": []
   },
   "source": [
    "#### Export country playlist as a csv"
   ]
  },
  {
   "cell_type": "code",
   "execution_count": null,
   "id": "0d98cc90-27e8-42d8-813d-f2b4a04d318d",
   "metadata": {},
   "outputs": [],
   "source": [
    "country_playlist_df.to_csv('../data/country.csv', index = False)"
   ]
  },
  {
   "cell_type": "markdown",
   "id": "9e05533e-a349-4399-af68-6b91f25bda21",
   "metadata": {},
   "source": [
    "#### Hip Hop playlist"
   ]
  },
  {
   "cell_type": "code",
   "execution_count": null,
   "id": "fb8502bb-3196-4e87-9a07-650fad5476fe",
   "metadata": {},
   "outputs": [],
   "source": [
    "hiphop_playlist_url = 'https://open.spotify.com/playlist/37i9dQZF1DX97h7ftpNSYT?si=5b73c05e83c9410f'"
   ]
  },
  {
   "cell_type": "code",
   "execution_count": null,
   "id": "b8b4577a-7bd1-4e6c-873a-f7afead68b3d",
   "metadata": {
    "tags": []
   },
   "outputs": [],
   "source": [
    "hiphop_playlist_df = raw_data(hiphop_playlist_url, 'hiphop')"
   ]
  },
  {
   "cell_type": "code",
   "execution_count": null,
   "id": "48b7284a-b5c3-4203-9e05-239ddd1923d0",
   "metadata": {},
   "outputs": [],
   "source": [
    "hiphop_playlist_df.head(2)"
   ]
  },
  {
   "cell_type": "markdown",
   "id": "a9722f26-d28f-4a6a-b5e0-96f5c198eb80",
   "metadata": {
    "tags": []
   },
   "source": [
    "#### Export Hip Hop playlist as a csv"
   ]
  },
  {
   "cell_type": "code",
   "execution_count": null,
   "id": "04a65a27-1119-4d94-8eb0-f144238e6e39",
   "metadata": {},
   "outputs": [],
   "source": [
    "hiphop_playlist_df.to_csv('../data/hiphop.csv', index = False)"
   ]
  },
  {
   "cell_type": "markdown",
   "id": "002b7038-8a16-4f8a-a7bb-e01cd0e7f41b",
   "metadata": {},
   "source": [
    "#### RnB playlist"
   ]
  },
  {
   "cell_type": "code",
   "execution_count": null,
   "id": "9dbe70df-ef45-4092-b23e-3034faceb940",
   "metadata": {},
   "outputs": [],
   "source": [
    "rnb_playlist_url = 'https://open.spotify.com/playlist/37i9dQZF1DWXbttAJcbphz?si=aa6c61a73e1a4c24'"
   ]
  },
  {
   "cell_type": "code",
   "execution_count": null,
   "id": "0ea27a02-9c1a-4148-a949-d22175383b4c",
   "metadata": {
    "tags": []
   },
   "outputs": [],
   "source": [
    "rnb_playlist_df = raw_data(rnb_playlist_url, 'rnb')"
   ]
  },
  {
   "cell_type": "code",
   "execution_count": null,
   "id": "02a0f135-a231-481a-8a06-10c0bda23b59",
   "metadata": {},
   "outputs": [],
   "source": [
    "rnb_playlist_df.head(2)"
   ]
  },
  {
   "cell_type": "markdown",
   "id": "92533e71-f0d3-4329-b877-0b0eb465b612",
   "metadata": {
    "tags": []
   },
   "source": [
    "#### Export rnb playlist as a csv"
   ]
  },
  {
   "cell_type": "code",
   "execution_count": null,
   "id": "041c8942-3c37-46cd-ab1d-12d8c76e3f9b",
   "metadata": {},
   "outputs": [],
   "source": [
    "rnb_playlist_df.to_csv('../data/rnb.csv', index = False)"
   ]
  },
  {
   "cell_type": "markdown",
   "id": "4649aab6-0049-4d08-acf5-38a6166f41b9",
   "metadata": {},
   "source": [
    "The next notebook features me performing exploratory data analysis on the csv exported. "
   ]
  }
 ],
 "metadata": {
  "kernelspec": {
   "display_name": "Python 3 (ipykernel)",
   "language": "python",
   "name": "python3"
  },
  "language_info": {
   "codemirror_mode": {
    "name": "ipython",
    "version": 3
   },
   "file_extension": ".py",
   "mimetype": "text/x-python",
   "name": "python",
   "nbconvert_exporter": "python",
   "pygments_lexer": "ipython3",
   "version": "3.10.2"
  },
  "widgets": {
   "application/vnd.jupyter.widget-state+json": {
    "state": {},
    "version_major": 2,
    "version_minor": 0
   }
  }
 },
 "nbformat": 4,
 "nbformat_minor": 5
}
