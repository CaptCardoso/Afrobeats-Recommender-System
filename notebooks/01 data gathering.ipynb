{
 "cells": [
  {
   "cell_type": "markdown",
   "id": "cccd6e15-85d3-4d5b-8ab2-c84ed6e4392d",
   "metadata": {},
   "source": [
    "<img src=\"../images/felipepelaquim-9c7CK4BemmA-unsplash.jpg\"  style=\"float: center; margin: 0px; height: 350px; width: 1000px\"> "
   ]
  },
  {
   "cell_type": "markdown",
   "id": "fc50c665-3042-44ed-83ab-ccc65c6589e2",
   "metadata": {},
   "source": [
    "# Afrobeats influence in Hip Hop"
   ]
  },
  {
   "cell_type": "code",
   "execution_count": 1,
   "id": "89b69dd1-7ea9-4346-918a-f15e8d357a5f",
   "metadata": {},
   "outputs": [],
   "source": [
    "import pandas as pd\n",
    "import numpy as np\n",
    "import matplotlib.pyplot as plt\n",
    "import seaborn as sns\n",
    "import spotipy\n",
    "from spotipy.oauth2 import SpotifyClientCredentials\n",
    "\n",
    "from sklearn.datasets import make_blobs\n",
    "from sklearn.cluster import KMeans\n",
    "from sklearn.metrics import silhouette_score\n",
    "from sklearn.preprocessing import StandardScaler\n",
    "from sklearn.pipeline import Pipeline\n",
    "\n",
    "import time"
   ]
  },
  {
   "cell_type": "code",
   "execution_count": 2,
   "id": "e978974b-d535-4ee2-9753-f7a761e82124",
   "metadata": {},
   "outputs": [],
   "source": [
    "#Authentication\n",
    "client_credentials_manager = SpotifyClientCredentials(client_id = '2101cd224f5948e19c4c782d76744ed3',\n",
    "                                                      client_secret = '879abdfca432449facc9d8566fb40ab6')"
   ]
  },
  {
   "cell_type": "markdown",
   "id": "87369f49-de3a-49f6-b966-02bae099e353",
   "metadata": {},
   "source": [
    "Create spotipy object using SpotifyClientCredentials"
   ]
  },
  {
   "cell_type": "code",
   "execution_count": 3,
   "id": "4c480c62-3593-4ffb-bf5f-6b052e084cd7",
   "metadata": {},
   "outputs": [],
   "source": [
    "sp = spotipy.Spotify(client_credentials_manager = client_credentials_manager)"
   ]
  },
  {
   "cell_type": "code",
   "execution_count": 4,
   "id": "40113fde-7a20-42aa-8ad1-c00096b745fd",
   "metadata": {},
   "outputs": [],
   "source": [
    "# results = sp.playlist_tracks('5ZCzd0nCLqiIX1jwQWfazW')\n",
    "# tracks = results['items']\n",
    "    \n",
    "# while results['next']:\n",
    "#     results = sp.next(results)\n",
    "#     tracks.extend(results['items'])\n",
    "\n",
    "# tracks[4]['track'].keys()\n",
    "\n",
    "# tracks[4]['track']['uri']"
   ]
  },
  {
   "cell_type": "markdown",
   "id": "71efebfe-c0a7-4491-b658-d94326acb731",
   "metadata": {},
   "source": [
    "## Get song info"
   ]
  },
  {
   "cell_type": "markdown",
   "id": "2712e24c-0a59-44f3-965d-88041a0bdefc",
   "metadata": {},
   "source": [
    "Create a function that takes in a playlist of songs and extracts the songs information and features such as artist name, genre, album name, track_uri, danceability, energy, loudness, instrumentalness etc"
   ]
  },
  {
   "cell_type": "code",
   "execution_count": 5,
   "id": "e7905506-086a-40c3-aa47-033d687fee69",
   "metadata": {},
   "outputs": [],
   "source": [
    "def get_track_info(playlist):\n",
    "    \n",
    "    #split the playlist_uri is at the end of the playlists url. I'll use the .split method to extract it\n",
    "    uri = playlist.split(\"/\")[-1].split(\"?\")[0]\n",
    "    \n",
    "    #from the spotipy library, use the playlist_tracks() method to extract each track from the playlist uri\n",
    "    #It comes in a nested dictionary format\n",
    "    \n",
    "    results = sp.playlist_tracks(uri)\n",
    "    tracks = results['items']\n",
    "    \n",
    "    while results['next']:\n",
    "        results = sp.next(results)\n",
    "        tracks.extend(results['items'])\n",
    "    \n",
    "    \n",
    "    #create an empty dictionary with the info we want to extract as columns\n",
    "    info = {\n",
    "    'track_uri':[],\n",
    "    'track_name':[],\n",
    "    'artist_name':[],\n",
    "    #'artist_info':[],\n",
    "    'artist_uri':[],\n",
    "    #'artist_popularity':[],\n",
    "    #'artist_genre':[],\n",
    "    'album':[],\n",
    "    'track_pop':[],\n",
    "    }\n",
    "    \n",
    "    features = {'danceability': [],\n",
    "     'energy': [],\n",
    "     'key': [],\n",
    "     'loudness': [],\n",
    "     'mode': [],\n",
    "     'speechiness': [],\n",
    "     'acousticness': [],\n",
    "     'instrumentalness': [],\n",
    "     'liveness': [],\n",
    "     'valence': [],\n",
    "     'tempo': [],\n",
    "     'type': [],\n",
    "     'id': [],\n",
    "     'uri': [],\n",
    "     'track_href': [],\n",
    "     'analysis_url': [],\n",
    "     'duration_ms': [],\n",
    "     'time_signature': []\n",
    "               }\n",
    "    \n",
    "    #using a for loop, get the the info for each song and put it into the empty dictionary\n",
    "    for track in tracks:\n",
    "        #URI\n",
    "        info['track_uri'].append((track[\"track\"][\"uri\"]).split(':')[2])\n",
    "\n",
    "        #Track name\n",
    "        info['track_name'].append(track[\"track\"][\"name\"])\n",
    "\n",
    "        #Main Artist\n",
    "        info['artist_uri'].append((track[\"track\"][\"artists\"][0][\"uri\"]).split(':')[2])\n",
    "        #info['artist_info'].append(sp.artist(track[\"track\"][\"artists\"][0][\"uri\"]))\n",
    "\n",
    "        #Name, popularity, genre\n",
    "        info['artist_name'].append(track[\"track\"][\"artists\"][0][\"name\"])\n",
    "        #info['artist_popularity'].append(sp.artist(track[\"track\"][\"artists\"][0][\"uri\"])[\"popularity\"])\n",
    "        #info['artist_genre'].append(sp.artist(track[\"track\"][\"artists\"][0][\"uri\"])[\"genres\"])\n",
    "\n",
    "        #Album\n",
    "        info['album'].append(track[\"track\"][\"album\"][\"name\"])\n",
    "\n",
    "        #Popularity of the track\n",
    "        info['track_pop'].append(track[\"track\"][\"popularity\"])\n",
    "        \n",
    "        #Transform the info dictionary into a dataframe\n",
    "        info_df = pd.DataFrame(info)\n",
    "        \n",
    "        #loop through the tracks to their features and assign it to the empty dictionary\n",
    "        track_uri = track[\"track\"][\"uri\"].split(':')[2] \n",
    "        \n",
    "        for key,value in (sp.audio_features(track_uri)[0]).items():\n",
    "            features[key].append(value)\n",
    "            \n",
    "        #time.sleep(1)\n",
    "        #time.sleep(random.uniform(1,5))\n",
    "        \n",
    "    #Transform the features dictionary into a dataframe\n",
    "    features_df = pd.DataFrame(features)\n",
    "    \n",
    "    #drop features we do not need\n",
    "    #features_df.drop(columns=['type','id','uri','track_href','analysis_url','duration_ms','time_signature'], inplace=True)   \n",
    "    \n",
    "    \n",
    "    \n",
    "     \n",
    "    \n",
    "    return info_df.join(features_df)\n",
    "        "
   ]
  },
  {
   "cell_type": "markdown",
   "id": "a1643f1c-c703-4073-a781-ec176f8f8159",
   "metadata": {},
   "source": [
    "#### Create dataframe of users playlist"
   ]
  },
  {
   "cell_type": "markdown",
   "id": "2187ce6e-fa3a-4e2d-8a12-15124d9c84d8",
   "metadata": {},
   "source": [
    "#### Afrobeats playlist"
   ]
  },
  {
   "cell_type": "code",
   "execution_count": 7,
   "id": "e9b0dd85-4dc8-437c-9eeb-a9fcba330859",
   "metadata": {},
   "outputs": [],
   "source": [
    "def raw_data(user_playlist_url, genre):\n",
    "    user_playlist_info = get_track_info(user_playlist_url)\n",
    "    #add user genre\n",
    "    user_playlist_info.loc[:,'genre'] = genre\n",
    "    return user_playlist_info"
   ]
  },
  {
   "cell_type": "code",
   "execution_count": 8,
   "id": "f59c9db3-4457-4fec-bd54-861fb53e4924",
   "metadata": {},
   "outputs": [],
   "source": [
    "afrobeats_playlist_url= \"https://open.spotify.com/playlist/5ZCzd0nCLqiIX1jwQWfazW\""
   ]
  },
  {
   "cell_type": "code",
   "execution_count": 9,
   "id": "0a7f1119-c30e-434d-9ba5-01505cf76246",
   "metadata": {},
   "outputs": [],
   "source": [
    "afrobeats_df = raw_data(afrobeats_playlist_url, 'afrobeats')"
   ]
  },
  {
   "cell_type": "code",
   "execution_count": 10,
   "id": "8c10dc33-d8d2-439f-a62b-f63dc6edfd7a",
   "metadata": {},
   "outputs": [
    {
     "data": {
      "text/html": [
       "<div>\n",
       "<style scoped>\n",
       "    .dataframe tbody tr th:only-of-type {\n",
       "        vertical-align: middle;\n",
       "    }\n",
       "\n",
       "    .dataframe tbody tr th {\n",
       "        vertical-align: top;\n",
       "    }\n",
       "\n",
       "    .dataframe thead th {\n",
       "        text-align: right;\n",
       "    }\n",
       "</style>\n",
       "<table border=\"1\" class=\"dataframe\">\n",
       "  <thead>\n",
       "    <tr style=\"text-align: right;\">\n",
       "      <th></th>\n",
       "      <th>track_uri</th>\n",
       "      <th>track_name</th>\n",
       "      <th>artist_name</th>\n",
       "      <th>artist_uri</th>\n",
       "      <th>album</th>\n",
       "      <th>track_pop</th>\n",
       "      <th>danceability</th>\n",
       "      <th>energy</th>\n",
       "      <th>key</th>\n",
       "      <th>loudness</th>\n",
       "      <th>...</th>\n",
       "      <th>valence</th>\n",
       "      <th>tempo</th>\n",
       "      <th>type</th>\n",
       "      <th>id</th>\n",
       "      <th>uri</th>\n",
       "      <th>track_href</th>\n",
       "      <th>analysis_url</th>\n",
       "      <th>duration_ms</th>\n",
       "      <th>time_signature</th>\n",
       "      <th>genre</th>\n",
       "    </tr>\n",
       "  </thead>\n",
       "  <tbody>\n",
       "    <tr>\n",
       "      <th>0</th>\n",
       "      <td>0mDRuZmReEm6DquPLJlcEm</td>\n",
       "      <td>Oleku (feat. Brymo)</td>\n",
       "      <td>Ice Prince</td>\n",
       "      <td>1sSt1DqqqFLkPwfrqafVyn</td>\n",
       "      <td>Oleku (feat. Brymo)</td>\n",
       "      <td>51</td>\n",
       "      <td>0.544</td>\n",
       "      <td>0.730</td>\n",
       "      <td>1</td>\n",
       "      <td>-4.299</td>\n",
       "      <td>...</td>\n",
       "      <td>0.751</td>\n",
       "      <td>162.112</td>\n",
       "      <td>audio_features</td>\n",
       "      <td>0mDRuZmReEm6DquPLJlcEm</td>\n",
       "      <td>spotify:track:0mDRuZmReEm6DquPLJlcEm</td>\n",
       "      <td>https://api.spotify.com/v1/tracks/0mDRuZmReEm6...</td>\n",
       "      <td>https://api.spotify.com/v1/audio-analysis/0mDR...</td>\n",
       "      <td>291364</td>\n",
       "      <td>5</td>\n",
       "      <td>afrobeats</td>\n",
       "    </tr>\n",
       "    <tr>\n",
       "      <th>1</th>\n",
       "      <td>1tvi8tv0eykhNcV1WtaIqO</td>\n",
       "      <td>Move Back</td>\n",
       "      <td>5five</td>\n",
       "      <td>37zb1JQnDV9dRLatrASEj1</td>\n",
       "      <td>Move Back</td>\n",
       "      <td>45</td>\n",
       "      <td>0.793</td>\n",
       "      <td>0.734</td>\n",
       "      <td>11</td>\n",
       "      <td>-9.252</td>\n",
       "      <td>...</td>\n",
       "      <td>0.793</td>\n",
       "      <td>125.032</td>\n",
       "      <td>audio_features</td>\n",
       "      <td>1tvi8tv0eykhNcV1WtaIqO</td>\n",
       "      <td>spotify:track:1tvi8tv0eykhNcV1WtaIqO</td>\n",
       "      <td>https://api.spotify.com/v1/tracks/1tvi8tv0eykh...</td>\n",
       "      <td>https://api.spotify.com/v1/audio-analysis/1tvi...</td>\n",
       "      <td>237107</td>\n",
       "      <td>4</td>\n",
       "      <td>afrobeats</td>\n",
       "    </tr>\n",
       "    <tr>\n",
       "      <th>2</th>\n",
       "      <td>5YgyvTZmdkIfFOnj8ri8mZ</td>\n",
       "      <td>Pakurumo</td>\n",
       "      <td>WizKid</td>\n",
       "      <td>3tVQdUvClmAT7URs9V3rsp</td>\n",
       "      <td>Superstar</td>\n",
       "      <td>49</td>\n",
       "      <td>0.879</td>\n",
       "      <td>0.737</td>\n",
       "      <td>2</td>\n",
       "      <td>-5.412</td>\n",
       "      <td>...</td>\n",
       "      <td>0.967</td>\n",
       "      <td>119.990</td>\n",
       "      <td>audio_features</td>\n",
       "      <td>5YgyvTZmdkIfFOnj8ri8mZ</td>\n",
       "      <td>spotify:track:5YgyvTZmdkIfFOnj8ri8mZ</td>\n",
       "      <td>https://api.spotify.com/v1/tracks/5YgyvTZmdkIf...</td>\n",
       "      <td>https://api.spotify.com/v1/audio-analysis/5Ygy...</td>\n",
       "      <td>212006</td>\n",
       "      <td>4</td>\n",
       "      <td>afrobeats</td>\n",
       "    </tr>\n",
       "    <tr>\n",
       "      <th>3</th>\n",
       "      <td>2cWdhA4ZDBvYuHRKKIPT3k</td>\n",
       "      <td>The Matter (feat. Wizkid)</td>\n",
       "      <td>Maleek Berry</td>\n",
       "      <td>520qA5VGL9iI0SbmEnTVNg</td>\n",
       "      <td>The Matter (feat. Wizkid)</td>\n",
       "      <td>49</td>\n",
       "      <td>0.697</td>\n",
       "      <td>0.841</td>\n",
       "      <td>2</td>\n",
       "      <td>-6.782</td>\n",
       "      <td>...</td>\n",
       "      <td>0.808</td>\n",
       "      <td>103.070</td>\n",
       "      <td>audio_features</td>\n",
       "      <td>2cWdhA4ZDBvYuHRKKIPT3k</td>\n",
       "      <td>spotify:track:2cWdhA4ZDBvYuHRKKIPT3k</td>\n",
       "      <td>https://api.spotify.com/v1/tracks/2cWdhA4ZDBvY...</td>\n",
       "      <td>https://api.spotify.com/v1/audio-analysis/2cWd...</td>\n",
       "      <td>198058</td>\n",
       "      <td>4</td>\n",
       "      <td>afrobeats</td>\n",
       "    </tr>\n",
       "    <tr>\n",
       "      <th>4</th>\n",
       "      <td>4voOsb8qpJ569JaMiGAyrl</td>\n",
       "      <td>Slow Down (feat. Wiz Kid)</td>\n",
       "      <td>R2Bees</td>\n",
       "      <td>0LFsP7WPfu5inz9a1amcE4</td>\n",
       "      <td>Refuse to Be Broke: Da Revolution 2</td>\n",
       "      <td>53</td>\n",
       "      <td>0.520</td>\n",
       "      <td>0.717</td>\n",
       "      <td>6</td>\n",
       "      <td>-3.006</td>\n",
       "      <td>...</td>\n",
       "      <td>0.704</td>\n",
       "      <td>135.550</td>\n",
       "      <td>audio_features</td>\n",
       "      <td>4voOsb8qpJ569JaMiGAyrl</td>\n",
       "      <td>spotify:track:4voOsb8qpJ569JaMiGAyrl</td>\n",
       "      <td>https://api.spotify.com/v1/tracks/4voOsb8qpJ56...</td>\n",
       "      <td>https://api.spotify.com/v1/audio-analysis/4voO...</td>\n",
       "      <td>261547</td>\n",
       "      <td>5</td>\n",
       "      <td>afrobeats</td>\n",
       "    </tr>\n",
       "  </tbody>\n",
       "</table>\n",
       "<p>5 rows × 25 columns</p>\n",
       "</div>"
      ],
      "text/plain": [
       "                track_uri                 track_name   artist_name  \\\n",
       "0  0mDRuZmReEm6DquPLJlcEm        Oleku (feat. Brymo)    Ice Prince   \n",
       "1  1tvi8tv0eykhNcV1WtaIqO                  Move Back         5five   \n",
       "2  5YgyvTZmdkIfFOnj8ri8mZ                   Pakurumo        WizKid   \n",
       "3  2cWdhA4ZDBvYuHRKKIPT3k  The Matter (feat. Wizkid)  Maleek Berry   \n",
       "4  4voOsb8qpJ569JaMiGAyrl  Slow Down (feat. Wiz Kid)        R2Bees   \n",
       "\n",
       "               artist_uri                                album  track_pop  \\\n",
       "0  1sSt1DqqqFLkPwfrqafVyn                  Oleku (feat. Brymo)         51   \n",
       "1  37zb1JQnDV9dRLatrASEj1                            Move Back         45   \n",
       "2  3tVQdUvClmAT7URs9V3rsp                            Superstar         49   \n",
       "3  520qA5VGL9iI0SbmEnTVNg            The Matter (feat. Wizkid)         49   \n",
       "4  0LFsP7WPfu5inz9a1amcE4  Refuse to Be Broke: Da Revolution 2         53   \n",
       "\n",
       "   danceability  energy  key  loudness  ...  valence    tempo            type  \\\n",
       "0         0.544   0.730    1    -4.299  ...    0.751  162.112  audio_features   \n",
       "1         0.793   0.734   11    -9.252  ...    0.793  125.032  audio_features   \n",
       "2         0.879   0.737    2    -5.412  ...    0.967  119.990  audio_features   \n",
       "3         0.697   0.841    2    -6.782  ...    0.808  103.070  audio_features   \n",
       "4         0.520   0.717    6    -3.006  ...    0.704  135.550  audio_features   \n",
       "\n",
       "                       id                                   uri  \\\n",
       "0  0mDRuZmReEm6DquPLJlcEm  spotify:track:0mDRuZmReEm6DquPLJlcEm   \n",
       "1  1tvi8tv0eykhNcV1WtaIqO  spotify:track:1tvi8tv0eykhNcV1WtaIqO   \n",
       "2  5YgyvTZmdkIfFOnj8ri8mZ  spotify:track:5YgyvTZmdkIfFOnj8ri8mZ   \n",
       "3  2cWdhA4ZDBvYuHRKKIPT3k  spotify:track:2cWdhA4ZDBvYuHRKKIPT3k   \n",
       "4  4voOsb8qpJ569JaMiGAyrl  spotify:track:4voOsb8qpJ569JaMiGAyrl   \n",
       "\n",
       "                                          track_href  \\\n",
       "0  https://api.spotify.com/v1/tracks/0mDRuZmReEm6...   \n",
       "1  https://api.spotify.com/v1/tracks/1tvi8tv0eykh...   \n",
       "2  https://api.spotify.com/v1/tracks/5YgyvTZmdkIf...   \n",
       "3  https://api.spotify.com/v1/tracks/2cWdhA4ZDBvY...   \n",
       "4  https://api.spotify.com/v1/tracks/4voOsb8qpJ56...   \n",
       "\n",
       "                                        analysis_url duration_ms  \\\n",
       "0  https://api.spotify.com/v1/audio-analysis/0mDR...      291364   \n",
       "1  https://api.spotify.com/v1/audio-analysis/1tvi...      237107   \n",
       "2  https://api.spotify.com/v1/audio-analysis/5Ygy...      212006   \n",
       "3  https://api.spotify.com/v1/audio-analysis/2cWd...      198058   \n",
       "4  https://api.spotify.com/v1/audio-analysis/4voO...      261547   \n",
       "\n",
       "  time_signature      genre  \n",
       "0              5  afrobeats  \n",
       "1              4  afrobeats  \n",
       "2              4  afrobeats  \n",
       "3              4  afrobeats  \n",
       "4              5  afrobeats  \n",
       "\n",
       "[5 rows x 25 columns]"
      ]
     },
     "execution_count": 10,
     "metadata": {},
     "output_type": "execute_result"
    }
   ],
   "source": [
    "afrobeats_df.head()"
   ]
  },
  {
   "cell_type": "code",
   "execution_count": 11,
   "id": "24c216f8-b6b3-43cb-b133-3326ac94dcef",
   "metadata": {},
   "outputs": [
    {
     "data": {
      "text/plain": [
       "1500"
      ]
     },
     "execution_count": 11,
     "metadata": {},
     "output_type": "execute_result"
    }
   ],
   "source": [
    "len(afrobeats_df)"
   ]
  },
  {
   "cell_type": "markdown",
   "id": "c8b93649-97b2-4da8-bd50-62f522467599",
   "metadata": {},
   "source": [
    "#### Jacks playlist"
   ]
  },
  {
   "cell_type": "code",
   "execution_count": 13,
   "id": "64976505-f389-42fd-8727-fa0dbe9e5aa8",
   "metadata": {},
   "outputs": [],
   "source": [
    "jacks_playlist_url = 'https://open.spotify.com/playlist/6UlskZAcTPzcGMnQaMnIVm?si=5cbb031d1fdd4064'"
   ]
  },
  {
   "cell_type": "code",
   "execution_count": 14,
   "id": "c1cf8c56-e024-4d2f-92bf-8855d210654c",
   "metadata": {},
   "outputs": [],
   "source": [
    "jacks_playlist_df = raw_data(jacks_playlist_url, 'jack')"
   ]
  },
  {
   "cell_type": "markdown",
   "id": "eeac0522-11a5-4b12-ae58-d7f9858d30b7",
   "metadata": {},
   "source": [
    "#### Ankita playlist"
   ]
  },
  {
   "cell_type": "code",
   "execution_count": 15,
   "id": "dd7cf03f-8969-4412-8d27-f897279990a2",
   "metadata": {},
   "outputs": [],
   "source": [
    "ankita_playlist_url = 'https://open.spotify.com/playlist/6qzbkhrmxdFj5TtaXR0sfI?si=ElY40mMjQ7apOsHTGlQI7A'"
   ]
  },
  {
   "cell_type": "code",
   "execution_count": 16,
   "id": "93b7ac8f-74c7-4741-aa62-020cfd897ea1",
   "metadata": {},
   "outputs": [],
   "source": [
    "ankita_playlist_df = raw_data(ankita_playlist_url, 'ankita')"
   ]
  },
  {
   "cell_type": "markdown",
   "id": "fc85b053-2b01-44c9-ae7a-bd46dc22995e",
   "metadata": {},
   "source": [
    "#### Export dataframes as a csv"
   ]
  },
  {
   "cell_type": "code",
   "execution_count": 17,
   "id": "35b91f61-dffd-4c38-997d-a3721f4d532d",
   "metadata": {},
   "outputs": [],
   "source": [
    "afrobeats_df.to_csv('../data/afrobeats.csv', index = False)"
   ]
  },
  {
   "cell_type": "code",
   "execution_count": 18,
   "id": "959afc39-befd-4e0f-a4a0-6e03620c12d0",
   "metadata": {},
   "outputs": [],
   "source": [
    "jacks_playlist_df.to_csv('../data/jack.csv', index = False)"
   ]
  },
  {
   "cell_type": "code",
   "execution_count": 19,
   "id": "e3dc3566-ef5f-40ee-b42b-6f3b02952ed4",
   "metadata": {},
   "outputs": [],
   "source": [
    "ankita_playlist_df.to_csv('../data/ankita.csv', index = False)"
   ]
  },
  {
   "cell_type": "code",
   "execution_count": null,
   "id": "4775da83-4acd-43d1-aac7-243210a70dd9",
   "metadata": {},
   "outputs": [],
   "source": []
  },
  {
   "cell_type": "code",
   "execution_count": null,
   "id": "34160ac4-a077-46e1-b22d-de2168d7bf9b",
   "metadata": {},
   "outputs": [],
   "source": []
  }
 ],
 "metadata": {
  "kernelspec": {
   "display_name": "Python 3 (ipykernel)",
   "language": "python",
   "name": "python3"
  },
  "language_info": {
   "codemirror_mode": {
    "name": "ipython",
    "version": 3
   },
   "file_extension": ".py",
   "mimetype": "text/x-python",
   "name": "python",
   "nbconvert_exporter": "python",
   "pygments_lexer": "ipython3",
   "version": "3.10.2"
  },
  "widgets": {
   "application/vnd.jupyter.widget-state+json": {
    "state": {},
    "version_major": 2,
    "version_minor": 0
   }
  }
 },
 "nbformat": 4,
 "nbformat_minor": 5
}
