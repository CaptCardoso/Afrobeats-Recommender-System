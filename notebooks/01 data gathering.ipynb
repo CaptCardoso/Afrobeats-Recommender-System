{
 "cells": [
  {
   "cell_type": "markdown",
   "id": "cccd6e15-85d3-4d5b-8ab2-c84ed6e4392d",
   "metadata": {},
   "source": [
    "<img src=\"../images/felipepelaquim-9c7CK4BemmA-unsplash.jpg\"  style=\"float: center; margin: 0px; height: 350px; width: 1000px\"> "
   ]
  },
  {
   "cell_type": "markdown",
   "id": "fc50c665-3042-44ed-83ab-ccc65c6589e2",
   "metadata": {},
   "source": [
    "# Afrobeats influence in Hip Hop"
   ]
  },
  {
   "cell_type": "code",
   "execution_count": 49,
   "id": "89b69dd1-7ea9-4346-918a-f15e8d357a5f",
   "metadata": {},
   "outputs": [],
   "source": [
    "import pandas as pd\n",
    "import numpy as np\n",
    "import matplotlib.pyplot as plt\n",
    "import seaborn as sns\n",
    "import spotipy\n",
    "from spotipy.oauth2 import SpotifyClientCredentials\n",
    "\n",
    "from sklearn.datasets import make_blobs\n",
    "from sklearn.cluster import KMeans\n",
    "from sklearn.metrics import silhouette_score\n",
    "from sklearn.preprocessing import StandardScaler\n",
    "from sklearn.pipeline import Pipeline\n",
    "\n",
    "import time"
   ]
  },
  {
   "cell_type": "code",
   "execution_count": 50,
   "id": "e978974b-d535-4ee2-9753-f7a761e82124",
   "metadata": {},
   "outputs": [],
   "source": [
    "#Authentication\n",
    "client_credentials_manager = SpotifyClientCredentials(client_id = '2101cd224f5948e19c4c782d76744ed3',\n",
    "                                                      client_secret = '0f81ac4a6af148138227fe1ee70ee64d')"
   ]
  },
  {
   "cell_type": "markdown",
   "id": "87369f49-de3a-49f6-b966-02bae099e353",
   "metadata": {},
   "source": [
    "Create spotipy object using SpotifyClientCredentials"
   ]
  },
  {
   "cell_type": "code",
   "execution_count": 78,
   "id": "4c480c62-3593-4ffb-bf5f-6b052e084cd7",
   "metadata": {},
   "outputs": [],
   "source": [
    "sp = spotipy.Spotify(client_credentials_manager = client_credentials_manager)"
   ]
  },
  {
   "cell_type": "markdown",
   "id": "71efebfe-c0a7-4491-b658-d94326acb731",
   "metadata": {},
   "source": [
    "## Get song info"
   ]
  },
  {
   "cell_type": "markdown",
   "id": "2712e24c-0a59-44f3-965d-88041a0bdefc",
   "metadata": {},
   "source": [
    "Create a function that takes in a playlist of songs and extracts the songs information and features such as artist name, genre, album name, track_uri, danceability, energy, loudness, instrumentalness etc"
   ]
  },
  {
   "cell_type": "code",
   "execution_count": 52,
   "id": "e7905506-086a-40c3-aa47-033d687fee69",
   "metadata": {},
   "outputs": [],
   "source": [
    "def get_track_info(playlist):\n",
    "    \n",
    "    #split the playlist_uri is at the end of the playlists url. I'll use the .split method to extract it\n",
    "    uri = playlist.split(\"/\")[-1].split(\"?\")[0]\n",
    "    \n",
    "    #from the spotipy library, use the playlist_tracks() method to extract each track from the playlist uri\n",
    "    #It comes in a JSON format\n",
    "    tracks = sp.playlist_tracks(uri)\n",
    "    \n",
    "    #create an empty dictionary with the info we want to extract as columns\n",
    "    info = {\n",
    "    'track_uri':[],\n",
    "    'track_name':[],\n",
    "    'artist_name':[],\n",
    "    'artist_info':[],\n",
    "    'artist_uri':[],\n",
    "    'artist_popularity':[],\n",
    "    'artist_genre':[],\n",
    "    'album':[],\n",
    "    'track_pop':[],\n",
    "    }\n",
    "    \n",
    "    features = {'danceability': [],\n",
    "     'energy': [],\n",
    "     'key': [],\n",
    "     'loudness': [],\n",
    "     'mode': [],\n",
    "     'speechiness': [],\n",
    "     'acousticness': [],\n",
    "     'instrumentalness': [],\n",
    "     'liveness': [],\n",
    "     'valence': [],\n",
    "     'tempo': [],\n",
    "     'type': [],\n",
    "     'id': [],\n",
    "     'uri': [],\n",
    "     'track_href': [],\n",
    "     'analysis_url': [],\n",
    "     'duration_ms': [],\n",
    "     'time_signature': []\n",
    "               }\n",
    "    \n",
    "    #using a for loop, get the the info for each song and put it into the empty dictionary\n",
    "    for track in tracks[\"items\"]:\n",
    "        #URI\n",
    "        info['track_uri'].append((track[\"track\"][\"uri\"]).split(':')[2])\n",
    "\n",
    "        #Track name\n",
    "        info['track_name'].append(track[\"track\"][\"name\"])\n",
    "\n",
    "        #Main Artist\n",
    "        info['artist_uri'].append((track[\"track\"][\"artists\"][0][\"uri\"]).split(':')[2])\n",
    "        info['artist_info'].append(sp.artist(track[\"track\"][\"artists\"][0][\"uri\"]))\n",
    "\n",
    "        #Name, popularity, genre\n",
    "        info['artist_name'].append(track[\"track\"][\"artists\"][0][\"name\"])\n",
    "        info['artist_popularity'].append(sp.artist(track[\"track\"][\"artists\"][0][\"uri\"])[\"popularity\"])\n",
    "        info['artist_genre'].append(sp.artist(track[\"track\"][\"artists\"][0][\"uri\"])[\"genres\"])\n",
    "\n",
    "        #Album\n",
    "        info['album'].append(track[\"track\"][\"album\"][\"name\"])\n",
    "\n",
    "        #Popularity of the track\n",
    "        info['track_pop'].append(track[\"track\"][\"popularity\"])\n",
    "        \n",
    "        \n",
    "        \n",
    "        #loop through the tracks to their features and assign it to the empty dictionary\n",
    "        \n",
    "        track_uri = track[\"track\"][\"uri\"].split(':')[2] \n",
    "        \n",
    "        for key,value in (sp.audio_features(track_uri)[0]).items():\n",
    "            features[key].append(value)\n",
    "        \n",
    "        time.sleep(1)\n",
    "    #Transform the features dictionary into a dataframe\n",
    "    features_df = pd.DataFrame(features)\n",
    "    \n",
    "    #drop features we do not need\n",
    "    features_df.drop(columns=['type','id','uri','track_href','analysis_url','duration_ms','time_signature'], inplace=True)   \n",
    "    \n",
    "    #Transform the info dictionary into a dataframe\n",
    "    info_df = pd.DataFrame(info)\n",
    "    \n",
    "     \n",
    "    \n",
    "    return info_df.join(features_df)\n",
    "        \n",
    "        \n",
    "        "
   ]
  },
  {
   "cell_type": "markdown",
   "id": "a1643f1c-c703-4073-a781-ec176f8f8159",
   "metadata": {},
   "source": [
    "#### Create dataframe of users playlist"
   ]
  },
  {
   "cell_type": "code",
   "execution_count": 131,
   "id": "e9b0dd85-4dc8-437c-9eeb-a9fcba330859",
   "metadata": {},
   "outputs": [],
   "source": [
    "def raw_data(user_playlist_url, genre):\n",
    "    user_playlist_info = get_track_info(user_playlist_url)\n",
    "    #add user genre\n",
    "    user_playlist_info.loc[:,'genre'] = genre\n",
    "    return user_playlist_info"
   ]
  },
  {
   "cell_type": "markdown",
   "id": "2187ce6e-fa3a-4e2d-8a12-15124d9c84d8",
   "metadata": {},
   "source": [
    "#### Afrobeats playlist"
   ]
  },
  {
   "cell_type": "code",
   "execution_count": 132,
   "id": "f59c9db3-4457-4fec-bd54-861fb53e4924",
   "metadata": {},
   "outputs": [],
   "source": [
    "afrobeats_playlist_url= \"https://open.spotify.com/playlist/5ZCzd0nCLqiIX1jwQWfazW\""
   ]
  },
  {
   "cell_type": "code",
   "execution_count": 133,
   "id": "0a7f1119-c30e-434d-9ba5-01505cf76246",
   "metadata": {},
   "outputs": [],
   "source": [
    "afrobeats_df = raw_data(afrobeats_playlist_url, 'afrobeats')"
   ]
  },
  {
   "cell_type": "markdown",
   "id": "c8b93649-97b2-4da8-bd50-62f522467599",
   "metadata": {},
   "source": [
    "#### Jacks playlist"
   ]
  },
  {
   "cell_type": "code",
   "execution_count": 137,
   "id": "64976505-f389-42fd-8727-fa0dbe9e5aa8",
   "metadata": {},
   "outputs": [],
   "source": [
    "jacks_playlist_url = 'https://open.spotify.com/playlist/6UlskZAcTPzcGMnQaMnIVm?si=5cbb031d1fdd4064'"
   ]
  },
  {
   "cell_type": "code",
   "execution_count": 138,
   "id": "c1cf8c56-e024-4d2f-92bf-8855d210654c",
   "metadata": {},
   "outputs": [],
   "source": [
    "jacks_playlist_df = raw_data(jacks_playlist_url, 'jack')"
   ]
  },
  {
   "cell_type": "markdown",
   "id": "eeac0522-11a5-4b12-ae58-d7f9858d30b7",
   "metadata": {},
   "source": [
    "#### Ankita playlist"
   ]
  },
  {
   "cell_type": "code",
   "execution_count": 143,
   "id": "dd7cf03f-8969-4412-8d27-f897279990a2",
   "metadata": {},
   "outputs": [],
   "source": [
    "ankita_playlist_url = 'https://open.spotify.com/playlist/6qzbkhrmxdFj5TtaXR0sfI?si=ElY40mMjQ7apOsHTGlQI7A'"
   ]
  },
  {
   "cell_type": "code",
   "execution_count": 144,
   "id": "93b7ac8f-74c7-4741-aa62-020cfd897ea1",
   "metadata": {},
   "outputs": [],
   "source": [
    "ankita_playlist_df = raw_data(ankita_playlist_url, 'ankita')"
   ]
  },
  {
   "cell_type": "markdown",
   "id": "fc85b053-2b01-44c9-ae7a-bd46dc22995e",
   "metadata": {},
   "source": [
    "#### Export dataframes as a csv"
   ]
  },
  {
   "cell_type": "code",
   "execution_count": 139,
   "id": "35b91f61-dffd-4c38-997d-a3721f4d532d",
   "metadata": {},
   "outputs": [],
   "source": [
    "afrobeats_df.to_csv('../data/afrobeats.csv', index = False)"
   ]
  },
  {
   "cell_type": "code",
   "execution_count": 140,
   "id": "959afc39-befd-4e0f-a4a0-6e03620c12d0",
   "metadata": {},
   "outputs": [],
   "source": [
    "jacks_playlist_df.to_csv('../data/jack.csv', index = False)"
   ]
  },
  {
   "cell_type": "code",
   "execution_count": 145,
   "id": "e3dc3566-ef5f-40ee-b42b-6f3b02952ed4",
   "metadata": {},
   "outputs": [],
   "source": [
    "ankita_playlist_df.to_csv('../data/ankita.csv', index = False)"
   ]
  },
  {
   "cell_type": "code",
   "execution_count": null,
   "id": "4775da83-4acd-43d1-aac7-243210a70dd9",
   "metadata": {},
   "outputs": [],
   "source": []
  }
 ],
 "metadata": {
  "kernelspec": {
   "display_name": "Python 3 (ipykernel)",
   "language": "python",
   "name": "python3"
  },
  "language_info": {
   "codemirror_mode": {
    "name": "ipython",
    "version": 3
   },
   "file_extension": ".py",
   "mimetype": "text/x-python",
   "name": "python",
   "nbconvert_exporter": "python",
   "pygments_lexer": "ipython3",
   "version": "3.10.2"
  },
  "widgets": {
   "application/vnd.jupyter.widget-state+json": {
    "state": {},
    "version_major": 2,
    "version_minor": 0
   }
  }
 },
 "nbformat": 4,
 "nbformat_minor": 5
}
