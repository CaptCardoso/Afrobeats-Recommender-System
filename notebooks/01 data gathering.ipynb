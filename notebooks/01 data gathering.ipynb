{
 "cells": [
  {
   "cell_type": "markdown",
   "id": "fc50c665-3042-44ed-83ab-ccc65c6589e2",
   "metadata": {},
   "source": [
    "# Spotify Afrobeats Recommendation System\n",
    "By Afolabi Cardoso"
   ]
  },
  {
   "cell_type": "markdown",
   "id": "cccd6e15-85d3-4d5b-8ab2-c84ed6e4392d",
   "metadata": {},
   "source": [
    "## Data Gathering"
   ]
  },
  {
   "cell_type": "markdown",
   "id": "b4cb7d83-0497-474c-a425-032a08063c1f",
   "metadata": {},
   "source": [
    "This notebook features the data gathering process. Using the Spotify API and Spotipy library, I was able to create functions to collect the useful metadata and audio features from the tracks in the playlist. After collecting the features as a dataframe, I exported them as a csv"
   ]
  },
  {
   "cell_type": "markdown",
   "id": "9afebed3-0edd-4514-b71a-1636cb53731d",
   "metadata": {},
   "source": [
    "#### Import Libraries"
   ]
  },
  {
   "cell_type": "code",
   "execution_count": 1,
   "id": "89b69dd1-7ea9-4346-918a-f15e8d357a5f",
   "metadata": {},
   "outputs": [],
   "source": [
    "import pandas as pd\n",
    "import numpy as np\n",
    "import matplotlib.pyplot as plt\n",
    "import seaborn as sns\n",
    "import spotipy\n",
    "from spotipy.oauth2 import SpotifyClientCredentials\n",
    "\n",
    "from sklearn.datasets import make_blobs\n",
    "from sklearn.cluster import KMeans\n",
    "from sklearn.metrics import silhouette_score\n",
    "from sklearn.preprocessing import StandardScaler\n",
    "from sklearn.pipeline import Pipeline\n",
    "\n",
    "import time"
   ]
  },
  {
   "cell_type": "markdown",
   "id": "2fcb7d7b-6e11-444a-a794-96ee7d45d51e",
   "metadata": {},
   "source": [
    "#### Authentication"
   ]
  },
  {
   "cell_type": "markdown",
   "id": "21792e83-5294-4a65-8d29-a7322038c687",
   "metadata": {},
   "source": [
    "To gain access to the Spotify API, I need to create a client id and client secret."
   ]
  },
  {
   "cell_type": "code",
   "execution_count": 2,
   "id": "e978974b-d535-4ee2-9753-f7a761e82124",
   "metadata": {
    "tags": []
   },
   "outputs": [],
   "source": [
    "\n",
    "client_credentials_manager = SpotifyClientCredentials(client_id = '2101cd224f5948e19c4c782d76744ed3',\n",
    "                                                      client_secret = '879abdfca432449facc9d8566fb40ab6')"
   ]
  },
  {
   "cell_type": "markdown",
   "id": "c17d4c52-3422-4222-9531-5606001ffb92",
   "metadata": {},
   "source": [
    "#### Spotipy Object"
   ]
  },
  {
   "cell_type": "markdown",
   "id": "87369f49-de3a-49f6-b966-02bae099e353",
   "metadata": {},
   "source": [
    "Using the client id and client secret created above, I create a spotipy Object using SpotifyClientCredentials"
   ]
  },
  {
   "cell_type": "code",
   "execution_count": 3,
   "id": "4c480c62-3593-4ffb-bf5f-6b052e084cd7",
   "metadata": {},
   "outputs": [],
   "source": [
    "sp = spotipy.Spotify(client_credentials_manager = client_credentials_manager)"
   ]
  },
  {
   "cell_type": "markdown",
   "id": "71efebfe-c0a7-4491-b658-d94326acb731",
   "metadata": {},
   "source": [
    "#### Get track metadata and features"
   ]
  },
  {
   "cell_type": "markdown",
   "id": "2712e24c-0a59-44f3-965d-88041a0bdefc",
   "metadata": {},
   "source": [
    "This function takes in a playlist URI and returns a dataframe containing metadata such as artist name, genre, album name, track_uri, danceability, energy, loudness, instrumentalness etc"
   ]
  },
  {
   "cell_type": "code",
   "execution_count": 4,
   "id": "e7905506-086a-40c3-aa47-033d687fee69",
   "metadata": {},
   "outputs": [],
   "source": [
    "def get_track_info(playlist):\n",
    "    \n",
    "    #split the playlist_uri is at the end of the playlists url. I'll use the .split method to extract it\n",
    "    uri = playlist.split(\"/\")[-1].split(\"?\")[0]\n",
    "    \n",
    "    #from the spotipy library, use the playlist_tracks() method to extract each track from the playlist uri\n",
    "    #It comes in a nested dictionary format\n",
    "    \n",
    "    results = sp.playlist_tracks(uri)\n",
    "    tracks = results['items']\n",
    "    \n",
    "    while results['next']:\n",
    "        results = sp.next(results)\n",
    "        tracks.extend(results['items'])\n",
    "    \n",
    "    \n",
    "    #create an empty dictionary with the info we want to extract as columns\n",
    "    info = {\n",
    "    'track_uri':[],\n",
    "    'track_name':[],\n",
    "    'artist_name':[],\n",
    "    'artist_info':[],\n",
    "    'artist_uri':[],\n",
    "    'artist_popularity':[],\n",
    "    'artist_genre':[],\n",
    "    'album':[],\n",
    "    'track_pop':[],\n",
    "    'year_released':[]\n",
    "    }\n",
    "    \n",
    "    features = {'danceability': [],\n",
    "     'energy': [],\n",
    "     'key': [],\n",
    "     'loudness': [],\n",
    "     'mode': [],\n",
    "     'speechiness': [],\n",
    "     'acousticness': [],\n",
    "     'instrumentalness': [],\n",
    "     'liveness': [],\n",
    "     'valence': [],\n",
    "     'tempo': [],\n",
    "     'type': [],\n",
    "     'id': [],\n",
    "     'uri': [],\n",
    "     'track_href': [],\n",
    "     'analysis_url': [],\n",
    "     'duration_ms': [],\n",
    "     'time_signature': []\n",
    "               }\n",
    "    \n",
    "    #using a for loop, get the the info for each song and put it into the empty dictionary\n",
    "    for track in tracks:\n",
    "        #URI\n",
    "        info['track_uri'].append((track[\"track\"][\"uri\"]).split(':')[2])\n",
    "\n",
    "        #Track name\n",
    "        info['track_name'].append(track[\"track\"][\"name\"])\n",
    "\n",
    "        #Main Artist\n",
    "        info['artist_uri'].append((track[\"track\"][\"artists\"][0][\"uri\"]).split(':')[2])\n",
    "        info['artist_info'].append(sp.artist(track[\"track\"][\"artists\"][0][\"uri\"]))\n",
    "\n",
    "        #Name, popularity, genre\n",
    "        info['artist_name'].append(track[\"track\"][\"artists\"][0][\"name\"])\n",
    "        info['artist_popularity'].append(sp.artist(track[\"track\"][\"artists\"][0][\"uri\"])[\"popularity\"])\n",
    "        info['artist_genre'].append(sp.artist(track[\"track\"][\"artists\"][0][\"uri\"])[\"genres\"])\n",
    "\n",
    "        #Album\n",
    "        info['album'].append(track[\"track\"][\"album\"][\"name\"])\n",
    "\n",
    "        #Popularity of the track, year released\n",
    "        info['track_pop'].append(track[\"track\"][\"popularity\"])\n",
    "        info['year_released'].append(track[\"track\"]['album']['release_date'])\n",
    "        \n",
    "        #Transform the info dictionary into a dataframe\n",
    "        info_df = pd.DataFrame(info)\n",
    "        \n",
    "        #loop through the tracks to their features and assign it to the empty dictionary\n",
    "        track_uri = track[\"track\"][\"uri\"].split(':')[2] \n",
    "        \n",
    "        try:\n",
    "            for key,value in (sp.audio_features(track_uri)[0]).items():\n",
    "                features[key].append(value)\n",
    "            \n",
    "        except:\n",
    "            print(f'failed on track {track[\"track\"][\"name\"]}')\n",
    "            continue\n",
    "        #time.sleep(5)\n",
    "        \n",
    "    #Transform the features dictionary into a dataframe\n",
    "    features_df = pd.DataFrame(features)\n",
    "    \n",
    "        \n",
    "    \n",
    "    return info_df.join(features_df)\n",
    "        "
   ]
  },
  {
   "cell_type": "markdown",
   "id": "a1643f1c-c703-4073-a781-ec176f8f8159",
   "metadata": {},
   "source": [
    "#### Add label to the playlist dataframe\n"
   ]
  },
  {
   "cell_type": "markdown",
   "id": "2d7d46db-9295-459b-8a76-5cab581fdf3e",
   "metadata": {},
   "source": [
    "This function calls the get_track_info function above and creates a column with the playlist genre or given username"
   ]
  },
  {
   "cell_type": "code",
   "execution_count": 5,
   "id": "e9b0dd85-4dc8-437c-9eeb-a9fcba330859",
   "metadata": {},
   "outputs": [],
   "source": [
    "def raw_data(user_playlist_url, genre):\n",
    "    user_playlist_info = get_track_info(user_playlist_url)\n",
    "    #add user genre\n",
    "    user_playlist_info.loc[:,'genre'] = genre\n",
    "    return user_playlist_info"
   ]
  },
  {
   "cell_type": "markdown",
   "id": "2187ce6e-fa3a-4e2d-8a12-15124d9c84d8",
   "metadata": {},
   "source": [
    "#### Afrobeats playlist"
   ]
  },
  {
   "cell_type": "markdown",
   "id": "a02b6dad-5e84-43eb-9bb3-0383ddcde8eb",
   "metadata": {},
   "source": [
    "I created an afrobeats playlist with spotify that contains 1500+ tracks. Using the functions above, I will fetch the tracks metadata and features"
   ]
  },
  {
   "cell_type": "code",
   "execution_count": 11,
   "id": "f59c9db3-4457-4fec-bd54-861fb53e4924",
   "metadata": {},
   "outputs": [],
   "source": [
    "afrobeats_playlist_url= \"https://open.spotify.com/playlist/5ZCzd0nCLqiIX1jwQWfazW\""
   ]
  },
  {
   "cell_type": "code",
   "execution_count": 12,
   "id": "0a7f1119-c30e-434d-9ba5-01505cf76246",
   "metadata": {},
   "outputs": [
    {
     "ename": "KeyboardInterrupt",
     "evalue": "",
     "output_type": "error",
     "traceback": [
      "\u001b[0;31m---------------------------------------------------------------------------\u001b[0m",
      "\u001b[0;31mKeyboardInterrupt\u001b[0m                         Traceback (most recent call last)",
      "Input \u001b[0;32mIn [12]\u001b[0m, in \u001b[0;36m<module>\u001b[0;34m\u001b[0m\n\u001b[0;32m----> 1\u001b[0m afrobeats_df \u001b[38;5;241m=\u001b[39m \u001b[43mraw_data\u001b[49m\u001b[43m(\u001b[49m\u001b[43mafrobeats_playlist_url\u001b[49m\u001b[43m,\u001b[49m\u001b[43m \u001b[49m\u001b[38;5;124;43m'\u001b[39;49m\u001b[38;5;124;43mafrobeats\u001b[39;49m\u001b[38;5;124;43m'\u001b[39;49m\u001b[43m)\u001b[49m\n",
      "Input \u001b[0;32mIn [5]\u001b[0m, in \u001b[0;36mraw_data\u001b[0;34m(user_playlist_url, genre)\u001b[0m\n\u001b[1;32m      1\u001b[0m \u001b[38;5;28;01mdef\u001b[39;00m \u001b[38;5;21mraw_data\u001b[39m(user_playlist_url, genre):\n\u001b[0;32m----> 2\u001b[0m     user_playlist_info \u001b[38;5;241m=\u001b[39m \u001b[43mget_track_info\u001b[49m\u001b[43m(\u001b[49m\u001b[43muser_playlist_url\u001b[49m\u001b[43m)\u001b[49m\n\u001b[1;32m      3\u001b[0m     \u001b[38;5;66;03m#add user genre\u001b[39;00m\n\u001b[1;32m      4\u001b[0m     user_playlist_info\u001b[38;5;241m.\u001b[39mloc[:,\u001b[38;5;124m'\u001b[39m\u001b[38;5;124mgenre\u001b[39m\u001b[38;5;124m'\u001b[39m] \u001b[38;5;241m=\u001b[39m genre\n",
      "Input \u001b[0;32mIn [4]\u001b[0m, in \u001b[0;36mget_track_info\u001b[0;34m(playlist)\u001b[0m\n\u001b[1;32m     64\u001b[0m info[\u001b[38;5;124m'\u001b[39m\u001b[38;5;124martist_name\u001b[39m\u001b[38;5;124m'\u001b[39m]\u001b[38;5;241m.\u001b[39mappend(track[\u001b[38;5;124m\"\u001b[39m\u001b[38;5;124mtrack\u001b[39m\u001b[38;5;124m\"\u001b[39m][\u001b[38;5;124m\"\u001b[39m\u001b[38;5;124martists\u001b[39m\u001b[38;5;124m\"\u001b[39m][\u001b[38;5;241m0\u001b[39m][\u001b[38;5;124m\"\u001b[39m\u001b[38;5;124mname\u001b[39m\u001b[38;5;124m\"\u001b[39m])\n\u001b[1;32m     65\u001b[0m info[\u001b[38;5;124m'\u001b[39m\u001b[38;5;124martist_popularity\u001b[39m\u001b[38;5;124m'\u001b[39m]\u001b[38;5;241m.\u001b[39mappend(sp\u001b[38;5;241m.\u001b[39martist(track[\u001b[38;5;124m\"\u001b[39m\u001b[38;5;124mtrack\u001b[39m\u001b[38;5;124m\"\u001b[39m][\u001b[38;5;124m\"\u001b[39m\u001b[38;5;124martists\u001b[39m\u001b[38;5;124m\"\u001b[39m][\u001b[38;5;241m0\u001b[39m][\u001b[38;5;124m\"\u001b[39m\u001b[38;5;124muri\u001b[39m\u001b[38;5;124m\"\u001b[39m])[\u001b[38;5;124m\"\u001b[39m\u001b[38;5;124mpopularity\u001b[39m\u001b[38;5;124m\"\u001b[39m])\n\u001b[0;32m---> 66\u001b[0m info[\u001b[38;5;124m'\u001b[39m\u001b[38;5;124martist_genre\u001b[39m\u001b[38;5;124m'\u001b[39m]\u001b[38;5;241m.\u001b[39mappend(\u001b[43msp\u001b[49m\u001b[38;5;241;43m.\u001b[39;49m\u001b[43martist\u001b[49m\u001b[43m(\u001b[49m\u001b[43mtrack\u001b[49m\u001b[43m[\u001b[49m\u001b[38;5;124;43m\"\u001b[39;49m\u001b[38;5;124;43mtrack\u001b[39;49m\u001b[38;5;124;43m\"\u001b[39;49m\u001b[43m]\u001b[49m\u001b[43m[\u001b[49m\u001b[38;5;124;43m\"\u001b[39;49m\u001b[38;5;124;43martists\u001b[39;49m\u001b[38;5;124;43m\"\u001b[39;49m\u001b[43m]\u001b[49m\u001b[43m[\u001b[49m\u001b[38;5;241;43m0\u001b[39;49m\u001b[43m]\u001b[49m\u001b[43m[\u001b[49m\u001b[38;5;124;43m\"\u001b[39;49m\u001b[38;5;124;43muri\u001b[39;49m\u001b[38;5;124;43m\"\u001b[39;49m\u001b[43m]\u001b[49m\u001b[43m)\u001b[49m[\u001b[38;5;124m\"\u001b[39m\u001b[38;5;124mgenres\u001b[39m\u001b[38;5;124m\"\u001b[39m])\n\u001b[1;32m     68\u001b[0m \u001b[38;5;66;03m#Album\u001b[39;00m\n\u001b[1;32m     69\u001b[0m info[\u001b[38;5;124m'\u001b[39m\u001b[38;5;124malbum\u001b[39m\u001b[38;5;124m'\u001b[39m]\u001b[38;5;241m.\u001b[39mappend(track[\u001b[38;5;124m\"\u001b[39m\u001b[38;5;124mtrack\u001b[39m\u001b[38;5;124m\"\u001b[39m][\u001b[38;5;124m\"\u001b[39m\u001b[38;5;124malbum\u001b[39m\u001b[38;5;124m\"\u001b[39m][\u001b[38;5;124m\"\u001b[39m\u001b[38;5;124mname\u001b[39m\u001b[38;5;124m\"\u001b[39m])\n",
      "File \u001b[0;32m/Library/Frameworks/Python.framework/Versions/3.10/lib/python3.10/site-packages/spotipy/client.py:366\u001b[0m, in \u001b[0;36mSpotify.artist\u001b[0;34m(self, artist_id)\u001b[0m\n\u001b[1;32m    359\u001b[0m \u001b[38;5;124;03m\"\"\" returns a single artist given the artist's ID, URI or URL\u001b[39;00m\n\u001b[1;32m    360\u001b[0m \n\u001b[1;32m    361\u001b[0m \u001b[38;5;124;03m    Parameters:\u001b[39;00m\n\u001b[1;32m    362\u001b[0m \u001b[38;5;124;03m        - artist_id - an artist ID, URI or URL\u001b[39;00m\n\u001b[1;32m    363\u001b[0m \u001b[38;5;124;03m\"\"\"\u001b[39;00m\n\u001b[1;32m    365\u001b[0m trid \u001b[38;5;241m=\u001b[39m \u001b[38;5;28mself\u001b[39m\u001b[38;5;241m.\u001b[39m_get_id(\u001b[38;5;124m\"\u001b[39m\u001b[38;5;124martist\u001b[39m\u001b[38;5;124m\"\u001b[39m, artist_id)\n\u001b[0;32m--> 366\u001b[0m \u001b[38;5;28;01mreturn\u001b[39;00m \u001b[38;5;28;43mself\u001b[39;49m\u001b[38;5;241;43m.\u001b[39;49m\u001b[43m_get\u001b[49m\u001b[43m(\u001b[49m\u001b[38;5;124;43m\"\u001b[39;49m\u001b[38;5;124;43martists/\u001b[39;49m\u001b[38;5;124;43m\"\u001b[39;49m\u001b[43m \u001b[49m\u001b[38;5;241;43m+\u001b[39;49m\u001b[43m \u001b[49m\u001b[43mtrid\u001b[49m\u001b[43m)\u001b[49m\n",
      "File \u001b[0;32m/Library/Frameworks/Python.framework/Versions/3.10/lib/python3.10/site-packages/spotipy/client.py:297\u001b[0m, in \u001b[0;36mSpotify._get\u001b[0;34m(self, url, args, payload, **kwargs)\u001b[0m\n\u001b[1;32m    294\u001b[0m \u001b[38;5;28;01mif\u001b[39;00m args:\n\u001b[1;32m    295\u001b[0m     kwargs\u001b[38;5;241m.\u001b[39mupdate(args)\n\u001b[0;32m--> 297\u001b[0m \u001b[38;5;28;01mreturn\u001b[39;00m \u001b[38;5;28;43mself\u001b[39;49m\u001b[38;5;241;43m.\u001b[39;49m\u001b[43m_internal_call\u001b[49m\u001b[43m(\u001b[49m\u001b[38;5;124;43m\"\u001b[39;49m\u001b[38;5;124;43mGET\u001b[39;49m\u001b[38;5;124;43m\"\u001b[39;49m\u001b[43m,\u001b[49m\u001b[43m \u001b[49m\u001b[43murl\u001b[49m\u001b[43m,\u001b[49m\u001b[43m \u001b[49m\u001b[43mpayload\u001b[49m\u001b[43m,\u001b[49m\u001b[43m \u001b[49m\u001b[43mkwargs\u001b[49m\u001b[43m)\u001b[49m\n",
      "File \u001b[0;32m/Library/Frameworks/Python.framework/Versions/3.10/lib/python3.10/site-packages/spotipy/client.py:240\u001b[0m, in \u001b[0;36mSpotify._internal_call\u001b[0;34m(self, method, url, payload, params)\u001b[0m\n\u001b[1;32m    236\u001b[0m logger\u001b[38;5;241m.\u001b[39mdebug(\u001b[38;5;124m'\u001b[39m\u001b[38;5;124mSending \u001b[39m\u001b[38;5;132;01m%s\u001b[39;00m\u001b[38;5;124m to \u001b[39m\u001b[38;5;132;01m%s\u001b[39;00m\u001b[38;5;124m with Params: \u001b[39m\u001b[38;5;132;01m%s\u001b[39;00m\u001b[38;5;124m Headers: \u001b[39m\u001b[38;5;132;01m%s\u001b[39;00m\u001b[38;5;124m and Body: \u001b[39m\u001b[38;5;132;01m%r\u001b[39;00m\u001b[38;5;124m \u001b[39m\u001b[38;5;124m'\u001b[39m,\n\u001b[1;32m    237\u001b[0m              method, url, args\u001b[38;5;241m.\u001b[39mget(\u001b[38;5;124m\"\u001b[39m\u001b[38;5;124mparams\u001b[39m\u001b[38;5;124m\"\u001b[39m), headers, args\u001b[38;5;241m.\u001b[39mget(\u001b[38;5;124m'\u001b[39m\u001b[38;5;124mdata\u001b[39m\u001b[38;5;124m'\u001b[39m))\n\u001b[1;32m    239\u001b[0m \u001b[38;5;28;01mtry\u001b[39;00m:\n\u001b[0;32m--> 240\u001b[0m     response \u001b[38;5;241m=\u001b[39m \u001b[38;5;28;43mself\u001b[39;49m\u001b[38;5;241;43m.\u001b[39;49m\u001b[43m_session\u001b[49m\u001b[38;5;241;43m.\u001b[39;49m\u001b[43mrequest\u001b[49m\u001b[43m(\u001b[49m\n\u001b[1;32m    241\u001b[0m \u001b[43m        \u001b[49m\u001b[43mmethod\u001b[49m\u001b[43m,\u001b[49m\u001b[43m \u001b[49m\u001b[43murl\u001b[49m\u001b[43m,\u001b[49m\u001b[43m \u001b[49m\u001b[43mheaders\u001b[49m\u001b[38;5;241;43m=\u001b[39;49m\u001b[43mheaders\u001b[49m\u001b[43m,\u001b[49m\u001b[43m \u001b[49m\u001b[43mproxies\u001b[49m\u001b[38;5;241;43m=\u001b[39;49m\u001b[38;5;28;43mself\u001b[39;49m\u001b[38;5;241;43m.\u001b[39;49m\u001b[43mproxies\u001b[49m\u001b[43m,\u001b[49m\n\u001b[1;32m    242\u001b[0m \u001b[43m        \u001b[49m\u001b[43mtimeout\u001b[49m\u001b[38;5;241;43m=\u001b[39;49m\u001b[38;5;28;43mself\u001b[39;49m\u001b[38;5;241;43m.\u001b[39;49m\u001b[43mrequests_timeout\u001b[49m\u001b[43m,\u001b[49m\u001b[43m \u001b[49m\u001b[38;5;241;43m*\u001b[39;49m\u001b[38;5;241;43m*\u001b[39;49m\u001b[43margs\u001b[49m\n\u001b[1;32m    243\u001b[0m \u001b[43m    \u001b[49m\u001b[43m)\u001b[49m\n\u001b[1;32m    245\u001b[0m     response\u001b[38;5;241m.\u001b[39mraise_for_status()\n\u001b[1;32m    246\u001b[0m     results \u001b[38;5;241m=\u001b[39m response\u001b[38;5;241m.\u001b[39mjson()\n",
      "File \u001b[0;32m/Library/Frameworks/Python.framework/Versions/3.10/lib/python3.10/site-packages/requests/sessions.py:529\u001b[0m, in \u001b[0;36mSession.request\u001b[0;34m(self, method, url, params, data, headers, cookies, files, auth, timeout, allow_redirects, proxies, hooks, stream, verify, cert, json)\u001b[0m\n\u001b[1;32m    524\u001b[0m send_kwargs \u001b[38;5;241m=\u001b[39m {\n\u001b[1;32m    525\u001b[0m     \u001b[38;5;124m'\u001b[39m\u001b[38;5;124mtimeout\u001b[39m\u001b[38;5;124m'\u001b[39m: timeout,\n\u001b[1;32m    526\u001b[0m     \u001b[38;5;124m'\u001b[39m\u001b[38;5;124mallow_redirects\u001b[39m\u001b[38;5;124m'\u001b[39m: allow_redirects,\n\u001b[1;32m    527\u001b[0m }\n\u001b[1;32m    528\u001b[0m send_kwargs\u001b[38;5;241m.\u001b[39mupdate(settings)\n\u001b[0;32m--> 529\u001b[0m resp \u001b[38;5;241m=\u001b[39m \u001b[38;5;28;43mself\u001b[39;49m\u001b[38;5;241;43m.\u001b[39;49m\u001b[43msend\u001b[49m\u001b[43m(\u001b[49m\u001b[43mprep\u001b[49m\u001b[43m,\u001b[49m\u001b[43m \u001b[49m\u001b[38;5;241;43m*\u001b[39;49m\u001b[38;5;241;43m*\u001b[39;49m\u001b[43msend_kwargs\u001b[49m\u001b[43m)\u001b[49m\n\u001b[1;32m    531\u001b[0m \u001b[38;5;28;01mreturn\u001b[39;00m resp\n",
      "File \u001b[0;32m/Library/Frameworks/Python.framework/Versions/3.10/lib/python3.10/site-packages/requests/sessions.py:645\u001b[0m, in \u001b[0;36mSession.send\u001b[0;34m(self, request, **kwargs)\u001b[0m\n\u001b[1;32m    642\u001b[0m start \u001b[38;5;241m=\u001b[39m preferred_clock()\n\u001b[1;32m    644\u001b[0m \u001b[38;5;66;03m# Send the request\u001b[39;00m\n\u001b[0;32m--> 645\u001b[0m r \u001b[38;5;241m=\u001b[39m \u001b[43madapter\u001b[49m\u001b[38;5;241;43m.\u001b[39;49m\u001b[43msend\u001b[49m\u001b[43m(\u001b[49m\u001b[43mrequest\u001b[49m\u001b[43m,\u001b[49m\u001b[43m \u001b[49m\u001b[38;5;241;43m*\u001b[39;49m\u001b[38;5;241;43m*\u001b[39;49m\u001b[43mkwargs\u001b[49m\u001b[43m)\u001b[49m\n\u001b[1;32m    647\u001b[0m \u001b[38;5;66;03m# Total elapsed time of the request (approximately)\u001b[39;00m\n\u001b[1;32m    648\u001b[0m elapsed \u001b[38;5;241m=\u001b[39m preferred_clock() \u001b[38;5;241m-\u001b[39m start\n",
      "File \u001b[0;32m/Library/Frameworks/Python.framework/Versions/3.10/lib/python3.10/site-packages/requests/adapters.py:440\u001b[0m, in \u001b[0;36mHTTPAdapter.send\u001b[0;34m(self, request, stream, timeout, verify, cert, proxies)\u001b[0m\n\u001b[1;32m    438\u001b[0m \u001b[38;5;28;01mtry\u001b[39;00m:\n\u001b[1;32m    439\u001b[0m     \u001b[38;5;28;01mif\u001b[39;00m \u001b[38;5;129;01mnot\u001b[39;00m chunked:\n\u001b[0;32m--> 440\u001b[0m         resp \u001b[38;5;241m=\u001b[39m \u001b[43mconn\u001b[49m\u001b[38;5;241;43m.\u001b[39;49m\u001b[43murlopen\u001b[49m\u001b[43m(\u001b[49m\n\u001b[1;32m    441\u001b[0m \u001b[43m            \u001b[49m\u001b[43mmethod\u001b[49m\u001b[38;5;241;43m=\u001b[39;49m\u001b[43mrequest\u001b[49m\u001b[38;5;241;43m.\u001b[39;49m\u001b[43mmethod\u001b[49m\u001b[43m,\u001b[49m\n\u001b[1;32m    442\u001b[0m \u001b[43m            \u001b[49m\u001b[43murl\u001b[49m\u001b[38;5;241;43m=\u001b[39;49m\u001b[43murl\u001b[49m\u001b[43m,\u001b[49m\n\u001b[1;32m    443\u001b[0m \u001b[43m            \u001b[49m\u001b[43mbody\u001b[49m\u001b[38;5;241;43m=\u001b[39;49m\u001b[43mrequest\u001b[49m\u001b[38;5;241;43m.\u001b[39;49m\u001b[43mbody\u001b[49m\u001b[43m,\u001b[49m\n\u001b[1;32m    444\u001b[0m \u001b[43m            \u001b[49m\u001b[43mheaders\u001b[49m\u001b[38;5;241;43m=\u001b[39;49m\u001b[43mrequest\u001b[49m\u001b[38;5;241;43m.\u001b[39;49m\u001b[43mheaders\u001b[49m\u001b[43m,\u001b[49m\n\u001b[1;32m    445\u001b[0m \u001b[43m            \u001b[49m\u001b[43mredirect\u001b[49m\u001b[38;5;241;43m=\u001b[39;49m\u001b[38;5;28;43;01mFalse\u001b[39;49;00m\u001b[43m,\u001b[49m\n\u001b[1;32m    446\u001b[0m \u001b[43m            \u001b[49m\u001b[43massert_same_host\u001b[49m\u001b[38;5;241;43m=\u001b[39;49m\u001b[38;5;28;43;01mFalse\u001b[39;49;00m\u001b[43m,\u001b[49m\n\u001b[1;32m    447\u001b[0m \u001b[43m            \u001b[49m\u001b[43mpreload_content\u001b[49m\u001b[38;5;241;43m=\u001b[39;49m\u001b[38;5;28;43;01mFalse\u001b[39;49;00m\u001b[43m,\u001b[49m\n\u001b[1;32m    448\u001b[0m \u001b[43m            \u001b[49m\u001b[43mdecode_content\u001b[49m\u001b[38;5;241;43m=\u001b[39;49m\u001b[38;5;28;43;01mFalse\u001b[39;49;00m\u001b[43m,\u001b[49m\n\u001b[1;32m    449\u001b[0m \u001b[43m            \u001b[49m\u001b[43mretries\u001b[49m\u001b[38;5;241;43m=\u001b[39;49m\u001b[38;5;28;43mself\u001b[39;49m\u001b[38;5;241;43m.\u001b[39;49m\u001b[43mmax_retries\u001b[49m\u001b[43m,\u001b[49m\n\u001b[1;32m    450\u001b[0m \u001b[43m            \u001b[49m\u001b[43mtimeout\u001b[49m\u001b[38;5;241;43m=\u001b[39;49m\u001b[43mtimeout\u001b[49m\n\u001b[1;32m    451\u001b[0m \u001b[43m        \u001b[49m\u001b[43m)\u001b[49m\n\u001b[1;32m    453\u001b[0m     \u001b[38;5;66;03m# Send the request.\u001b[39;00m\n\u001b[1;32m    454\u001b[0m     \u001b[38;5;28;01melse\u001b[39;00m:\n\u001b[1;32m    455\u001b[0m         \u001b[38;5;28;01mif\u001b[39;00m \u001b[38;5;28mhasattr\u001b[39m(conn, \u001b[38;5;124m'\u001b[39m\u001b[38;5;124mproxy_pool\u001b[39m\u001b[38;5;124m'\u001b[39m):\n",
      "File \u001b[0;32m/Library/Frameworks/Python.framework/Versions/3.10/lib/python3.10/site-packages/urllib3/connectionpool.py:703\u001b[0m, in \u001b[0;36mHTTPConnectionPool.urlopen\u001b[0;34m(self, method, url, body, headers, retries, redirect, assert_same_host, timeout, pool_timeout, release_conn, chunked, body_pos, **response_kw)\u001b[0m\n\u001b[1;32m    700\u001b[0m     \u001b[38;5;28mself\u001b[39m\u001b[38;5;241m.\u001b[39m_prepare_proxy(conn)\n\u001b[1;32m    702\u001b[0m \u001b[38;5;66;03m# Make the request on the httplib connection object.\u001b[39;00m\n\u001b[0;32m--> 703\u001b[0m httplib_response \u001b[38;5;241m=\u001b[39m \u001b[38;5;28;43mself\u001b[39;49m\u001b[38;5;241;43m.\u001b[39;49m\u001b[43m_make_request\u001b[49m\u001b[43m(\u001b[49m\n\u001b[1;32m    704\u001b[0m \u001b[43m    \u001b[49m\u001b[43mconn\u001b[49m\u001b[43m,\u001b[49m\n\u001b[1;32m    705\u001b[0m \u001b[43m    \u001b[49m\u001b[43mmethod\u001b[49m\u001b[43m,\u001b[49m\n\u001b[1;32m    706\u001b[0m \u001b[43m    \u001b[49m\u001b[43murl\u001b[49m\u001b[43m,\u001b[49m\n\u001b[1;32m    707\u001b[0m \u001b[43m    \u001b[49m\u001b[43mtimeout\u001b[49m\u001b[38;5;241;43m=\u001b[39;49m\u001b[43mtimeout_obj\u001b[49m\u001b[43m,\u001b[49m\n\u001b[1;32m    708\u001b[0m \u001b[43m    \u001b[49m\u001b[43mbody\u001b[49m\u001b[38;5;241;43m=\u001b[39;49m\u001b[43mbody\u001b[49m\u001b[43m,\u001b[49m\n\u001b[1;32m    709\u001b[0m \u001b[43m    \u001b[49m\u001b[43mheaders\u001b[49m\u001b[38;5;241;43m=\u001b[39;49m\u001b[43mheaders\u001b[49m\u001b[43m,\u001b[49m\n\u001b[1;32m    710\u001b[0m \u001b[43m    \u001b[49m\u001b[43mchunked\u001b[49m\u001b[38;5;241;43m=\u001b[39;49m\u001b[43mchunked\u001b[49m\u001b[43m,\u001b[49m\n\u001b[1;32m    711\u001b[0m \u001b[43m\u001b[49m\u001b[43m)\u001b[49m\n\u001b[1;32m    713\u001b[0m \u001b[38;5;66;03m# If we're going to release the connection in ``finally:``, then\u001b[39;00m\n\u001b[1;32m    714\u001b[0m \u001b[38;5;66;03m# the response doesn't need to know about the connection. Otherwise\u001b[39;00m\n\u001b[1;32m    715\u001b[0m \u001b[38;5;66;03m# it will also try to release it and we'll have a double-release\u001b[39;00m\n\u001b[1;32m    716\u001b[0m \u001b[38;5;66;03m# mess.\u001b[39;00m\n\u001b[1;32m    717\u001b[0m response_conn \u001b[38;5;241m=\u001b[39m conn \u001b[38;5;28;01mif\u001b[39;00m \u001b[38;5;129;01mnot\u001b[39;00m release_conn \u001b[38;5;28;01melse\u001b[39;00m \u001b[38;5;28;01mNone\u001b[39;00m\n",
      "File \u001b[0;32m/Library/Frameworks/Python.framework/Versions/3.10/lib/python3.10/site-packages/urllib3/connectionpool.py:449\u001b[0m, in \u001b[0;36mHTTPConnectionPool._make_request\u001b[0;34m(self, conn, method, url, timeout, chunked, **httplib_request_kw)\u001b[0m\n\u001b[1;32m    444\u001b[0m             httplib_response \u001b[38;5;241m=\u001b[39m conn\u001b[38;5;241m.\u001b[39mgetresponse()\n\u001b[1;32m    445\u001b[0m         \u001b[38;5;28;01mexcept\u001b[39;00m \u001b[38;5;167;01mBaseException\u001b[39;00m \u001b[38;5;28;01mas\u001b[39;00m e:\n\u001b[1;32m    446\u001b[0m             \u001b[38;5;66;03m# Remove the TypeError from the exception chain in\u001b[39;00m\n\u001b[1;32m    447\u001b[0m             \u001b[38;5;66;03m# Python 3 (including for exceptions like SystemExit).\u001b[39;00m\n\u001b[1;32m    448\u001b[0m             \u001b[38;5;66;03m# Otherwise it looks like a bug in the code.\u001b[39;00m\n\u001b[0;32m--> 449\u001b[0m             \u001b[43msix\u001b[49m\u001b[38;5;241;43m.\u001b[39;49m\u001b[43mraise_from\u001b[49m\u001b[43m(\u001b[49m\u001b[43me\u001b[49m\u001b[43m,\u001b[49m\u001b[43m \u001b[49m\u001b[38;5;28;43;01mNone\u001b[39;49;00m\u001b[43m)\u001b[49m\n\u001b[1;32m    450\u001b[0m \u001b[38;5;28;01mexcept\u001b[39;00m (SocketTimeout, BaseSSLError, SocketError) \u001b[38;5;28;01mas\u001b[39;00m e:\n\u001b[1;32m    451\u001b[0m     \u001b[38;5;28mself\u001b[39m\u001b[38;5;241m.\u001b[39m_raise_timeout(err\u001b[38;5;241m=\u001b[39me, url\u001b[38;5;241m=\u001b[39murl, timeout_value\u001b[38;5;241m=\u001b[39mread_timeout)\n",
      "File \u001b[0;32m<string>:3\u001b[0m, in \u001b[0;36mraise_from\u001b[0;34m(value, from_value)\u001b[0m\n",
      "File \u001b[0;32m/Library/Frameworks/Python.framework/Versions/3.10/lib/python3.10/site-packages/urllib3/connectionpool.py:444\u001b[0m, in \u001b[0;36mHTTPConnectionPool._make_request\u001b[0;34m(self, conn, method, url, timeout, chunked, **httplib_request_kw)\u001b[0m\n\u001b[1;32m    441\u001b[0m \u001b[38;5;28;01mexcept\u001b[39;00m \u001b[38;5;167;01mTypeError\u001b[39;00m:\n\u001b[1;32m    442\u001b[0m     \u001b[38;5;66;03m# Python 3\u001b[39;00m\n\u001b[1;32m    443\u001b[0m     \u001b[38;5;28;01mtry\u001b[39;00m:\n\u001b[0;32m--> 444\u001b[0m         httplib_response \u001b[38;5;241m=\u001b[39m \u001b[43mconn\u001b[49m\u001b[38;5;241;43m.\u001b[39;49m\u001b[43mgetresponse\u001b[49m\u001b[43m(\u001b[49m\u001b[43m)\u001b[49m\n\u001b[1;32m    445\u001b[0m     \u001b[38;5;28;01mexcept\u001b[39;00m \u001b[38;5;167;01mBaseException\u001b[39;00m \u001b[38;5;28;01mas\u001b[39;00m e:\n\u001b[1;32m    446\u001b[0m         \u001b[38;5;66;03m# Remove the TypeError from the exception chain in\u001b[39;00m\n\u001b[1;32m    447\u001b[0m         \u001b[38;5;66;03m# Python 3 (including for exceptions like SystemExit).\u001b[39;00m\n\u001b[1;32m    448\u001b[0m         \u001b[38;5;66;03m# Otherwise it looks like a bug in the code.\u001b[39;00m\n\u001b[1;32m    449\u001b[0m         six\u001b[38;5;241m.\u001b[39mraise_from(e, \u001b[38;5;28;01mNone\u001b[39;00m)\n",
      "File \u001b[0;32m/Library/Frameworks/Python.framework/Versions/3.10/lib/python3.10/http/client.py:1374\u001b[0m, in \u001b[0;36mHTTPConnection.getresponse\u001b[0;34m(self)\u001b[0m\n\u001b[1;32m   1372\u001b[0m \u001b[38;5;28;01mtry\u001b[39;00m:\n\u001b[1;32m   1373\u001b[0m     \u001b[38;5;28;01mtry\u001b[39;00m:\n\u001b[0;32m-> 1374\u001b[0m         \u001b[43mresponse\u001b[49m\u001b[38;5;241;43m.\u001b[39;49m\u001b[43mbegin\u001b[49m\u001b[43m(\u001b[49m\u001b[43m)\u001b[49m\n\u001b[1;32m   1375\u001b[0m     \u001b[38;5;28;01mexcept\u001b[39;00m \u001b[38;5;167;01mConnectionError\u001b[39;00m:\n\u001b[1;32m   1376\u001b[0m         \u001b[38;5;28mself\u001b[39m\u001b[38;5;241m.\u001b[39mclose()\n",
      "File \u001b[0;32m/Library/Frameworks/Python.framework/Versions/3.10/lib/python3.10/http/client.py:318\u001b[0m, in \u001b[0;36mHTTPResponse.begin\u001b[0;34m(self)\u001b[0m\n\u001b[1;32m    316\u001b[0m \u001b[38;5;66;03m# read until we get a non-100 response\u001b[39;00m\n\u001b[1;32m    317\u001b[0m \u001b[38;5;28;01mwhile\u001b[39;00m \u001b[38;5;28;01mTrue\u001b[39;00m:\n\u001b[0;32m--> 318\u001b[0m     version, status, reason \u001b[38;5;241m=\u001b[39m \u001b[38;5;28;43mself\u001b[39;49m\u001b[38;5;241;43m.\u001b[39;49m\u001b[43m_read_status\u001b[49m\u001b[43m(\u001b[49m\u001b[43m)\u001b[49m\n\u001b[1;32m    319\u001b[0m     \u001b[38;5;28;01mif\u001b[39;00m status \u001b[38;5;241m!=\u001b[39m CONTINUE:\n\u001b[1;32m    320\u001b[0m         \u001b[38;5;28;01mbreak\u001b[39;00m\n",
      "File \u001b[0;32m/Library/Frameworks/Python.framework/Versions/3.10/lib/python3.10/http/client.py:279\u001b[0m, in \u001b[0;36mHTTPResponse._read_status\u001b[0;34m(self)\u001b[0m\n\u001b[1;32m    278\u001b[0m \u001b[38;5;28;01mdef\u001b[39;00m \u001b[38;5;21m_read_status\u001b[39m(\u001b[38;5;28mself\u001b[39m):\n\u001b[0;32m--> 279\u001b[0m     line \u001b[38;5;241m=\u001b[39m \u001b[38;5;28mstr\u001b[39m(\u001b[38;5;28;43mself\u001b[39;49m\u001b[38;5;241;43m.\u001b[39;49m\u001b[43mfp\u001b[49m\u001b[38;5;241;43m.\u001b[39;49m\u001b[43mreadline\u001b[49m\u001b[43m(\u001b[49m\u001b[43m_MAXLINE\u001b[49m\u001b[43m \u001b[49m\u001b[38;5;241;43m+\u001b[39;49m\u001b[43m \u001b[49m\u001b[38;5;241;43m1\u001b[39;49m\u001b[43m)\u001b[49m, \u001b[38;5;124m\"\u001b[39m\u001b[38;5;124miso-8859-1\u001b[39m\u001b[38;5;124m\"\u001b[39m)\n\u001b[1;32m    280\u001b[0m     \u001b[38;5;28;01mif\u001b[39;00m \u001b[38;5;28mlen\u001b[39m(line) \u001b[38;5;241m>\u001b[39m _MAXLINE:\n\u001b[1;32m    281\u001b[0m         \u001b[38;5;28;01mraise\u001b[39;00m LineTooLong(\u001b[38;5;124m\"\u001b[39m\u001b[38;5;124mstatus line\u001b[39m\u001b[38;5;124m\"\u001b[39m)\n",
      "File \u001b[0;32m/Library/Frameworks/Python.framework/Versions/3.10/lib/python3.10/socket.py:705\u001b[0m, in \u001b[0;36mSocketIO.readinto\u001b[0;34m(self, b)\u001b[0m\n\u001b[1;32m    703\u001b[0m \u001b[38;5;28;01mwhile\u001b[39;00m \u001b[38;5;28;01mTrue\u001b[39;00m:\n\u001b[1;32m    704\u001b[0m     \u001b[38;5;28;01mtry\u001b[39;00m:\n\u001b[0;32m--> 705\u001b[0m         \u001b[38;5;28;01mreturn\u001b[39;00m \u001b[38;5;28;43mself\u001b[39;49m\u001b[38;5;241;43m.\u001b[39;49m\u001b[43m_sock\u001b[49m\u001b[38;5;241;43m.\u001b[39;49m\u001b[43mrecv_into\u001b[49m\u001b[43m(\u001b[49m\u001b[43mb\u001b[49m\u001b[43m)\u001b[49m\n\u001b[1;32m    706\u001b[0m     \u001b[38;5;28;01mexcept\u001b[39;00m timeout:\n\u001b[1;32m    707\u001b[0m         \u001b[38;5;28mself\u001b[39m\u001b[38;5;241m.\u001b[39m_timeout_occurred \u001b[38;5;241m=\u001b[39m \u001b[38;5;28;01mTrue\u001b[39;00m\n",
      "File \u001b[0;32m/Library/Frameworks/Python.framework/Versions/3.10/lib/python3.10/ssl.py:1273\u001b[0m, in \u001b[0;36mSSLSocket.recv_into\u001b[0;34m(self, buffer, nbytes, flags)\u001b[0m\n\u001b[1;32m   1269\u001b[0m     \u001b[38;5;28;01mif\u001b[39;00m flags \u001b[38;5;241m!=\u001b[39m \u001b[38;5;241m0\u001b[39m:\n\u001b[1;32m   1270\u001b[0m         \u001b[38;5;28;01mraise\u001b[39;00m \u001b[38;5;167;01mValueError\u001b[39;00m(\n\u001b[1;32m   1271\u001b[0m           \u001b[38;5;124m\"\u001b[39m\u001b[38;5;124mnon-zero flags not allowed in calls to recv_into() on \u001b[39m\u001b[38;5;132;01m%s\u001b[39;00m\u001b[38;5;124m\"\u001b[39m \u001b[38;5;241m%\u001b[39m\n\u001b[1;32m   1272\u001b[0m           \u001b[38;5;28mself\u001b[39m\u001b[38;5;241m.\u001b[39m\u001b[38;5;18m__class__\u001b[39m)\n\u001b[0;32m-> 1273\u001b[0m     \u001b[38;5;28;01mreturn\u001b[39;00m \u001b[38;5;28;43mself\u001b[39;49m\u001b[38;5;241;43m.\u001b[39;49m\u001b[43mread\u001b[49m\u001b[43m(\u001b[49m\u001b[43mnbytes\u001b[49m\u001b[43m,\u001b[49m\u001b[43m \u001b[49m\u001b[43mbuffer\u001b[49m\u001b[43m)\u001b[49m\n\u001b[1;32m   1274\u001b[0m \u001b[38;5;28;01melse\u001b[39;00m:\n\u001b[1;32m   1275\u001b[0m     \u001b[38;5;28;01mreturn\u001b[39;00m \u001b[38;5;28msuper\u001b[39m()\u001b[38;5;241m.\u001b[39mrecv_into(buffer, nbytes, flags)\n",
      "File \u001b[0;32m/Library/Frameworks/Python.framework/Versions/3.10/lib/python3.10/ssl.py:1129\u001b[0m, in \u001b[0;36mSSLSocket.read\u001b[0;34m(self, len, buffer)\u001b[0m\n\u001b[1;32m   1127\u001b[0m \u001b[38;5;28;01mtry\u001b[39;00m:\n\u001b[1;32m   1128\u001b[0m     \u001b[38;5;28;01mif\u001b[39;00m buffer \u001b[38;5;129;01mis\u001b[39;00m \u001b[38;5;129;01mnot\u001b[39;00m \u001b[38;5;28;01mNone\u001b[39;00m:\n\u001b[0;32m-> 1129\u001b[0m         \u001b[38;5;28;01mreturn\u001b[39;00m \u001b[38;5;28;43mself\u001b[39;49m\u001b[38;5;241;43m.\u001b[39;49m\u001b[43m_sslobj\u001b[49m\u001b[38;5;241;43m.\u001b[39;49m\u001b[43mread\u001b[49m\u001b[43m(\u001b[49m\u001b[38;5;28;43mlen\u001b[39;49m\u001b[43m,\u001b[49m\u001b[43m \u001b[49m\u001b[43mbuffer\u001b[49m\u001b[43m)\u001b[49m\n\u001b[1;32m   1130\u001b[0m     \u001b[38;5;28;01melse\u001b[39;00m:\n\u001b[1;32m   1131\u001b[0m         \u001b[38;5;28;01mreturn\u001b[39;00m \u001b[38;5;28mself\u001b[39m\u001b[38;5;241m.\u001b[39m_sslobj\u001b[38;5;241m.\u001b[39mread(\u001b[38;5;28mlen\u001b[39m)\n",
      "\u001b[0;31mKeyboardInterrupt\u001b[0m: "
     ]
    }
   ],
   "source": [
    "afrobeats_df = raw_data(afrobeats_playlist_url, 'afrobeats')"
   ]
  },
  {
   "cell_type": "code",
   "execution_count": null,
   "id": "8c10dc33-d8d2-439f-a62b-f63dc6edfd7a",
   "metadata": {},
   "outputs": [],
   "source": [
    "afrobeats_df.head(2)"
   ]
  },
  {
   "cell_type": "code",
   "execution_count": null,
   "id": "24c216f8-b6b3-43cb-b133-3326ac94dcef",
   "metadata": {},
   "outputs": [],
   "source": [
    "len(afrobeats_df)"
   ]
  },
  {
   "cell_type": "code",
   "execution_count": null,
   "id": "de7b5868-9f4a-40b9-ae4f-fe8d4c5f1a40",
   "metadata": {},
   "outputs": [],
   "source": [
    "afrobeats_df.isna().sum().sum()"
   ]
  },
  {
   "cell_type": "code",
   "execution_count": null,
   "id": "85764720-2a8f-4b27-9517-3bf8cc592cb2",
   "metadata": {},
   "outputs": [],
   "source": [
    "afrobeats_df[afrobeats_df['energy'].isnull()]"
   ]
  },
  {
   "cell_type": "code",
   "execution_count": null,
   "id": "c5668270-cbbd-4954-b04c-6dcb0aea3dbf",
   "metadata": {},
   "outputs": [],
   "source": [
    "afrobeats_df.dropna(inplace=True)"
   ]
  },
  {
   "cell_type": "code",
   "execution_count": null,
   "id": "3c0b5da6-4dff-46c9-b94b-f4c55c31172f",
   "metadata": {},
   "outputs": [],
   "source": [
    "afrobeats_df.isnull().sum().sum()"
   ]
  },
  {
   "cell_type": "markdown",
   "id": "fc85b053-2b01-44c9-ae7a-bd46dc22995e",
   "metadata": {
    "tags": []
   },
   "source": [
    "#### Exporta afrobeats as a csv"
   ]
  },
  {
   "cell_type": "code",
   "execution_count": null,
   "id": "35b91f61-dffd-4c38-997d-a3721f4d532d",
   "metadata": {},
   "outputs": [],
   "source": [
    "afrobeats_df.to_csv('../data/afrobeats.csv', index = False)"
   ]
  },
  {
   "cell_type": "markdown",
   "id": "c8b93649-97b2-4da8-bd50-62f522467599",
   "metadata": {},
   "source": [
    "#### Jacks playlist"
   ]
  },
  {
   "cell_type": "markdown",
   "id": "3a349f5b-6f53-40bb-8840-629c6724c808",
   "metadata": {},
   "source": [
    "My classmate Jack volunteered his spotify playlist which contains mostly classical music. "
   ]
  },
  {
   "cell_type": "code",
   "execution_count": 8,
   "id": "64976505-f389-42fd-8727-fa0dbe9e5aa8",
   "metadata": {},
   "outputs": [],
   "source": [
    "jacks_playlist_url = 'https://open.spotify.com/playlist/6UlskZAcTPzcGMnQaMnIVm?si=5cbb031d1fdd4064'"
   ]
  },
  {
   "cell_type": "code",
   "execution_count": 9,
   "id": "c1cf8c56-e024-4d2f-92bf-8855d210654c",
   "metadata": {},
   "outputs": [],
   "source": [
    "jacks_playlist_df = raw_data(jacks_playlist_url, 'jack')"
   ]
  },
  {
   "cell_type": "code",
   "execution_count": 10,
   "id": "33f5afaa-8187-41c6-a854-230d88015a3b",
   "metadata": {},
   "outputs": [
    {
     "data": {
      "text/html": [
       "<div>\n",
       "<style scoped>\n",
       "    .dataframe tbody tr th:only-of-type {\n",
       "        vertical-align: middle;\n",
       "    }\n",
       "\n",
       "    .dataframe tbody tr th {\n",
       "        vertical-align: top;\n",
       "    }\n",
       "\n",
       "    .dataframe thead th {\n",
       "        text-align: right;\n",
       "    }\n",
       "</style>\n",
       "<table border=\"1\" class=\"dataframe\">\n",
       "  <thead>\n",
       "    <tr style=\"text-align: right;\">\n",
       "      <th></th>\n",
       "      <th>track_uri</th>\n",
       "      <th>track_name</th>\n",
       "      <th>artist_name</th>\n",
       "      <th>artist_info</th>\n",
       "      <th>artist_uri</th>\n",
       "      <th>artist_popularity</th>\n",
       "      <th>artist_genre</th>\n",
       "      <th>album</th>\n",
       "      <th>track_pop</th>\n",
       "      <th>year_released</th>\n",
       "      <th>...</th>\n",
       "      <th>valence</th>\n",
       "      <th>tempo</th>\n",
       "      <th>type</th>\n",
       "      <th>id</th>\n",
       "      <th>uri</th>\n",
       "      <th>track_href</th>\n",
       "      <th>analysis_url</th>\n",
       "      <th>duration_ms</th>\n",
       "      <th>time_signature</th>\n",
       "      <th>genre</th>\n",
       "    </tr>\n",
       "  </thead>\n",
       "  <tbody>\n",
       "    <tr>\n",
       "      <th>0</th>\n",
       "      <td>1YzcrcgR3T2RwAZg5tSvYP</td>\n",
       "      <td>Die Walküre / Erster Aufzug: Orchestervorspiel</td>\n",
       "      <td>Richard Wagner</td>\n",
       "      <td>{'external_urls': {'spotify': 'https://open.sp...</td>\n",
       "      <td>1C1x4MVkql8AiABuTw6DgE</td>\n",
       "      <td>58</td>\n",
       "      <td>[classical, german opera, german romanticism, ...</td>\n",
       "      <td>Solti - Wagner - The Operas</td>\n",
       "      <td>14</td>\n",
       "      <td>2012-01-01</td>\n",
       "      <td>...</td>\n",
       "      <td>0.1640</td>\n",
       "      <td>113.033</td>\n",
       "      <td>audio_features</td>\n",
       "      <td>1YzcrcgR3T2RwAZg5tSvYP</td>\n",
       "      <td>spotify:track:1YzcrcgR3T2RwAZg5tSvYP</td>\n",
       "      <td>https://api.spotify.com/v1/tracks/1YzcrcgR3T2R...</td>\n",
       "      <td>https://api.spotify.com/v1/audio-analysis/1Yzc...</td>\n",
       "      <td>196000</td>\n",
       "      <td>3</td>\n",
       "      <td>jack</td>\n",
       "    </tr>\n",
       "    <tr>\n",
       "      <th>1</th>\n",
       "      <td>6JmduA0I9QYtD1RiHQgWjj</td>\n",
       "      <td>Götterdämmerung, WWV 86D, Act III: Siegfrieds ...</td>\n",
       "      <td>Richard Wagner</td>\n",
       "      <td>{'external_urls': {'spotify': 'https://open.sp...</td>\n",
       "      <td>1C1x4MVkql8AiABuTw6DgE</td>\n",
       "      <td>58</td>\n",
       "      <td>[classical, german opera, german romanticism, ...</td>\n",
       "      <td>Wagner: Götterdämmerung, WWV 86D</td>\n",
       "      <td>2</td>\n",
       "      <td>2018-11-09</td>\n",
       "      <td>...</td>\n",
       "      <td>0.0396</td>\n",
       "      <td>66.858</td>\n",
       "      <td>audio_features</td>\n",
       "      <td>6JmduA0I9QYtD1RiHQgWjj</td>\n",
       "      <td>spotify:track:6JmduA0I9QYtD1RiHQgWjj</td>\n",
       "      <td>https://api.spotify.com/v1/tracks/6JmduA0I9QYt...</td>\n",
       "      <td>https://api.spotify.com/v1/audio-analysis/6Jmd...</td>\n",
       "      <td>409787</td>\n",
       "      <td>3</td>\n",
       "      <td>jack</td>\n",
       "    </tr>\n",
       "    <tr>\n",
       "      <th>2</th>\n",
       "      <td>1U1i1HBJ5H8DY5J4fO8ySg</td>\n",
       "      <td>Tannhäuser: Overture</td>\n",
       "      <td>Richard Wagner</td>\n",
       "      <td>{'external_urls': {'spotify': 'https://open.sp...</td>\n",
       "      <td>1C1x4MVkql8AiABuTw6DgE</td>\n",
       "      <td>58</td>\n",
       "      <td>[classical, german opera, german romanticism, ...</td>\n",
       "      <td>Wagner: Orchestral Favourites</td>\n",
       "      <td>43</td>\n",
       "      <td>1994-01-01</td>\n",
       "      <td>...</td>\n",
       "      <td>0.0579</td>\n",
       "      <td>81.802</td>\n",
       "      <td>audio_features</td>\n",
       "      <td>1U1i1HBJ5H8DY5J4fO8ySg</td>\n",
       "      <td>spotify:track:1U1i1HBJ5H8DY5J4fO8ySg</td>\n",
       "      <td>https://api.spotify.com/v1/tracks/1U1i1HBJ5H8D...</td>\n",
       "      <td>https://api.spotify.com/v1/audio-analysis/1U1i...</td>\n",
       "      <td>853827</td>\n",
       "      <td>4</td>\n",
       "      <td>jack</td>\n",
       "    </tr>\n",
       "    <tr>\n",
       "      <th>3</th>\n",
       "      <td>5loYnrcJ1XTIbs0MXKntlr</td>\n",
       "      <td>Götterdämmerung, WWV 86D, Prologue: Siegfrieds...</td>\n",
       "      <td>Richard Wagner</td>\n",
       "      <td>{'external_urls': {'spotify': 'https://open.sp...</td>\n",
       "      <td>1C1x4MVkql8AiABuTw6DgE</td>\n",
       "      <td>58</td>\n",
       "      <td>[classical, german opera, german romanticism, ...</td>\n",
       "      <td>Wagner: Götterdämmerung, WWV 86D</td>\n",
       "      <td>0</td>\n",
       "      <td>2018-11-09</td>\n",
       "      <td>...</td>\n",
       "      <td>0.0622</td>\n",
       "      <td>128.729</td>\n",
       "      <td>audio_features</td>\n",
       "      <td>5loYnrcJ1XTIbs0MXKntlr</td>\n",
       "      <td>spotify:track:5loYnrcJ1XTIbs0MXKntlr</td>\n",
       "      <td>https://api.spotify.com/v1/tracks/5loYnrcJ1XTI...</td>\n",
       "      <td>https://api.spotify.com/v1/audio-analysis/5loY...</td>\n",
       "      <td>309053</td>\n",
       "      <td>3</td>\n",
       "      <td>jack</td>\n",
       "    </tr>\n",
       "    <tr>\n",
       "      <th>4</th>\n",
       "      <td>3ci6KfIfr3UiIRgJ3WVYhd</td>\n",
       "      <td>Piano Concerto No. 1 in D Minor, Op. 15: I. Ma...</td>\n",
       "      <td>Johannes Brahms</td>\n",
       "      <td>{'external_urls': {'spotify': 'https://open.sp...</td>\n",
       "      <td>5wTAi7QkpP6kp8a54lmTOq</td>\n",
       "      <td>68</td>\n",
       "      <td>[classical, german romanticism, late romantic ...</td>\n",
       "      <td>Brahms: Piano Concerto No.1</td>\n",
       "      <td>30</td>\n",
       "      <td>2005-01-01</td>\n",
       "      <td>...</td>\n",
       "      <td>0.0395</td>\n",
       "      <td>87.459</td>\n",
       "      <td>audio_features</td>\n",
       "      <td>3ci6KfIfr3UiIRgJ3WVYhd</td>\n",
       "      <td>spotify:track:3ci6KfIfr3UiIRgJ3WVYhd</td>\n",
       "      <td>https://api.spotify.com/v1/tracks/3ci6KfIfr3Ui...</td>\n",
       "      <td>https://api.spotify.com/v1/audio-analysis/3ci6...</td>\n",
       "      <td>1407000</td>\n",
       "      <td>4</td>\n",
       "      <td>jack</td>\n",
       "    </tr>\n",
       "  </tbody>\n",
       "</table>\n",
       "<p>5 rows × 29 columns</p>\n",
       "</div>"
      ],
      "text/plain": [
       "                track_uri                                         track_name  \\\n",
       "0  1YzcrcgR3T2RwAZg5tSvYP     Die Walküre / Erster Aufzug: Orchestervorspiel   \n",
       "1  6JmduA0I9QYtD1RiHQgWjj  Götterdämmerung, WWV 86D, Act III: Siegfrieds ...   \n",
       "2  1U1i1HBJ5H8DY5J4fO8ySg                               Tannhäuser: Overture   \n",
       "3  5loYnrcJ1XTIbs0MXKntlr  Götterdämmerung, WWV 86D, Prologue: Siegfrieds...   \n",
       "4  3ci6KfIfr3UiIRgJ3WVYhd  Piano Concerto No. 1 in D Minor, Op. 15: I. Ma...   \n",
       "\n",
       "       artist_name                                        artist_info  \\\n",
       "0   Richard Wagner  {'external_urls': {'spotify': 'https://open.sp...   \n",
       "1   Richard Wagner  {'external_urls': {'spotify': 'https://open.sp...   \n",
       "2   Richard Wagner  {'external_urls': {'spotify': 'https://open.sp...   \n",
       "3   Richard Wagner  {'external_urls': {'spotify': 'https://open.sp...   \n",
       "4  Johannes Brahms  {'external_urls': {'spotify': 'https://open.sp...   \n",
       "\n",
       "               artist_uri  artist_popularity  \\\n",
       "0  1C1x4MVkql8AiABuTw6DgE                 58   \n",
       "1  1C1x4MVkql8AiABuTw6DgE                 58   \n",
       "2  1C1x4MVkql8AiABuTw6DgE                 58   \n",
       "3  1C1x4MVkql8AiABuTw6DgE                 58   \n",
       "4  5wTAi7QkpP6kp8a54lmTOq                 68   \n",
       "\n",
       "                                        artist_genre  \\\n",
       "0  [classical, german opera, german romanticism, ...   \n",
       "1  [classical, german opera, german romanticism, ...   \n",
       "2  [classical, german opera, german romanticism, ...   \n",
       "3  [classical, german opera, german romanticism, ...   \n",
       "4  [classical, german romanticism, late romantic ...   \n",
       "\n",
       "                              album  track_pop year_released  ...  valence  \\\n",
       "0       Solti - Wagner - The Operas         14    2012-01-01  ...   0.1640   \n",
       "1  Wagner: Götterdämmerung, WWV 86D          2    2018-11-09  ...   0.0396   \n",
       "2     Wagner: Orchestral Favourites         43    1994-01-01  ...   0.0579   \n",
       "3  Wagner: Götterdämmerung, WWV 86D          0    2018-11-09  ...   0.0622   \n",
       "4       Brahms: Piano Concerto No.1         30    2005-01-01  ...   0.0395   \n",
       "\n",
       "     tempo            type                      id  \\\n",
       "0  113.033  audio_features  1YzcrcgR3T2RwAZg5tSvYP   \n",
       "1   66.858  audio_features  6JmduA0I9QYtD1RiHQgWjj   \n",
       "2   81.802  audio_features  1U1i1HBJ5H8DY5J4fO8ySg   \n",
       "3  128.729  audio_features  5loYnrcJ1XTIbs0MXKntlr   \n",
       "4   87.459  audio_features  3ci6KfIfr3UiIRgJ3WVYhd   \n",
       "\n",
       "                                    uri  \\\n",
       "0  spotify:track:1YzcrcgR3T2RwAZg5tSvYP   \n",
       "1  spotify:track:6JmduA0I9QYtD1RiHQgWjj   \n",
       "2  spotify:track:1U1i1HBJ5H8DY5J4fO8ySg   \n",
       "3  spotify:track:5loYnrcJ1XTIbs0MXKntlr   \n",
       "4  spotify:track:3ci6KfIfr3UiIRgJ3WVYhd   \n",
       "\n",
       "                                          track_href  \\\n",
       "0  https://api.spotify.com/v1/tracks/1YzcrcgR3T2R...   \n",
       "1  https://api.spotify.com/v1/tracks/6JmduA0I9QYt...   \n",
       "2  https://api.spotify.com/v1/tracks/1U1i1HBJ5H8D...   \n",
       "3  https://api.spotify.com/v1/tracks/5loYnrcJ1XTI...   \n",
       "4  https://api.spotify.com/v1/tracks/3ci6KfIfr3Ui...   \n",
       "\n",
       "                                        analysis_url  duration_ms  \\\n",
       "0  https://api.spotify.com/v1/audio-analysis/1Yzc...       196000   \n",
       "1  https://api.spotify.com/v1/audio-analysis/6Jmd...       409787   \n",
       "2  https://api.spotify.com/v1/audio-analysis/1U1i...       853827   \n",
       "3  https://api.spotify.com/v1/audio-analysis/5loY...       309053   \n",
       "4  https://api.spotify.com/v1/audio-analysis/3ci6...      1407000   \n",
       "\n",
       "   time_signature  genre  \n",
       "0               3   jack  \n",
       "1               3   jack  \n",
       "2               4   jack  \n",
       "3               3   jack  \n",
       "4               4   jack  \n",
       "\n",
       "[5 rows x 29 columns]"
      ]
     },
     "execution_count": 10,
     "metadata": {},
     "output_type": "execute_result"
    }
   ],
   "source": [
    "jacks_playlist_df.head()"
   ]
  },
  {
   "cell_type": "markdown",
   "id": "1297b011-45e5-4feb-97ce-30ef443bc2d8",
   "metadata": {
    "tags": []
   },
   "source": [
    "#### Exporta Jack's playlist as a csv"
   ]
  },
  {
   "cell_type": "code",
   "execution_count": null,
   "id": "959afc39-befd-4e0f-a4a0-6e03620c12d0",
   "metadata": {},
   "outputs": [],
   "source": [
    "jacks_playlist_df.to_csv('../data/jack.csv', index = False)"
   ]
  },
  {
   "cell_type": "markdown",
   "id": "eeac0522-11a5-4b12-ae58-d7f9858d30b7",
   "metadata": {},
   "source": [
    "#### Ankita playlist"
   ]
  },
  {
   "cell_type": "markdown",
   "id": "6ede8ce2-9bd6-4ad2-91ab-dc1354140d35",
   "metadata": {},
   "source": [
    "Ankita, also a classmate, gave me her spotify url. Her playlist is a mixture of pop and Indian music"
   ]
  },
  {
   "cell_type": "code",
   "execution_count": null,
   "id": "dd7cf03f-8969-4412-8d27-f897279990a2",
   "metadata": {},
   "outputs": [],
   "source": [
    "ankita_playlist_url = 'https://open.spotify.com/playlist/6qzbkhrmxdFj5TtaXR0sfI?si=ElY40mMjQ7apOsHTGlQI7A'"
   ]
  },
  {
   "cell_type": "code",
   "execution_count": null,
   "id": "93b7ac8f-74c7-4741-aa62-020cfd897ea1",
   "metadata": {
    "tags": []
   },
   "outputs": [],
   "source": [
    "ankita_playlist_df = raw_data(ankita_playlist_url, 'ankita')"
   ]
  },
  {
   "cell_type": "code",
   "execution_count": null,
   "id": "9dbde090-fbe2-4f94-bf4a-dfd4f6824c7b",
   "metadata": {},
   "outputs": [],
   "source": [
    "ankita_playlist_df.head()"
   ]
  },
  {
   "cell_type": "markdown",
   "id": "1cd69214-ca09-4d67-81f8-4d30c30e5f13",
   "metadata": {
    "tags": []
   },
   "source": [
    "#### Export Ankita's playlist as a csv"
   ]
  },
  {
   "cell_type": "code",
   "execution_count": null,
   "id": "e3dc3566-ef5f-40ee-b42b-6f3b02952ed4",
   "metadata": {},
   "outputs": [],
   "source": [
    "ankita_playlist_df.to_csv('../data/ankita.csv', index = False)"
   ]
  },
  {
   "cell_type": "markdown",
   "id": "a7b18924-660d-4ca5-8f6e-dc5dfb4c44f9",
   "metadata": {},
   "source": [
    "#### Playlist featuring top songs from Fela"
   ]
  },
  {
   "cell_type": "markdown",
   "id": "12c0e15d-bc08-439f-ae42-a059773fa161",
   "metadata": {},
   "source": [
    "Fela pioneered the Afrobeats sound. He called his sound Afrobeat (without the s). I will compare the difference in sounds in the EDA section"
   ]
  },
  {
   "cell_type": "code",
   "execution_count": null,
   "id": "ef299721-0498-410b-a23b-d76f92bd7693",
   "metadata": {},
   "outputs": [],
   "source": [
    "fela_playlist_url = 'https://open.spotify.com/playlist/1bSsiqaBobgbnZTTVEo4Qh?si=3093a84902434561'"
   ]
  },
  {
   "cell_type": "code",
   "execution_count": null,
   "id": "42278e09-11bf-4c1a-8ed4-93a22db2c2c5",
   "metadata": {},
   "outputs": [],
   "source": [
    "fela_playlist_df = raw_data(fela_playlist_url, 'fela')"
   ]
  },
  {
   "cell_type": "code",
   "execution_count": null,
   "id": "46015183-3739-4a32-bcb2-80b267f234e5",
   "metadata": {},
   "outputs": [],
   "source": [
    "fela_playlist_df.head(2)"
   ]
  },
  {
   "cell_type": "markdown",
   "id": "56cfc713-2eea-4f72-8809-a3f3fe825b3b",
   "metadata": {
    "tags": []
   },
   "source": [
    "#### Exporta fela playlist as a csv"
   ]
  },
  {
   "cell_type": "code",
   "execution_count": null,
   "id": "743a51bf-3905-4913-befc-69428a23954f",
   "metadata": {},
   "outputs": [],
   "source": [
    "fela_playlist_df.to_csv('../data/fela.csv', index = False)"
   ]
  },
  {
   "cell_type": "code",
   "execution_count": null,
   "id": "e43dae65-c2fb-4b9e-89a9-a8fb8b56dbe5",
   "metadata": {},
   "outputs": [],
   "source": []
  },
  {
   "cell_type": "code",
   "execution_count": null,
   "id": "e5746a2d-eedb-49cd-b2d2-fe537bfe65b0",
   "metadata": {},
   "outputs": [],
   "source": []
  },
  {
   "cell_type": "markdown",
   "id": "d444e7de-3e66-41dc-bb89-aaa20be8ee91",
   "metadata": {},
   "source": [
    "#### Heavy metal playlist"
   ]
  },
  {
   "cell_type": "code",
   "execution_count": null,
   "id": "06043d13-daf0-4050-b38c-8fe1da6c0d3d",
   "metadata": {},
   "outputs": [],
   "source": [
    "heavy_metal_playlist_url = 'https://open.spotify.com/playlist/37i9dQZF1DX9qNs32fujYe?si=8686a89d3fb7415b'"
   ]
  },
  {
   "cell_type": "code",
   "execution_count": null,
   "id": "41cd9b9c-f882-4e5c-92fd-ee4f53fb79e5",
   "metadata": {
    "tags": []
   },
   "outputs": [],
   "source": [
    "heavy_metal_playlist_df = raw_data(heavy_metal_playlist_url, 'heavy_metal')"
   ]
  },
  {
   "cell_type": "code",
   "execution_count": null,
   "id": "65cb16ad-d19b-4e50-a487-3cda2e87a646",
   "metadata": {},
   "outputs": [],
   "source": [
    "heavy_metal_playlist_df.head(2)"
   ]
  },
  {
   "cell_type": "markdown",
   "id": "47d46eff-b712-495d-ab24-55caef3c31e0",
   "metadata": {
    "tags": []
   },
   "source": [
    "#### Export heavy metal playlist as a csv"
   ]
  },
  {
   "cell_type": "code",
   "execution_count": null,
   "id": "c0e3152c-aa54-4fb1-b588-c60867ce058b",
   "metadata": {},
   "outputs": [],
   "source": [
    "heavy_metal_playlist_df.to_csv('../data/heavymetal.csv', index = False)"
   ]
  },
  {
   "cell_type": "markdown",
   "id": "281910b5-bbe7-4aab-8fc5-306b3ea390f3",
   "metadata": {},
   "source": [
    "#### Rock playlist"
   ]
  },
  {
   "cell_type": "code",
   "execution_count": null,
   "id": "3f12ca18-44cb-4a24-825b-5a5cbcad1d91",
   "metadata": {},
   "outputs": [],
   "source": [
    "rock_playlist_url = 'https://open.spotify.com/playlist/37i9dQZF1DXcF6B6QPhFDv?si=53be43146b8f4585'"
   ]
  },
  {
   "cell_type": "code",
   "execution_count": null,
   "id": "6dad68a8-337c-4fd7-bf0b-d17bd9f16d48",
   "metadata": {
    "tags": []
   },
   "outputs": [],
   "source": [
    "rock_playlist_df = raw_data(rock_playlist_url, 'rock')"
   ]
  },
  {
   "cell_type": "code",
   "execution_count": null,
   "id": "b5f63c4f-4363-4d2e-8845-1d3d0a11d66c",
   "metadata": {},
   "outputs": [],
   "source": [
    "rock_playlist_df.head(2)"
   ]
  },
  {
   "cell_type": "markdown",
   "id": "833692fd-2b72-4c24-8674-22c3dc37ad71",
   "metadata": {
    "tags": []
   },
   "source": [
    "#### Export rock playlist as a csv"
   ]
  },
  {
   "cell_type": "code",
   "execution_count": null,
   "id": "e13e16f8-44a0-4e1d-9505-eab1be426e6c",
   "metadata": {},
   "outputs": [],
   "source": [
    "rock_playlist_df.to_csv('../data/rock.csv', index = False)"
   ]
  },
  {
   "cell_type": "markdown",
   "id": "d08024b9-6dca-425f-a43c-ff2bf5fe245c",
   "metadata": {},
   "source": [
    "#### Jazz playlist"
   ]
  },
  {
   "cell_type": "code",
   "execution_count": null,
   "id": "cf8617ae-a5ab-4719-b101-3521c3e4ca3a",
   "metadata": {},
   "outputs": [],
   "source": [
    "jazz_playlist_url = 'https://open.spotify.com/playlist/37i9dQZF1DXdwTUxmGKrdN?si=a054d3423fca4687'"
   ]
  },
  {
   "cell_type": "code",
   "execution_count": null,
   "id": "2347ee49-56ac-48f6-a574-d5c67d65633e",
   "metadata": {
    "tags": []
   },
   "outputs": [],
   "source": [
    "jazz_playlist_df = raw_data(jazz_playlist_url, 'jazz')"
   ]
  },
  {
   "cell_type": "code",
   "execution_count": null,
   "id": "438535bc-23c1-41af-82d1-5ac1b05d08e1",
   "metadata": {},
   "outputs": [],
   "source": [
    "jazz_playlist_df.head(2)"
   ]
  },
  {
   "cell_type": "markdown",
   "id": "625c8e09-175b-4657-b0a1-306c0baaaa78",
   "metadata": {
    "tags": []
   },
   "source": [
    "#### Export jazz playlist as a csv"
   ]
  },
  {
   "cell_type": "code",
   "execution_count": null,
   "id": "98a6a7f6-949b-4e88-a51d-a9ccaa18d8f5",
   "metadata": {},
   "outputs": [],
   "source": [
    "jazz_playlist_df.to_csv('../data/jazz.csv', index = False)"
   ]
  },
  {
   "cell_type": "markdown",
   "id": "97e07239-32f3-4bed-8047-b143c27eaf8a",
   "metadata": {},
   "source": [
    "#### Country playlist"
   ]
  },
  {
   "cell_type": "code",
   "execution_count": null,
   "id": "058631d1-d210-48b9-a90f-3308ca292878",
   "metadata": {},
   "outputs": [],
   "source": [
    "country_playlist_url = 'https://open.spotify.com/playlist/37i9dQZF1DWXdiK4WAVRUW?si=56683bfa3aca4788'"
   ]
  },
  {
   "cell_type": "code",
   "execution_count": null,
   "id": "d801f990-d4bd-4293-a89f-956fc140e435",
   "metadata": {
    "tags": []
   },
   "outputs": [],
   "source": [
    "country_playlist_df = raw_data(country_playlist_url, 'country')"
   ]
  },
  {
   "cell_type": "code",
   "execution_count": null,
   "id": "0bb0c24c-6130-4c0d-8016-f7f4b495912c",
   "metadata": {},
   "outputs": [],
   "source": [
    "country_playlist_df.head(2)"
   ]
  },
  {
   "cell_type": "markdown",
   "id": "f8d0d5d4-ddb5-4264-a8e4-491379242509",
   "metadata": {
    "tags": []
   },
   "source": [
    "#### Export country playlist as a csv"
   ]
  },
  {
   "cell_type": "code",
   "execution_count": null,
   "id": "0d98cc90-27e8-42d8-813d-f2b4a04d318d",
   "metadata": {},
   "outputs": [],
   "source": [
    "country_playlist_df.to_csv('../data/country.csv', index = False)"
   ]
  },
  {
   "cell_type": "markdown",
   "id": "9e05533e-a349-4399-af68-6b91f25bda21",
   "metadata": {},
   "source": [
    "#### Hip Hop playlist"
   ]
  },
  {
   "cell_type": "code",
   "execution_count": null,
   "id": "fb8502bb-3196-4e87-9a07-650fad5476fe",
   "metadata": {},
   "outputs": [],
   "source": [
    "hiphop_playlist_url = 'https://open.spotify.com/playlist/37i9dQZF1DX97h7ftpNSYT?si=5b73c05e83c9410f'"
   ]
  },
  {
   "cell_type": "code",
   "execution_count": null,
   "id": "b8b4577a-7bd1-4e6c-873a-f7afead68b3d",
   "metadata": {
    "tags": []
   },
   "outputs": [],
   "source": [
    "hiphop_playlist_df = raw_data(hiphop_playlist_url, 'hiphop')"
   ]
  },
  {
   "cell_type": "code",
   "execution_count": null,
   "id": "48b7284a-b5c3-4203-9e05-239ddd1923d0",
   "metadata": {},
   "outputs": [],
   "source": [
    "hiphop_playlist_df.head(2)"
   ]
  },
  {
   "cell_type": "markdown",
   "id": "a9722f26-d28f-4a6a-b5e0-96f5c198eb80",
   "metadata": {
    "tags": []
   },
   "source": [
    "#### Export Hip Hop playlist as a csv"
   ]
  },
  {
   "cell_type": "code",
   "execution_count": null,
   "id": "04a65a27-1119-4d94-8eb0-f144238e6e39",
   "metadata": {},
   "outputs": [],
   "source": [
    "hiphop_playlist_df.to_csv('../data/hiphop.csv', index = False)"
   ]
  },
  {
   "cell_type": "markdown",
   "id": "002b7038-8a16-4f8a-a7bb-e01cd0e7f41b",
   "metadata": {},
   "source": [
    "#### RnB playlist"
   ]
  },
  {
   "cell_type": "code",
   "execution_count": null,
   "id": "9dbe70df-ef45-4092-b23e-3034faceb940",
   "metadata": {},
   "outputs": [],
   "source": [
    "rnb_playlist_url = 'https://open.spotify.com/playlist/37i9dQZF1DWXbttAJcbphz?si=aa6c61a73e1a4c24'"
   ]
  },
  {
   "cell_type": "code",
   "execution_count": null,
   "id": "0ea27a02-9c1a-4148-a949-d22175383b4c",
   "metadata": {
    "tags": []
   },
   "outputs": [],
   "source": [
    "rnb_playlist_df = raw_data(rnb_playlist_url, 'rnb')"
   ]
  },
  {
   "cell_type": "code",
   "execution_count": null,
   "id": "02a0f135-a231-481a-8a06-10c0bda23b59",
   "metadata": {},
   "outputs": [],
   "source": [
    "rnb_playlist_df.head(2)"
   ]
  },
  {
   "cell_type": "markdown",
   "id": "92533e71-f0d3-4329-b877-0b0eb465b612",
   "metadata": {
    "tags": []
   },
   "source": [
    "#### Export rnb playlist as a csv"
   ]
  },
  {
   "cell_type": "code",
   "execution_count": null,
   "id": "041c8942-3c37-46cd-ab1d-12d8c76e3f9b",
   "metadata": {},
   "outputs": [],
   "source": [
    "rnb_playlist_df.to_csv('../data/rnb.csv', index = False)"
   ]
  },
  {
   "cell_type": "markdown",
   "id": "4649aab6-0049-4d08-acf5-38a6166f41b9",
   "metadata": {},
   "source": [
    "The next notebook features me performing exploratory data analysis on the csv exported. "
   ]
  }
 ],
 "metadata": {
  "kernelspec": {
   "display_name": "Python 3 (ipykernel)",
   "language": "python",
   "name": "python3"
  },
  "language_info": {
   "codemirror_mode": {
    "name": "ipython",
    "version": 3
   },
   "file_extension": ".py",
   "mimetype": "text/x-python",
   "name": "python",
   "nbconvert_exporter": "python",
   "pygments_lexer": "ipython3",
   "version": "3.10.2"
  },
  "widgets": {
   "application/vnd.jupyter.widget-state+json": {
    "state": {},
    "version_major": 2,
    "version_minor": 0
   }
  }
 },
 "nbformat": 4,
 "nbformat_minor": 5
}
